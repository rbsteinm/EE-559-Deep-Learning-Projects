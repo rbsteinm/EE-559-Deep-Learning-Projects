{
 "cells": [
  {
   "cell_type": "code",
   "execution_count": 1,
   "metadata": {},
   "outputs": [],
   "source": [
    "from torch import FloatTensor, LongTensor, Tensor\n",
    "import math"
   ]
  },
  {
   "cell_type": "markdown",
   "metadata": {},
   "source": [
    "## Module Superclass"
   ]
  },
  {
   "cell_type": "code",
   "execution_count": 2,
   "metadata": {},
   "outputs": [],
   "source": [
    "class Module(object):\n",
    "    def forward(self, *input_):\n",
    "        raise NotImplementedError\n",
    "        \n",
    "    def backward(self, *gradwrtoutput):\n",
    "        raise NotImplementedError\n",
    "        \n",
    "    def param(self):\n",
    "        return []"
   ]
  },
  {
   "cell_type": "markdown",
   "metadata": {},
   "source": [
    "## ReLU Module\n",
    "\n",
    "ReLU function: \n",
    "\\begin{equation}\n",
    "f(x) = max(0, x)\n",
    "\\end{equation}\n",
    "\n",
    "the derivative of ReLU is\n",
    "\n",
    "\\begin{equation} \n",
    "f'(x)=\n",
    "    \\begin{cases}\n",
    "      1, & \\text{if}\\ x>0 \\\\\n",
    "      0, & \\text{otherwise}\n",
    "    \\end{cases}\n",
    "\\end{equation}"
   ]
  },
  {
   "cell_type": "code",
   "execution_count": 3,
   "metadata": {},
   "outputs": [],
   "source": [
    "# This module represents the ReLU activation function\n",
    "class ReLU(Module):\n",
    "    def __init__(self):\n",
    "        self.z = None\n",
    "    \n",
    "    # input_: the tensor outputed by the current layer\n",
    "    def forward(self, input_):\n",
    "        self.z = input_.clone()\n",
    "        input_[input_ < 0] = 0\n",
    "        return input_\n",
    "        \n",
    "    def backward(self, gradwrtoutput):\n",
    "        da = gradwrtoutput\n",
    "        tensor = self.z.clone()\n",
    "        # g'(z)\n",
    "        tensor[tensor > 0] = 1\n",
    "        tensor[tensor < 0] = 0\n",
    "        # dz[l]\n",
    "        return da.mul(tensor)\n",
    "        \n",
    "    def param(self):\n",
    "        return []\n",
    "    \n",
    "    def zero_grad(self):\n",
    "        pass"
   ]
  },
  {
   "cell_type": "markdown",
   "metadata": {},
   "source": [
    "## Tanh Module"
   ]
  },
  {
   "cell_type": "code",
   "execution_count": 4,
   "metadata": {},
   "outputs": [],
   "source": [
    "class Tanh(Module):   \n",
    "    def __init__(self):\n",
    "        self.z = None\n",
    "    \n",
    "    # input_: the tensor outputed by the current layer\n",
    "    def forward(self, input_):\n",
    "        self.z = input_\n",
    "        return input_.tanh()\n",
    "        \n",
    "    def backward(self, gradwrtoutput):\n",
    "        da = gradwrtoutput\n",
    "        # g'(z)\n",
    "        g_prime = (1 - self.z.tanh().pow(2))\n",
    "        # dz[l]\n",
    "        return da.mul(g_prime)\n",
    "        \n",
    "    def param(self):\n",
    "        return []\n",
    "    \n",
    "    def zero_grad(self):\n",
    "        pass"
   ]
  },
  {
   "cell_type": "markdown",
   "metadata": {},
   "source": [
    "## Linear Module\n",
    "fully connected layer"
   ]
  },
  {
   "cell_type": "code",
   "execution_count": 5,
   "metadata": {},
   "outputs": [],
   "source": [
    "class Linear(Module):   \n",
    "    def __init__(self, in_dim, out_dim):\n",
    "        # keep track of the weigths, the biases and the output of the previous layer's activation function\n",
    "        self.x_previous_layer = None\n",
    "        # intialize the weights and biases with a normal(0,1) distribution\n",
    "        self.w = Tensor(out_dim,in_dim).normal_()\n",
    "        self.b = Tensor(out_dim,1).normal_()\n",
    "        # init the gradient of the loss wrt w / b\n",
    "        self.grad_w_sum = Tensor(self.w.size()).zero_()\n",
    "        self.grad_b_sum = Tensor(self.b.size()).zero_()\n",
    "    \n",
    "    # input_: the output of the previous layer's activation function\n",
    "    def forward(self, input_):\n",
    "        self.x_previous_layer = input_\n",
    "        return (self.w.mm(input_.t()) + self.b).t()\n",
    "        \n",
    "    def backward(self, gradwrtoutput):\n",
    "        dz = gradwrtoutput.t()\n",
    "        dw = dz.mm(self.x_previous_layer)\n",
    "        db = dz\n",
    "        # sum the gradients for the weights and biases\n",
    "        self.grad_w_sum += dw\n",
    "        self.grad_b_sum += db.sum(1).unsqueeze(1)\n",
    "        return (self.w.t().mm(dz)).t()\n",
    "        \n",
    "    # returns a list of pairs, each composed of a parameter tensor and a gradient tensor\n",
    "    # parameters: weights and biases\n",
    "    def param(self):\n",
    "        return [ (self.w, self.grad_w_sum), (self.b, self.grad_b_sum) ]\n",
    "    \n",
    "    def zero_grad(self):\n",
    "        self.grad_w_sum.zero_()\n",
    "        self.grad_b_sum.zero_()"
   ]
  },
  {
   "cell_type": "markdown",
   "metadata": {},
   "source": [
    "## Sequential Module\n",
    "to combine several modules in basic sequential structure"
   ]
  },
  {
   "cell_type": "code",
   "execution_count": 6,
   "metadata": {},
   "outputs": [],
   "source": [
    "# This module allows to combine several modules (layers, activation functions) in a basic sequential structure\n",
    "class Sequential(Module):    \n",
    "    def __init__(self, *layers_):\n",
    "        self.modules = layers_\n",
    "        \n",
    "    # input_: the input data is a minibatch whose columns are features and lines are samples\n",
    "    def forward(self, input_):\n",
    "        x = input_\n",
    "        for module in self.modules:\n",
    "            x = module.forward(x)\n",
    "        return x\n",
    "        \n",
    "    def backward(self, gradwrtoutput):\n",
    "        x = gradwrtoutput\n",
    "        for module in reversed(self.modules):\n",
    "            x = module.backward(x)\n",
    "        return x\n",
    "        \n",
    "    # returns a flatened list of each module's parameters\n",
    "    # each parameter in the list is represented as a tuple containing the parameter tensor (e.g. w)\n",
    "    # and the gradient tensor (e.g. dl/dw)\n",
    "    def param(self):\n",
    "        return [ p for module in self.modules for p in module.param() ]\n",
    "    \n",
    "    # s,\n",
    "    def zero_grad(self):\n",
    "        for module in self.modules:\n",
    "            module.zero_grad()"
   ]
  },
  {
   "cell_type": "markdown",
   "metadata": {},
   "source": [
    "## MSE Loss Function"
   ]
  },
  {
   "cell_type": "code",
   "execution_count": 7,
   "metadata": {},
   "outputs": [],
   "source": [
    "class LossMSE(Module): \n",
    "    def __init__(self):\n",
    "        self.error = None\n",
    "        \n",
    "    def forward(self, preds, labels):\n",
    "        self.error = preds - labels\n",
    "        return self.error.pow(2).sum()\n",
    "        \n",
    "    def backward(self):\n",
    "        return 2 * self.error\n",
    "        \n",
    "    def param(self):\n",
    "        return []"
   ]
  },
  {
   "cell_type": "markdown",
   "metadata": {},
   "source": [
    "## Cross-entropy Loss Function"
   ]
  },
  {
   "cell_type": "code",
   "execution_count": 8,
   "metadata": {},
   "outputs": [],
   "source": [
    "class LossCrossEntropy(Module): \n",
    "    def __init__(self):\n",
    "        self.p = None\n",
    "        self.c = None\n",
    "        \n",
    "    # stabilized version of softmax: convert each prediction to a probability\n",
    "    # to avoid nans due to big exponentials\n",
    "    def softmax(self, t):\n",
    "        stable_exp = (t - t.max(1)[0].unsqueeze(1)).exp()\n",
    "        return stable_exp / (stable_exp.sum(1).unsqueeze(1))\n",
    "        \n",
    "    def forward(self, preds, labels):\n",
    "        self.p = self.softmax(preds)\n",
    "        self.c = labels\n",
    "        return -(self.c * self.p.log()).sum()\n",
    "        \n",
    "    def backward(self):\n",
    "        return(self.p-self.c)\n",
    "        \n",
    "    def param(self):\n",
    "        return []"
   ]
  },
  {
   "cell_type": "markdown",
   "metadata": {},
   "source": [
    "## SGD optimization"
   ]
  },
  {
   "cell_type": "code",
   "execution_count": 9,
   "metadata": {},
   "outputs": [],
   "source": [
    "class optim_SGD(Module):\n",
    "    # parameters: the parameters of the Sequential module\n",
    "    def __init__(self, parameters, learning_rate):\n",
    "        self.param = parameters #[ p.shallow() for tup in parameters for p in tup ]\n",
    "        self.lr = learning_rate\n",
    "        \n",
    "    # performs a gradient step (SGD) for all parameters\n",
    "    def step(self):\n",
    "        for (p, grad_p) in self.param:\n",
    "            p.sub_(self.lr*grad_p)"
   ]
  },
  {
   "cell_type": "markdown",
   "metadata": {},
   "source": [
    "## Helpers"
   ]
  },
  {
   "cell_type": "code",
   "execution_count": 10,
   "metadata": {},
   "outputs": [],
   "source": [
    "def generate_disc_set(nb):\n",
    "    a = Tensor(nb, 2).uniform_(0, 1)\n",
    "    target = (((a-0.5).pow(2).sum(1)).sqrt() < math.sqrt(1/(2*math.pi))).long()\n",
    "    return a, target"
   ]
  },
  {
   "cell_type": "code",
   "execution_count": 11,
   "metadata": {},
   "outputs": [],
   "source": [
    "# converts 'target' Tensor to one hot labels\n",
    "def convert_to_one_hot(target):\n",
    "    tmp = FloatTensor(target.size(0), 2).fill_(0)\n",
    "    for k in range(0, target.size(0)):\n",
    "        tmp[k, target[k]] = 1\n",
    "    return tmp"
   ]
  },
  {
   "cell_type": "code",
   "execution_count": 12,
   "metadata": {},
   "outputs": [],
   "source": [
    "def compute_accuracy(model, input_, target):\n",
    "    nb_data_errors = 0\n",
    "    output = model.forward(input_)\n",
    "\n",
    "    _, predicted_classes = output.max(1)\n",
    "    for k in range(input_.size(0)):\n",
    "        if target[k] != predicted_classes[k]:\n",
    "            nb_data_errors = nb_data_errors + 1\n",
    "    return 100 - (100*(nb_data_errors / input_.size(0)))"
   ]
  },
  {
   "cell_type": "code",
   "execution_count": 13,
   "metadata": {
    "scrolled": true
   },
   "outputs": [],
   "source": [
    "def train_model(train_input, train_one_hot_target, model, criterion, optimizer, nb_epochs=100, mini_batch_size=5, verbose=False):\n",
    "    for e in range(0, nb_epochs):\n",
    "        loss = 0\n",
    "        for b in range(0, train_input.size(0), mini_batch_size):\n",
    "            output = model.forward(train_input.narrow(0, b, mini_batch_size))\n",
    "            # sum the loss for each batch to get the current epoch's loss\n",
    "            loss += criterion.forward(output, train_one_hot_target.narrow(0, b, mini_batch_size))\n",
    "            # set the gradients of all layers to zero before the next batch can go through the network\n",
    "            model.zero_grad()\n",
    "            model.backward(criterion.backward())\n",
    "            optimizer.step() # performs a gradient step to optimize the parameters\n",
    "        if verbose:\n",
    "            print(\"Epoch\", e+1, \":\", loss)"
   ]
  },
  {
   "cell_type": "markdown",
   "metadata": {},
   "source": [
    "## Test file"
   ]
  },
  {
   "cell_type": "code",
   "execution_count": 14,
   "metadata": {},
   "outputs": [],
   "source": [
    "# generate training and testing data\n",
    "train_input, train_target = generate_disc_set(1000)\n",
    "test_input, test_target = generate_disc_set(1000)\n",
    "\n",
    "# convert targets to one hot labels\n",
    "train_one_hot_target = convert_to_one_hot(train_target)\n",
    "test_one_hot_target = convert_to_one_hot(test_target)"
   ]
  },
  {
   "cell_type": "code",
   "execution_count": 15,
   "metadata": {},
   "outputs": [
    {
     "data": {
      "text/plain": [
       "506"
      ]
     },
     "execution_count": 15,
     "metadata": {},
     "output_type": "execute_result"
    }
   ],
   "source": [
    "train_target.sum()"
   ]
  },
  {
   "cell_type": "code",
   "execution_count": 16,
   "metadata": {},
   "outputs": [
    {
     "name": "stdout",
     "output_type": "stream",
     "text": [
      "Epoch 1 : 758.0199315973441\n",
      "Epoch 2 : 296.6092055734043\n",
      "Epoch 3 : 197.67283817746466\n",
      "Epoch 4 : 167.65694955298204\n",
      "Epoch 5 : 151.76528120001421\n",
      "Epoch 6 : 141.9750021950149\n",
      "Epoch 7 : 134.8398970694543\n",
      "Epoch 8 : 129.22230606994526\n",
      "Epoch 9 : 124.60645500844294\n",
      "Epoch 10 : 120.69821669754856\n",
      "Epoch 11 : 117.31153733971951\n",
      "Epoch 12 : 114.31890583731274\n",
      "Epoch 13 : 111.62717726784194\n",
      "Epoch 14 : 109.16543072008972\n",
      "Epoch 15 : 106.88049628996032\n",
      "Epoch 16 : 104.72981941302533\n",
      "Epoch 17 : 102.67470442627018\n",
      "Epoch 18 : 100.68407852192877\n",
      "Epoch 19 : 98.74729880184759\n",
      "Epoch 20 : 96.8753701215528\n",
      "Epoch 21 : 95.08625340387152\n",
      "Epoch 22 : 93.39407917066046\n",
      "Epoch 23 : 91.80450126241408\n",
      "Epoch 24 : 90.3168570939431\n",
      "Epoch 25 : 88.92560970754334\n",
      "Epoch 26 : 87.62321039209928\n",
      "Epoch 27 : 86.4016387773047\n",
      "Epoch 28 : 85.2526659193395\n",
      "Epoch 29 : 84.16924408279283\n",
      "Epoch 30 : 83.1448877273167\n",
      "Epoch 31 : 82.17393467319357\n",
      "Epoch 32 : 81.25141862140447\n",
      "Epoch 33 : 80.37291809653073\n",
      "Epoch 34 : 79.53478716464531\n",
      "Epoch 35 : 78.73372535190924\n",
      "Epoch 36 : 77.96671722736528\n",
      "Epoch 37 : 77.2311163603024\n",
      "Epoch 38 : 76.52474916579092\n",
      "Epoch 39 : 75.84560809807294\n",
      "Epoch 40 : 75.19178155618874\n",
      "Epoch 41 : 74.56157168008644\n",
      "Epoch 42 : 73.95352595236716\n",
      "Epoch 43 : 73.36645658136604\n",
      "Epoch 44 : 72.79882441277192\n",
      "Epoch 45 : 72.24979366109932\n",
      "Epoch 46 : 71.7181989248408\n",
      "Epoch 47 : 71.20314408500195\n",
      "Epoch 48 : 70.70377520179449\n",
      "Epoch 49 : 70.21928793776596\n",
      "Epoch 50 : 69.7489207602701\n",
      "Epoch 51 : 69.29189143159294\n",
      "Epoch 52 : 68.84777383002421\n",
      "Epoch 53 : 68.41577759809019\n",
      "Epoch 54 : 67.99544308989965\n",
      "Epoch 55 : 67.58614020448152\n",
      "Epoch 56 : 67.18749830891255\n",
      "Epoch 57 : 66.79898881405694\n",
      "Epoch 58 : 66.42007479316146\n",
      "Epoch 59 : 66.05052876546733\n",
      "Epoch 60 : 65.68987922837647\n",
      "Epoch 61 : 65.33771704113997\n",
      "Epoch 62 : 64.99378112332658\n",
      "Epoch 63 : 64.65761259964313\n",
      "Epoch 64 : 64.32912226745714\n",
      "Epoch 65 : 64.00788445578758\n",
      "Epoch 66 : 63.693568866728185\n",
      "Epoch 67 : 63.38606049475723\n",
      "Epoch 68 : 63.08501124397327\n",
      "Epoch 69 : 62.79015814364169\n",
      "Epoch 70 : 62.50141597189105\n",
      "Epoch 71 : 62.2184325574197\n",
      "Epoch 72 : 61.9411781645307\n",
      "Epoch 73 : 61.6693493367186\n",
      "Epoch 74 : 61.40285886405627\n",
      "Epoch 75 : 61.14133025008164\n",
      "Epoch 76 : 60.884865651402606\n",
      "Epoch 77 : 60.63316075175334\n",
      "Epoch 78 : 60.38604111951757\n",
      "Epoch 79 : 60.143517114681416\n",
      "Epoch 80 : 59.905298655895464\n",
      "Epoch 81 : 59.67131311225373\n",
      "Epoch 82 : 59.441520691995805\n",
      "Epoch 83 : 59.21574999644321\n",
      "Epoch 84 : 58.99373491979958\n",
      "Epoch 85 : 58.77565138440872\n",
      "Epoch 86 : 58.56118641582452\n",
      "Epoch 87 : 58.350274824652786\n",
      "Epoch 88 : 58.14289744947624\n",
      "Epoch 89 : 57.93887718446652\n",
      "Epoch 90 : 57.73812154985944\n",
      "Epoch 91 : 57.5405973567257\n",
      "Epoch 92 : 57.34618364190082\n",
      "Epoch 93 : 57.154802916741716\n",
      "Epoch 94 : 56.96634815005112\n",
      "Epoch 95 : 56.78077589538455\n",
      "Epoch 96 : 56.598048990860505\n",
      "Epoch 97 : 56.41784425144063\n",
      "Epoch 98 : 56.240402403714896\n",
      "Epoch 99 : 56.06549066276371\n",
      "Epoch 100 : 55.89311281597607\n",
      "Train accuracy : 97.8 %\n",
      "Test accuracy : 96.8 %\n"
     ]
    }
   ],
   "source": [
    "nb_epochs = 100\n",
    "mini_batch_size = 5\n",
    "model = Sequential(Linear(2,25), Tanh(), Linear(25,25), Tanh(), Linear(25, 25), Tanh(), Linear(25,2))\n",
    "#criterion = LossMSE()\n",
    "criterion = LossCrossEntropy()\n",
    "optimizer = optim_SGD(model.param(), 1e-3)\n",
    "\n",
    "train_model(train_input, train_one_hot_target, model, criterion, optimizer, nb_epochs, mini_batch_size, verbose=True)\n",
    "\n",
    "print(\"Train accuracy :\", compute_accuracy(model, train_input, train_target), \"%\")\n",
    "print(\"Test accuracy :\", compute_accuracy(model, test_input, test_target), \"%\")"
   ]
  },
  {
   "cell_type": "code",
   "execution_count": 18,
   "metadata": {
    "scrolled": false
   },
   "outputs": [
    {
     "name": "stdout",
     "output_type": "stream",
     "text": [
      "iter 1\n",
      "Train accuracy : 97.6 %\n",
      "Test accuracy : 95.6 %\n",
      "iter 2\n",
      "Train accuracy : 96.1 %\n",
      "Test accuracy : 94.6 %\n",
      "iter 3\n",
      "Train accuracy : 97.8 %\n",
      "Test accuracy : 95.3 %\n",
      "iter 4\n",
      "Train accuracy : 98.0 %\n",
      "Test accuracy : 96.5 %\n",
      "iter 5\n",
      "Train accuracy : 97.7 %\n",
      "Test accuracy : 96.9 %\n",
      "iter 6\n",
      "Train accuracy : 96.6 %\n",
      "Test accuracy : 96.1 %\n",
      "iter 7\n",
      "Train accuracy : 97.6 %\n",
      "Test accuracy : 96.8 %\n",
      "iter 8\n",
      "Train accuracy : 98.0 %\n",
      "Test accuracy : 96.8 %\n",
      "iter 9\n",
      "Train accuracy : 97.0 %\n",
      "Test accuracy : 95.6 %\n",
      "iter 10\n",
      "Train accuracy : 97.1 %\n",
      "Test accuracy : 96.8 %\n",
      "iter 11\n",
      "Train accuracy : 97.7 %\n",
      "Test accuracy : 96.1 %\n",
      "iter 12\n",
      "Train accuracy : 97.9 %\n",
      "Test accuracy : 97.1 %\n",
      "iter 13\n",
      "Train accuracy : 97.9 %\n",
      "Test accuracy : 96.8 %\n",
      "iter 14\n",
      "Train accuracy : 96.3 %\n",
      "Test accuracy : 95.2 %\n",
      "iter 15\n",
      "Train accuracy : 96.8 %\n",
      "Test accuracy : 95.0 %\n",
      "iter 16\n",
      "Train accuracy : 97.8 %\n",
      "Test accuracy : 96.8 %\n",
      "iter 17\n",
      "Train accuracy : 96.6 %\n",
      "Test accuracy : 95.8 %\n",
      "iter 18\n",
      "Train accuracy : 95.6 %\n",
      "Test accuracy : 94.5 %\n",
      "iter 19\n",
      "Train accuracy : 97.7 %\n",
      "Test accuracy : 96.7 %\n",
      "iter 20\n",
      "Train accuracy : 97.0 %\n",
      "Test accuracy : 96.3 %\n",
      "iter 21\n",
      "Train accuracy : 97.7 %\n",
      "Test accuracy : 95.6 %\n",
      "iter 22\n",
      "Train accuracy : 97.8 %\n",
      "Test accuracy : 96.3 %\n",
      "iter 23\n",
      "Train accuracy : 98.6 %\n",
      "Test accuracy : 97.1 %\n",
      "iter 24\n",
      "Train accuracy : 98.0 %\n",
      "Test accuracy : 97.1 %\n",
      "iter 25\n",
      "Train accuracy : 97.5 %\n",
      "Test accuracy : 96.9 %\n",
      "iter 26\n",
      "Train accuracy : 96.1 %\n",
      "Test accuracy : 95.3 %\n",
      "iter 27\n",
      "Train accuracy : 98.2 %\n",
      "Test accuracy : 96.6 %\n",
      "iter 28\n",
      "Train accuracy : 97.4 %\n",
      "Test accuracy : 95.9 %\n",
      "iter 29\n",
      "Train accuracy : 97.5 %\n",
      "Test accuracy : 96.0 %\n",
      "iter 30\n",
      "Train accuracy : 96.2 %\n",
      "Test accuracy : 96.1 %\n",
      "iter 31\n",
      "Train accuracy : 98.0 %\n",
      "Test accuracy : 97.2 %\n",
      "iter 32\n",
      "Train accuracy : 95.1 %\n",
      "Test accuracy : 92.9 %\n",
      "iter 33\n",
      "Train accuracy : 97.5 %\n",
      "Test accuracy : 97.0 %\n",
      "iter 34\n",
      "Train accuracy : 97.6 %\n",
      "Test accuracy : 96.8 %\n",
      "iter 35\n",
      "Train accuracy : 95.9 %\n",
      "Test accuracy : 95.5 %\n",
      "iter 36\n",
      "Train accuracy : 97.2 %\n",
      "Test accuracy : 96.4 %\n",
      "iter 37\n",
      "Train accuracy : 97.1 %\n",
      "Test accuracy : 96.6 %\n",
      "iter 38\n",
      "Train accuracy : 98.4 %\n",
      "Test accuracy : 97.6 %\n",
      "iter 39\n",
      "Train accuracy : 97.5 %\n",
      "Test accuracy : 95.2 %\n",
      "iter 40\n",
      "Train accuracy : 96.5 %\n",
      "Test accuracy : 95.7 %\n",
      "iter 41\n",
      "Train accuracy : 97.3 %\n",
      "Test accuracy : 96.4 %\n",
      "iter 42\n",
      "Train accuracy : 96.9 %\n",
      "Test accuracy : 96.3 %\n",
      "iter 43\n",
      "Train accuracy : 96.7 %\n",
      "Test accuracy : 95.1 %\n",
      "iter 44\n",
      "Train accuracy : 96.9 %\n",
      "Test accuracy : 96.2 %\n",
      "iter 45\n",
      "Train accuracy : 97.5 %\n",
      "Test accuracy : 95.9 %\n",
      "iter 46\n",
      "Train accuracy : 97.5 %\n",
      "Test accuracy : 96.6 %\n",
      "iter 47\n",
      "Train accuracy : 97.5 %\n",
      "Test accuracy : 96.8 %\n",
      "iter 48\n",
      "Train accuracy : 98.7 %\n",
      "Test accuracy : 97.6 %\n",
      "iter 49\n",
      "Train accuracy : 97.6 %\n",
      "Test accuracy : 96.2 %\n",
      "iter 50\n",
      "Train accuracy : 96.3 %\n",
      "Test accuracy : 95.7 %\n"
     ]
    }
   ],
   "source": [
    "n_iters = 50\n",
    "test_acc=[]\n",
    "train_acc=[]\n",
    "for i in range(n_iters):\n",
    "    print('iter', i+1)\n",
    "    model = Sequential(Linear(2,25), Tanh(), Linear(25,25), Tanh(), Linear(25, 25), Tanh(), Linear(25,2))\n",
    "    criterion = LossMSE()\n",
    "    optimizer = optim_SGD(model.param(), 1e-3)\n",
    "    \n",
    "    train_model(train_input, train_one_hot_target, model, criterion, optimizer, nb_epochs, mini_batch_size)\n",
    "\n",
    "    train_a = compute_accuracy(model, train_input, train_target)\n",
    "    test_a = compute_accuracy(model, test_input, test_target)\n",
    "    print(\"Train accuracy :\", train_a, \"%\")\n",
    "    print(\"Test accuracy :\", test_a, \"%\")\n",
    "    train_acc.append(train_a)\n",
    "    test_acc.append(test_a)"
   ]
  },
  {
   "cell_type": "code",
   "execution_count": 19,
   "metadata": {},
   "outputs": [
    {
     "name": "stdout",
     "output_type": "stream",
     "text": [
      "train accuracy 97.27\n",
      "test accuracy 96.15799999999999\n"
     ]
    }
   ],
   "source": [
    "print('train accuracy', sum(train_acc)/len(train_acc))\n",
    "print('test accuracy', sum(test_acc)/len(test_acc))"
   ]
  },
  {
   "cell_type": "code",
   "execution_count": null,
   "metadata": {},
   "outputs": [],
   "source": []
  }
 ],
 "metadata": {
  "kernelspec": {
   "display_name": "Python 3",
   "language": "python",
   "name": "python3"
  },
  "language_info": {
   "codemirror_mode": {
    "name": "ipython",
    "version": 3
   },
   "file_extension": ".py",
   "mimetype": "text/x-python",
   "name": "python",
   "nbconvert_exporter": "python",
   "pygments_lexer": "ipython3",
   "version": "3.5.2"
  }
 },
 "nbformat": 4,
 "nbformat_minor": 2
}
