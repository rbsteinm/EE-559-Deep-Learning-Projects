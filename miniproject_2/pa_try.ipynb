{
 "cells": [
  {
   "cell_type": "code",
   "execution_count": 1,
   "metadata": {},
   "outputs": [],
   "source": [
    "from torch import FloatTensor, LongTensor, Tensor"
   ]
  },
  {
   "cell_type": "code",
   "execution_count": 6,
   "metadata": {
    "collapsed": true
   },
   "outputs": [],
   "source": [
    "class Module(object):   \n",
    "    def forward(self, *input): \n",
    "        raise NotImplementedError\n",
    "    def backward(self, *gradwrtoutput): \n",
    "        raise NotImplementedError\n",
    "    def param(self): \n",
    "        return []"
   ]
  },
  {
   "cell_type": "code",
   "execution_count": null,
   "metadata": {
    "collapsed": true
   },
   "outputs": [],
   "source": [
    "class Linear(Module):\n",
    "    def __init__(self, in_features, out_features):\n",
    "        self.in = in_features\n",
    "        self.out = out_features\n",
    "        \n",
    "        \n",
    "    def forward(self, *input): \n",
    "        raise NotImplementedError\n",
    "    def backward(self, *gradwrtoutput): \n",
    "        raise NotImplementedError\n",
    "    def param(self): \n",
    "        return []"
   ]
  },
  {
   "cell_type": "code",
   "execution_count": null,
   "metadata": {
    "collapsed": true
   },
   "outputs": [],
   "source": [
    "class ReLU(Module):\n",
    "    def __init__(self):\n",
    "        \n",
    "        \n",
    "    def forward(self, *input): \n",
    "        return tuple(torch.max(inp,torch.zeros_like(inp)) for inp in input)\n",
    "    def backward(self, *gradwrtoutput): \n",
    "        return gradwrtoutput\n",
    "    def param(self): \n",
    "        return []"
   ]
  },
  {
   "cell_type": "code",
   "execution_count": null,
   "metadata": {
    "collapsed": true
   },
   "outputs": [],
   "source": [
    "class Tanh(Module):\n",
    "    def __init__(self):\n",
    "        \n",
    "        \n",
    "    def forward(self, *input): \n",
    "        for inp in input:\n",
    "            plus = torch.exp(inp)\n",
    "            minus = torch.exp(-inp)\n",
    "            return (plus - minus) / (plus + minus)\n",
    "    def backward(self, *gradwrtoutput): \n",
    "        return gradwrtoutput\n",
    "    def param(self): \n",
    "        return []"
   ]
  },
  {
   "cell_type": "code",
   "execution_count": null,
   "metadata": {
    "collapsed": true
   },
   "outputs": [],
   "source": [
    "class LossMSE(Module):\n",
    "    def __init__(self):\n",
    "        \n",
    "        \n",
    "    def forward(self, *input): \n",
    "        for inp in input:\n",
    "            plus = torch.exp(inp)\n",
    "            minus = torch.exp(-inp)\n",
    "            return (plus - minus) / (plus + minus)\n",
    "    def backward(self, *gradwrtoutput): \n",
    "        raise NotImplementedError\n",
    "    def param(self): \n",
    "        return []"
   ]
  },
  {
   "cell_type": "code",
   "execution_count": null,
   "metadata": {
    "collapsed": true
   },
   "outputs": [],
   "source": [
    "class Sequential(Module):\n",
    "    def __init__(self, *layers):\n",
    "        self.layers = layers\n",
    "        \n",
    "    def forward(self, *input): \n",
    "        for inp in input:\n",
    "            res = input\n",
    "            for l in layers:\n",
    "                res = l(res)\n",
    "            return res\n",
    "        \n",
    "    def backward(self, *gradwrtoutput): \n",
    "        raise NotImplementedError\n",
    "        \n",
    "    def param(self): \n",
    "        return []"
   ]
  },
  {
   "cell_type": "code",
   "execution_count": null,
   "metadata": {
    "collapsed": true
   },
   "outputs": [],
   "source": []
  },
  {
   "cell_type": "code",
   "execution_count": 15,
   "metadata": {},
   "outputs": [],
   "source": [
    "A = FloatTensor(2,3,4).normal_()"
   ]
  },
  {
   "cell_type": "code",
   "execution_count": 16,
   "metadata": {},
   "outputs": [
    {
     "data": {
      "text/plain": [
       "\n",
       "(0 ,.,.) = \n",
       "  3.1312 -0.0333 -1.3504  0.2021\n",
       " -0.1919  0.1362 -0.2512 -0.4258\n",
       "  0.0755 -1.0149  0.9305  0.9588\n",
       "\n",
       "(1 ,.,.) = \n",
       "  0.0180 -1.3256  0.9309  0.5166\n",
       " -2.0968  0.4607  1.0945  1.5352\n",
       "  0.1910 -0.9250 -1.0271  0.5350\n",
       "[torch.FloatTensor of size 2x3x4]"
      ]
     },
     "execution_count": 16,
     "metadata": {},
     "output_type": "execute_result"
    }
   ],
   "source": [
    "A"
   ]
  },
  {
   "cell_type": "code",
   "execution_count": 24,
   "metadata": {},
   "outputs": [
    {
     "data": {
      "text/plain": [
       "\n",
       "(0 ,.,.) = \n",
       "  3.1312  0.0000  0.0000  0.2021\n",
       "  0.0000  0.1362  0.0000  0.0000\n",
       "  0.0755  0.0000  0.9305  0.9588\n",
       "\n",
       "(1 ,.,.) = \n",
       "  0.0180  0.0000  0.9309  0.5166\n",
       "  0.0000  0.4607  1.0945  1.5352\n",
       "  0.1910  0.0000  0.0000  0.5350\n",
       "[torch.FloatTensor of size 2x3x4]"
      ]
     },
     "execution_count": 24,
     "metadata": {},
     "output_type": "execute_result"
    }
   ],
   "source": [
    "torch.max(A,torch.zeros_like(A))"
   ]
  },
  {
   "cell_type": "code",
   "execution_count": 25,
   "metadata": {},
   "outputs": [
    {
     "data": {
      "text/plain": [
       "\n",
       "(0 ,.,.) = \n",
       " -3.1312  0.0333  1.3504 -0.2021\n",
       "  0.1919 -0.1362  0.2512  0.4258\n",
       " -0.0755  1.0149 -0.9305 -0.9588\n",
       "\n",
       "(1 ,.,.) = \n",
       " -0.0180  1.3256 -0.9309 -0.5166\n",
       "  2.0968 -0.4607 -1.0945 -1.5352\n",
       " -0.1910  0.9250  1.0271 -0.5350\n",
       "[torch.FloatTensor of size 2x3x4]"
      ]
     },
     "execution_count": 25,
     "metadata": {},
     "output_type": "execute_result"
    }
   ],
   "source": [
    "-A"
   ]
  },
  {
   "cell_type": "code",
   "execution_count": 26,
   "metadata": {},
   "outputs": [
    {
     "data": {
      "text/plain": [
       "\n",
       "(0 ,.,.) = \n",
       "  1  1  1  1\n",
       "  1  1  1  1\n",
       "  1  1  1  1\n",
       "\n",
       "(1 ,.,.) = \n",
       "  1  1  1  1\n",
       "  1  1  1  1\n",
       "  1  1  1  1\n",
       "[torch.FloatTensor of size 2x3x4]"
      ]
     },
     "execution_count": 26,
     "metadata": {},
     "output_type": "execute_result"
    }
   ],
   "source": [
    "A /A"
   ]
  },
  {
   "cell_type": "code",
   "execution_count": 27,
   "metadata": {
    "collapsed": true
   },
   "outputs": [],
   "source": [
    "t = (1,2,3)"
   ]
  },
  {
   "cell_type": "code",
   "execution_count": 32,
   "metadata": {},
   "outputs": [
    {
     "data": {
      "text/plain": [
       "(2, 4, 6)"
      ]
     },
     "execution_count": 32,
     "metadata": {},
     "output_type": "execute_result"
    }
   ],
   "source": [
    "tuple(i*2 for i in t)"
   ]
  },
  {
   "cell_type": "code",
   "execution_count": 34,
   "metadata": {},
   "outputs": [
    {
     "data": {
      "text/plain": [
       "torch.Size([2, 3, 4])"
      ]
     },
     "execution_count": 34,
     "metadata": {},
     "output_type": "execute_result"
    }
   ],
   "source": [
    "A.size()"
   ]
  },
  {
   "cell_type": "code",
   "execution_count": 2,
   "metadata": {},
   "outputs": [],
   "source": [
    "b = Tensor(24,1).normal_(0)"
   ]
  },
  {
   "cell_type": "code",
   "execution_count": 3,
   "metadata": {
    "scrolled": true
   },
   "outputs": [
    {
     "data": {
      "text/plain": [
       "\n",
       " 1.0238\n",
       "-0.6228\n",
       " 0.6641\n",
       " 0.7096\n",
       " 0.9660\n",
       " 1.2478\n",
       "-0.6186\n",
       "-0.1394\n",
       "-0.5141\n",
       "-0.2249\n",
       "-0.0947\n",
       "-1.0928\n",
       "-0.5096\n",
       "-1.3445\n",
       " 0.0762\n",
       " 0.5809\n",
       "-1.3647\n",
       "-0.6799\n",
       " 0.8054\n",
       " 0.6145\n",
       " 0.5987\n",
       " 0.2618\n",
       " 0.2626\n",
       "-0.3312\n",
       "[torch.FloatTensor of size 24x1]"
      ]
     },
     "execution_count": 3,
     "metadata": {},
     "output_type": "execute_result"
    }
   ],
   "source": [
    "b"
   ]
  },
  {
   "cell_type": "code",
   "execution_count": 5,
   "metadata": {
    "scrolled": true
   },
   "outputs": [
    {
     "data": {
      "text/plain": [
       "\n",
       "\n",
       "Columns 0 to 9 \n",
       " 1.0238  1.0238  1.0238  1.0238  1.0238  1.0238  1.0238  1.0238  1.0238  1.0238\n",
       "-0.6228 -0.6228 -0.6228 -0.6228 -0.6228 -0.6228 -0.6228 -0.6228 -0.6228 -0.6228\n",
       " 0.6641  0.6641  0.6641  0.6641  0.6641  0.6641  0.6641  0.6641  0.6641  0.6641\n",
       " 0.7096  0.7096  0.7096  0.7096  0.7096  0.7096  0.7096  0.7096  0.7096  0.7096\n",
       " 0.9660  0.9660  0.9660  0.9660  0.9660  0.9660  0.9660  0.9660  0.9660  0.9660\n",
       " 1.2478  1.2478  1.2478  1.2478  1.2478  1.2478  1.2478  1.2478  1.2478  1.2478\n",
       "-0.6186 -0.6186 -0.6186 -0.6186 -0.6186 -0.6186 -0.6186 -0.6186 -0.6186 -0.6186\n",
       "-0.1394 -0.1394 -0.1394 -0.1394 -0.1394 -0.1394 -0.1394 -0.1394 -0.1394 -0.1394\n",
       "-0.5141 -0.5141 -0.5141 -0.5141 -0.5141 -0.5141 -0.5141 -0.5141 -0.5141 -0.5141\n",
       "-0.2249 -0.2249 -0.2249 -0.2249 -0.2249 -0.2249 -0.2249 -0.2249 -0.2249 -0.2249\n",
       "-0.0947 -0.0947 -0.0947 -0.0947 -0.0947 -0.0947 -0.0947 -0.0947 -0.0947 -0.0947\n",
       "-1.0928 -1.0928 -1.0928 -1.0928 -1.0928 -1.0928 -1.0928 -1.0928 -1.0928 -1.0928\n",
       "-0.5096 -0.5096 -0.5096 -0.5096 -0.5096 -0.5096 -0.5096 -0.5096 -0.5096 -0.5096\n",
       "-1.3445 -1.3445 -1.3445 -1.3445 -1.3445 -1.3445 -1.3445 -1.3445 -1.3445 -1.3445\n",
       " 0.0762  0.0762  0.0762  0.0762  0.0762  0.0762  0.0762  0.0762  0.0762  0.0762\n",
       " 0.5809  0.5809  0.5809  0.5809  0.5809  0.5809  0.5809  0.5809  0.5809  0.5809\n",
       "-1.3647 -1.3647 -1.3647 -1.3647 -1.3647 -1.3647 -1.3647 -1.3647 -1.3647 -1.3647\n",
       "-0.6799 -0.6799 -0.6799 -0.6799 -0.6799 -0.6799 -0.6799 -0.6799 -0.6799 -0.6799\n",
       " 0.8054  0.8054  0.8054  0.8054  0.8054  0.8054  0.8054  0.8054  0.8054  0.8054\n",
       " 0.6145  0.6145  0.6145  0.6145  0.6145  0.6145  0.6145  0.6145  0.6145  0.6145\n",
       " 0.5987  0.5987  0.5987  0.5987  0.5987  0.5987  0.5987  0.5987  0.5987  0.5987\n",
       " 0.2618  0.2618  0.2618  0.2618  0.2618  0.2618  0.2618  0.2618  0.2618  0.2618\n",
       " 0.2626  0.2626  0.2626  0.2626  0.2626  0.2626  0.2626  0.2626  0.2626  0.2626\n",
       "-0.3312 -0.3312 -0.3312 -0.3312 -0.3312 -0.3312 -0.3312 -0.3312 -0.3312 -0.3312\n",
       "\n",
       "Columns 10 to 19 \n",
       " 1.0238  1.0238  1.0238  1.0238  1.0238  1.0238  1.0238  1.0238  1.0238  1.0238\n",
       "-0.6228 -0.6228 -0.6228 -0.6228 -0.6228 -0.6228 -0.6228 -0.6228 -0.6228 -0.6228\n",
       " 0.6641  0.6641  0.6641  0.6641  0.6641  0.6641  0.6641  0.6641  0.6641  0.6641\n",
       " 0.7096  0.7096  0.7096  0.7096  0.7096  0.7096  0.7096  0.7096  0.7096  0.7096\n",
       " 0.9660  0.9660  0.9660  0.9660  0.9660  0.9660  0.9660  0.9660  0.9660  0.9660\n",
       " 1.2478  1.2478  1.2478  1.2478  1.2478  1.2478  1.2478  1.2478  1.2478  1.2478\n",
       "-0.6186 -0.6186 -0.6186 -0.6186 -0.6186 -0.6186 -0.6186 -0.6186 -0.6186 -0.6186\n",
       "-0.1394 -0.1394 -0.1394 -0.1394 -0.1394 -0.1394 -0.1394 -0.1394 -0.1394 -0.1394\n",
       "-0.5141 -0.5141 -0.5141 -0.5141 -0.5141 -0.5141 -0.5141 -0.5141 -0.5141 -0.5141\n",
       "-0.2249 -0.2249 -0.2249 -0.2249 -0.2249 -0.2249 -0.2249 -0.2249 -0.2249 -0.2249\n",
       "-0.0947 -0.0947 -0.0947 -0.0947 -0.0947 -0.0947 -0.0947 -0.0947 -0.0947 -0.0947\n",
       "-1.0928 -1.0928 -1.0928 -1.0928 -1.0928 -1.0928 -1.0928 -1.0928 -1.0928 -1.0928\n",
       "-0.5096 -0.5096 -0.5096 -0.5096 -0.5096 -0.5096 -0.5096 -0.5096 -0.5096 -0.5096\n",
       "-1.3445 -1.3445 -1.3445 -1.3445 -1.3445 -1.3445 -1.3445 -1.3445 -1.3445 -1.3445\n",
       " 0.0762  0.0762  0.0762  0.0762  0.0762  0.0762  0.0762  0.0762  0.0762  0.0762\n",
       " 0.5809  0.5809  0.5809  0.5809  0.5809  0.5809  0.5809  0.5809  0.5809  0.5809\n",
       "-1.3647 -1.3647 -1.3647 -1.3647 -1.3647 -1.3647 -1.3647 -1.3647 -1.3647 -1.3647\n",
       "-0.6799 -0.6799 -0.6799 -0.6799 -0.6799 -0.6799 -0.6799 -0.6799 -0.6799 -0.6799\n",
       " 0.8054  0.8054  0.8054  0.8054  0.8054  0.8054  0.8054  0.8054  0.8054  0.8054\n",
       " 0.6145  0.6145  0.6145  0.6145  0.6145  0.6145  0.6145  0.6145  0.6145  0.6145\n",
       " 0.5987  0.5987  0.5987  0.5987  0.5987  0.5987  0.5987  0.5987  0.5987  0.5987\n",
       " 0.2618  0.2618  0.2618  0.2618  0.2618  0.2618  0.2618  0.2618  0.2618  0.2618\n",
       " 0.2626  0.2626  0.2626  0.2626  0.2626  0.2626  0.2626  0.2626  0.2626  0.2626\n",
       "-0.3312 -0.3312 -0.3312 -0.3312 -0.3312 -0.3312 -0.3312 -0.3312 -0.3312 -0.3312\n",
       "\n",
       "Columns 20 to 23 \n",
       " 1.0238  1.0238  1.0238  1.0238\n",
       "-0.6228 -0.6228 -0.6228 -0.6228\n",
       " 0.6641  0.6641  0.6641  0.6641\n",
       " 0.7096  0.7096  0.7096  0.7096\n",
       " 0.9660  0.9660  0.9660  0.9660\n",
       " 1.2478  1.2478  1.2478  1.2478\n",
       "-0.6186 -0.6186 -0.6186 -0.6186\n",
       "-0.1394 -0.1394 -0.1394 -0.1394\n",
       "-0.5141 -0.5141 -0.5141 -0.5141\n",
       "-0.2249 -0.2249 -0.2249 -0.2249\n",
       "-0.0947 -0.0947 -0.0947 -0.0947\n",
       "-1.0928 -1.0928 -1.0928 -1.0928\n",
       "-0.5096 -0.5096 -0.5096 -0.5096\n",
       "-1.3445 -1.3445 -1.3445 -1.3445\n",
       " 0.0762  0.0762  0.0762  0.0762\n",
       " 0.5809  0.5809  0.5809  0.5809\n",
       "-1.3647 -1.3647 -1.3647 -1.3647\n",
       "-0.6799 -0.6799 -0.6799 -0.6799\n",
       " 0.8054  0.8054  0.8054  0.8054\n",
       " 0.6145  0.6145  0.6145  0.6145\n",
       " 0.5987  0.5987  0.5987  0.5987\n",
       " 0.2618  0.2618  0.2618  0.2618\n",
       " 0.2626  0.2626  0.2626  0.2626\n",
       "-0.3312 -0.3312 -0.3312 -0.3312\n",
       "[torch.FloatTensor of size 24x24]"
      ]
     },
     "execution_count": 5,
     "metadata": {},
     "output_type": "execute_result"
    }
   ],
   "source": [
    "b.expand(b.size(0),24)"
   ]
  },
  {
   "cell_type": "code",
   "execution_count": 10,
   "metadata": {},
   "outputs": [
    {
     "data": {
      "text/plain": [
       "\n",
       "    0     0     0     0     0\n",
       "    0     0     0     0     0\n",
       "    0     0     0     0     0\n",
       "    0     0     0     0     0\n",
       "    0     0     0     0     0\n",
       "    0     0     0     0     0\n",
       "    0     0     0     0     0\n",
       "    0     0     0     0     0\n",
       "    0     0     0     0     0\n",
       "    0     0     0     0     0\n",
       "    0     0     0     0     0\n",
       "    0     0     0     0     0\n",
       "    0     0     0     0     0\n",
       "    0     0     0     0     0\n",
       "    0     0     0     0     0\n",
       "    0     0     0     0     0\n",
       "    0     0     0     0     0\n",
       "    0     0     0     0     0\n",
       "    0     0     0     0     0\n",
       "    0     0     0     0     0\n",
       "    0     0     0     0     0\n",
       "    0     0     0     0     0\n",
       "    0     0     0     0     0\n",
       "    0     0     0     0     0\n",
       "[torch.FloatTensor of size 24x5]"
      ]
     },
     "execution_count": 10,
     "metadata": {},
     "output_type": "execute_result"
    }
   ],
   "source": [
    "b_2 = Tensor(24,5).zero_()\n",
    "b_2"
   ]
  },
  {
   "cell_type": "code",
   "execution_count": 11,
   "metadata": {},
   "outputs": [
    {
     "data": {
      "text/plain": [
       "\n",
       " 1.0238  1.0238  1.0238  1.0238  1.0238\n",
       "-0.6228 -0.6228 -0.6228 -0.6228 -0.6228\n",
       " 0.6641  0.6641  0.6641  0.6641  0.6641\n",
       " 0.7096  0.7096  0.7096  0.7096  0.7096\n",
       " 0.9660  0.9660  0.9660  0.9660  0.9660\n",
       " 1.2478  1.2478  1.2478  1.2478  1.2478\n",
       "-0.6186 -0.6186 -0.6186 -0.6186 -0.6186\n",
       "-0.1394 -0.1394 -0.1394 -0.1394 -0.1394\n",
       "-0.5141 -0.5141 -0.5141 -0.5141 -0.5141\n",
       "-0.2249 -0.2249 -0.2249 -0.2249 -0.2249\n",
       "-0.0947 -0.0947 -0.0947 -0.0947 -0.0947\n",
       "-1.0928 -1.0928 -1.0928 -1.0928 -1.0928\n",
       "-0.5096 -0.5096 -0.5096 -0.5096 -0.5096\n",
       "-1.3445 -1.3445 -1.3445 -1.3445 -1.3445\n",
       " 0.0762  0.0762  0.0762  0.0762  0.0762\n",
       " 0.5809  0.5809  0.5809  0.5809  0.5809\n",
       "-1.3647 -1.3647 -1.3647 -1.3647 -1.3647\n",
       "-0.6799 -0.6799 -0.6799 -0.6799 -0.6799\n",
       " 0.8054  0.8054  0.8054  0.8054  0.8054\n",
       " 0.6145  0.6145  0.6145  0.6145  0.6145\n",
       " 0.5987  0.5987  0.5987  0.5987  0.5987\n",
       " 0.2618  0.2618  0.2618  0.2618  0.2618\n",
       " 0.2626  0.2626  0.2626  0.2626  0.2626\n",
       "-0.3312 -0.3312 -0.3312 -0.3312 -0.3312\n",
       "[torch.FloatTensor of size 24x5]"
      ]
     },
     "execution_count": 11,
     "metadata": {},
     "output_type": "execute_result"
    }
   ],
   "source": [
    "b_2+b"
   ]
  },
  {
   "cell_type": "code",
   "execution_count": null,
   "metadata": {
    "collapsed": true
   },
   "outputs": [],
   "source": []
  }
 ],
 "metadata": {
  "kernelspec": {
   "display_name": "Python 3",
   "language": "python",
   "name": "python3"
  },
  "language_info": {
   "codemirror_mode": {
    "name": "ipython",
    "version": 3
   },
   "file_extension": ".py",
   "mimetype": "text/x-python",
   "name": "python",
   "nbconvert_exporter": "python",
   "pygments_lexer": "ipython3",
   "version": "3.6.3"
  }
 },
 "nbformat": 4,
 "nbformat_minor": 2
}
