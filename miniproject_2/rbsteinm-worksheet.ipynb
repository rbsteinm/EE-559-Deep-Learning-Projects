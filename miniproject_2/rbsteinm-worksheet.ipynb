{
 "cells": [
  {
   "cell_type": "code",
   "execution_count": 1,
   "metadata": {},
   "outputs": [],
   "source": [
    "from torch import FloatTensor, LongTensor, Tensor\n",
    "import math"
   ]
  },
  {
   "cell_type": "markdown",
   "metadata": {},
   "source": [
    "## Module Superclass"
   ]
  },
  {
   "cell_type": "code",
   "execution_count": 2,
   "metadata": {},
   "outputs": [],
   "source": [
    "class Module(object):\n",
    "    def forward(self, *input_):\n",
    "        raise NotImplementedError\n",
    "        \n",
    "    def backward(self, *gradwrtoutput):\n",
    "        raise NotImplementedError\n",
    "        \n",
    "    def param(self):\n",
    "        return []"
   ]
  },
  {
   "cell_type": "markdown",
   "metadata": {},
   "source": [
    "## ReLU Module\n",
    "\n",
    "ReLU function: \n",
    "\\begin{equation}\n",
    "f(x) = max(0, x)\n",
    "\\end{equation}\n",
    "\n",
    "the derivative of ReLU is\n",
    "\n",
    "\\begin{equation} \n",
    "f'(x)=\n",
    "    \\begin{cases}\n",
    "      1, & \\text{if}\\ x>0 \\\\\n",
    "      0, & \\text{otherwise}\n",
    "    \\end{cases}\n",
    "\\end{equation}"
   ]
  },
  {
   "cell_type": "code",
   "execution_count": 3,
   "metadata": {},
   "outputs": [],
   "source": [
    "# This module represents the ReLU activation function\n",
    "class ReLU(Module):\n",
    "    def __init__(self):\n",
    "        self.z = None\n",
    "    \n",
    "    # input_: the tensor outputed by the current layer\n",
    "    def forward(self, input_):\n",
    "        self.z = input_.clone()\n",
    "        input_[input_ < 0] = 0\n",
    "        return input_\n",
    "        \n",
    "    def backward(self, gradwrtoutput):\n",
    "        da = gradwrtoutput\n",
    "        tensor = self.z.clone()\n",
    "        # g'(z)\n",
    "        tensor[tensor > 0] = 1\n",
    "        tensor[tensor < 0] = 0\n",
    "        # dz[l]\n",
    "        return da.mul(tensor)\n",
    "        \n",
    "    def param(self):\n",
    "        return []\n",
    "    \n",
    "    def zero_grad(self):\n",
    "        pass"
   ]
  },
  {
   "cell_type": "markdown",
   "metadata": {},
   "source": [
    "## Tanh Module"
   ]
  },
  {
   "cell_type": "code",
   "execution_count": 4,
   "metadata": {},
   "outputs": [],
   "source": [
    "class Tanh(Module):   \n",
    "    def __init__(self):\n",
    "        self.z = None\n",
    "    \n",
    "    # input_: the tensor outputed by the current layer\n",
    "    def forward(self, input_):\n",
    "        self.z = input_\n",
    "        return input_.tanh()\n",
    "        \n",
    "    def backward(self, gradwrtoutput):\n",
    "        da = gradwrtoutput\n",
    "        # g'(z)\n",
    "        g_prime = (1 - self.z.tanh().pow(2))\n",
    "        # dz[l]\n",
    "        return da.mul(g_prime)\n",
    "        \n",
    "    def param(self):\n",
    "        return []\n",
    "    \n",
    "    def zero_grad(self):\n",
    "        pass"
   ]
  },
  {
   "cell_type": "markdown",
   "metadata": {},
   "source": [
    "## Linear Module\n",
    "fully connected layer"
   ]
  },
  {
   "cell_type": "code",
   "execution_count": 5,
   "metadata": {},
   "outputs": [],
   "source": [
    "class Linear(Module):   \n",
    "    def __init__(self, in_dim, out_dim):\n",
    "        # keep track of the weigths, the biases and the output of the previous layer's activation function\n",
    "        self.w = Tensor(out_dim,in_dim).normal_(0)\n",
    "        self.b = Tensor(out_dim,1).normal_(0)\n",
    "        self.x_previous_layer = None\n",
    "        # init the gradient of the loss wrt w / b\n",
    "        self.grad_w_sum = Tensor(self.w.size()).zero_()\n",
    "        self.grad_b_sum = Tensor(self.b.size()).zero_()\n",
    "    \n",
    "    # input_: the output of the previous layer's activation function\n",
    "    def forward(self, input_):\n",
    "        self.x_previous_layer = input_\n",
    "        return (self.w.mm(input_.t()) + self.b).t()\n",
    "        \n",
    "    def backward(self, gradwrtoutput):\n",
    "        dz = gradwrtoutput.t()\n",
    "        dw = dz.mm(self.x_previous_layer)\n",
    "        db = dz\n",
    "        # sum the gradients for the weights and biases\n",
    "        self.grad_w_sum += dw\n",
    "        self.grad_b_sum += db.sum(1).unsqueeze(1)\n",
    "        return (self.w.t().mm(dz)).t()\n",
    "        \n",
    "    # returns a list of pairs, each composed of a parameter tensor and a gradient tensor\n",
    "    # parameters: weights and biases\n",
    "    def param(self):\n",
    "        return [ (self.w, self.grad_w_sum), (self.b, self.grad_b_sum) ]\n",
    "    \n",
    "    def zero_grad(self):\n",
    "        self.grad_w_sum.zero_()\n",
    "        self.grad_b_sum.zero_()"
   ]
  },
  {
   "cell_type": "markdown",
   "metadata": {},
   "source": [
    "## Sequential Module\n",
    "to combine several modules in basic sequential structure"
   ]
  },
  {
   "cell_type": "code",
   "execution_count": 6,
   "metadata": {},
   "outputs": [],
   "source": [
    "# This module allows to combine several modules (layers, activation functions) in a basic sequential structure\n",
    "class Sequential(Module):    \n",
    "    def __init__(self, *layers_):\n",
    "        self.modules = layers_\n",
    "        \n",
    "    # input_: the input data is a minibatch whose columns are features and lines are samples\n",
    "    def forward(self, input_):\n",
    "        x = input_\n",
    "        for module in self.modules:\n",
    "            x = module.forward(x)\n",
    "        return x\n",
    "        \n",
    "    def backward(self, gradwrtoutput):\n",
    "        x = gradwrtoutput\n",
    "        for module in reversed(self.modules):\n",
    "            x = module.backward(x)\n",
    "        return x\n",
    "        \n",
    "    # returns a flatened list of each module's parameters\n",
    "    # each parameter in the list is represented as a tuple containing the parameter tensor (e.g. w)\n",
    "    # and the gradient tensor (e.g. dl/dw)\n",
    "    def param(self):\n",
    "        return [ p for module in self.modules for p in module.param() ]\n",
    "    \n",
    "    # sets the gradient of each layer to zero before the next batch can go through the network\n",
    "    def zero_grad(self):\n",
    "        for module in self.modules:\n",
    "            module.zero_grad()"
   ]
  },
  {
   "cell_type": "markdown",
   "metadata": {},
   "source": [
    "## MSE Loss Function"
   ]
  },
  {
   "cell_type": "code",
   "execution_count": 7,
   "metadata": {},
   "outputs": [],
   "source": [
    "class LossMSE(Module): \n",
    "    def __init__(self):\n",
    "        self.error = None\n",
    "        \n",
    "    def forward(self, preds, labels):\n",
    "        self.error = preds - labels\n",
    "        return self.error.pow(2).sum()\n",
    "        \n",
    "    def backward(self):\n",
    "        return 2 * self.error\n",
    "        \n",
    "    def param(self):\n",
    "        return []"
   ]
  },
  {
   "cell_type": "markdown",
   "metadata": {},
   "source": [
    "## SGD optimization"
   ]
  },
  {
   "cell_type": "code",
   "execution_count": 8,
   "metadata": {},
   "outputs": [],
   "source": [
    "class optim_SGD(Module):\n",
    "    # parameters: the parameters of the Sequential module\n",
    "    def __init__(self, parameters, learning_rate):\n",
    "        self.param = parameters #[ p.shallow() for tup in parameters for p in tup ]\n",
    "        self.lr = learning_rate\n",
    "        \n",
    "    # performs a gradient step (SGD) for all parameters\n",
    "    def step(self):\n",
    "        for (p, grad_p) in self.param:\n",
    "            p.sub_(self.lr*grad_p)"
   ]
  },
  {
   "cell_type": "markdown",
   "metadata": {},
   "source": [
    "## TODO\n",
    "\n",
    "zero_grad() method: should we put it in the Module class, so that we can remove it from ReLU and Tanh?"
   ]
  },
  {
   "cell_type": "markdown",
   "metadata": {},
   "source": [
    "## Helpers"
   ]
  },
  {
   "cell_type": "code",
   "execution_count": 9,
   "metadata": {},
   "outputs": [],
   "source": [
    "def generate_disc_set(nb):\n",
    "    a = Tensor(nb, 2).uniform_(0, 1)\n",
    "    target = (a.pow(2).sum(1) < (2/math.pi)).long()\n",
    "    return a, target\n",
    "\n",
    "train_input, train_target = generate_disc_set(1000)\n",
    "test_input, test_target = generate_disc_set(1000)"
   ]
  },
  {
   "cell_type": "code",
   "execution_count": 10,
   "metadata": {},
   "outputs": [],
   "source": [
    "# converts 'target' Tensor to one hot labels\n",
    "def convert_to_one_hot(target):\n",
    "    tmp = FloatTensor(target.size(0), 2).fill_(0)\n",
    "    for k in range(0, target.size(0)):\n",
    "        tmp[k, train_target[k]] = 1\n",
    "    return tmp"
   ]
  },
  {
   "cell_type": "code",
   "execution_count": 11,
   "metadata": {},
   "outputs": [],
   "source": [
    "def compute_accuracy(model, input_, target):\n",
    "    nb_data_errors = 0\n",
    "    output = model.forward(input_)\n",
    "\n",
    "    _, predicted_classes = output.max(1)\n",
    "    for k in range(input_.size(0)):\n",
    "        if target[k] != predicted_classes[k]:\n",
    "            nb_data_errors = nb_data_errors + 1\n",
    "    return 100 - (100*(nb_data_errors / input_.size(0)))"
   ]
  },
  {
   "cell_type": "markdown",
   "metadata": {},
   "source": [
    "## Test file"
   ]
  },
  {
   "cell_type": "code",
   "execution_count": 12,
   "metadata": {},
   "outputs": [],
   "source": [
    "train_one_hot_target = convert_to_one_hot(train_target)\n",
    "test_one_hot_target = convert_to_one_hot(test_target)"
   ]
  },
  {
   "cell_type": "code",
   "execution_count": 20,
   "metadata": {
    "scrolled": true
   },
   "outputs": [
    {
     "name": "stdout",
     "output_type": "stream",
     "text": [
      "Epoch 1 : 2584.6125940491916\n",
      "Epoch 2 : 2562.9227145841924\n",
      "Epoch 3 : 2559.1819210344256\n",
      "Epoch 4 : 2556.34194057982\n",
      "Epoch 5 : 2552.1511669458014\n",
      "Epoch 6 : 2545.065045519408\n",
      "Epoch 7 : 2539.3356628947777\n",
      "Epoch 8 : 2533.7793361872205\n",
      "Epoch 9 : 2520.6038914110977\n",
      "Epoch 10 : 2498.386121905313\n",
      "Epoch 11 : 2471.576382369508\n",
      "Epoch 12 : 2432.252320668423\n",
      "Epoch 13 : 2380.168343811312\n",
      "Epoch 14 : 2335.1762190285895\n",
      "Epoch 15 : 1996.769668612924\n",
      "Epoch 16 : 169.453153177641\n",
      "Epoch 17 : 116.98498995069725\n",
      "Epoch 18 : 102.1098946521922\n",
      "Epoch 19 : 94.87358936803119\n",
      "Epoch 20 : 90.31354990904754\n",
      "Epoch 21 : 87.0080864146947\n",
      "Epoch 22 : 84.40811606649241\n",
      "Epoch 23 : 82.24396087384596\n",
      "Epoch 24 : 80.36168614791774\n",
      "Epoch 25 : 78.66548084288162\n",
      "Epoch 26 : 77.0935193261362\n",
      "Epoch 27 : 75.60558312391112\n",
      "Epoch 28 : 74.17643984092948\n",
      "Epoch 29 : 72.79092507846734\n",
      "Epoch 30 : 71.440971131852\n",
      "Epoch 31 : 70.12345024647114\n",
      "Epoch 32 : 68.83929716515237\n",
      "Epoch 33 : 67.59255797627554\n",
      "Epoch 34 : 66.39006276126318\n",
      "Epoch 35 : 65.24024138201034\n",
      "Epoch 36 : 64.1513447940678\n",
      "Epoch 37 : 63.12961871461087\n",
      "Epoch 38 : 62.17794338158002\n",
      "Epoch 39 : 61.29599231341214\n",
      "Epoch 40 : 60.480913187446816\n",
      "Epoch 41 : 59.72831840004434\n",
      "Epoch 42 : 59.03279822997852\n",
      "Epoch 43 : 58.38858241717844\n",
      "Epoch 44 : 57.78991026423803\n",
      "Epoch 45 : 57.23138694717781\n",
      "Epoch 46 : 56.70797450804794\n",
      "Epoch 47 : 56.21517176610379\n",
      "Epoch 48 : 55.74905379510473\n",
      "Epoch 49 : 55.306237378459144\n",
      "Epoch 50 : 54.88377538419379\n",
      "Epoch 51 : 54.479222221525035\n",
      "Epoch 52 : 54.090407354258005\n",
      "Epoch 53 : 53.71557962524892\n",
      "Epoch 54 : 53.35317518672546\n",
      "Epoch 55 : 53.00194254175704\n",
      "Epoch 56 : 52.66075571354749\n",
      "Epoch 57 : 52.32865181865345\n",
      "Epoch 58 : 52.00487706944295\n",
      "Epoch 59 : 51.68869365241838\n",
      "Epoch 60 : 51.37952066895771\n",
      "Epoch 61 : 51.076859658706084\n",
      "Epoch 62 : 50.780239038499204\n",
      "Epoch 63 : 50.48923489342944\n",
      "Epoch 64 : 50.20353155769673\n",
      "Epoch 65 : 49.92281026202241\n",
      "Epoch 66 : 49.646805832864146\n",
      "Epoch 67 : 49.37524162675628\n",
      "Epoch 68 : 49.10793573099214\n",
      "Epoch 69 : 48.844688797658904\n",
      "Epoch 70 : 48.58527545925949\n",
      "Epoch 71 : 48.32959369558314\n",
      "Epoch 72 : 48.077432760261516\n",
      "Epoch 73 : 47.82871943470253\n",
      "Epoch 74 : 47.583288383716344\n",
      "Epoch 75 : 47.34103426356887\n",
      "Epoch 76 : 47.101867983312744\n",
      "Epoch 77 : 46.86568926867946\n",
      "Epoch 78 : 46.6324306917752\n",
      "Epoch 79 : 46.401954074094135\n",
      "Epoch 80 : 46.17424938728534\n",
      "Epoch 81 : 45.94922980450739\n",
      "Epoch 82 : 45.72684170637602\n",
      "Epoch 83 : 45.50701428252209\n",
      "Epoch 84 : 45.289694260150526\n",
      "Epoch 85 : 45.074870171408605\n",
      "Epoch 86 : 44.8624770182481\n",
      "Epoch 87 : 44.652485679561636\n",
      "Epoch 88 : 44.44485819562065\n",
      "Epoch 89 : 44.23956922645252\n",
      "Epoch 90 : 44.03658469476935\n",
      "Epoch 91 : 43.83588582462551\n",
      "Epoch 92 : 43.63749431205472\n",
      "Epoch 93 : 43.44133242518002\n",
      "Epoch 94 : 43.24742842737001\n",
      "Epoch 95 : 43.05576261890896\n",
      "Epoch 96 : 42.86631945839114\n",
      "Epoch 97 : 42.67907089650808\n",
      "Epoch 98 : 42.49405745992573\n",
      "Epoch 99 : 42.31127972586415\n",
      "Epoch 100 : 42.13063262457875\n"
     ]
    }
   ],
   "source": [
    "model = Sequential(Linear(2,25), Tanh(), Linear(25,25), Tanh(), Linear(25,2), Tanh())\n",
    "\n",
    "criterion = LossMSE()\n",
    "optimizer = optim_SGD(model.param(), 1e-3)\n",
    "nb_epochs = 100\n",
    "mini_batch_size = 5\n",
    "\n",
    "for e in range(0, nb_epochs):\n",
    "    loss = 0\n",
    "    for b in range(0, train_input.size(0), mini_batch_size):\n",
    "        output = model.forward(train_input.narrow(0, b, mini_batch_size))\n",
    "        # sum the loss for each batch to get the current epoch's loss\n",
    "        loss += criterion.forward(output, train_one_hot_target.narrow(0, b, mini_batch_size))\n",
    "        # set the gradients of all layers to zero before the next batch can go through the network\n",
    "        model.zero_grad()\n",
    "        model.backward(criterion.backward())\n",
    "        optimizer.step() # performs a gradient step to optimize the parameters\n",
    "    print(\"Epoch\", e+1, \":\", loss)"
   ]
  },
  {
   "cell_type": "code",
   "execution_count": 21,
   "metadata": {},
   "outputs": [
    {
     "name": "stdout",
     "output_type": "stream",
     "text": [
      "Train accuracy : 98.7 %\n"
     ]
    }
   ],
   "source": [
    "print(\"Train accuracy :\", compute_accuracy(model, train_input, train_target), \"%\")"
   ]
  },
  {
   "cell_type": "code",
   "execution_count": 22,
   "metadata": {},
   "outputs": [
    {
     "name": "stdout",
     "output_type": "stream",
     "text": [
      "Test accuracy : 99.2 %\n"
     ]
    }
   ],
   "source": [
    "print(\"Test accuracy :\", compute_accuracy(model, test_input, test_target), \"%\")"
   ]
  }
 ],
 "metadata": {
  "kernelspec": {
   "display_name": "Python 3",
   "language": "python",
   "name": "python3"
  },
  "language_info": {
   "codemirror_mode": {
    "name": "ipython",
    "version": 3
   },
   "file_extension": ".py",
   "mimetype": "text/x-python",
   "name": "python",
   "nbconvert_exporter": "python",
   "pygments_lexer": "ipython3",
   "version": "3.5.2"
  }
 },
 "nbformat": 4,
 "nbformat_minor": 2
}
