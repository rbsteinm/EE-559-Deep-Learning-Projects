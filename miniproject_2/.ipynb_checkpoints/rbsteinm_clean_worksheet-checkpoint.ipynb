{
 "cells": [
  {
   "cell_type": "code",
   "execution_count": 2,
   "metadata": {},
   "outputs": [],
   "source": [
    "from torch import FloatTensor, LongTensor, Tensor\n",
    "import math"
   ]
  },
  {
   "cell_type": "markdown",
   "metadata": {},
   "source": [
    "## Module Superclass"
   ]
  },
  {
   "cell_type": "code",
   "execution_count": 3,
   "metadata": {},
   "outputs": [],
   "source": [
    "class Module(object):\n",
    "    def forward(self, *input_):\n",
    "        raise NotImplementedError\n",
    "        \n",
    "    def backward(self, *gradwrtoutput):\n",
    "        raise NotImplementedError\n",
    "        \n",
    "    def param(self):\n",
    "        return []"
   ]
  },
  {
   "cell_type": "markdown",
   "metadata": {},
   "source": [
    "## ReLU Module\n",
    "\n",
    "ReLU function: \n",
    "\\begin{equation}\n",
    "f(x) = max(0, x)\n",
    "\\end{equation}\n",
    "\n",
    "the derivative of ReLU is\n",
    "\n",
    "\\begin{equation} \n",
    "f'(x)=\n",
    "    \\begin{cases}\n",
    "      1, & \\text{if}\\ x>0 \\\\\n",
    "      0, & \\text{otherwise}\n",
    "    \\end{cases}\n",
    "\\end{equation}"
   ]
  },
  {
   "cell_type": "code",
   "execution_count": 4,
   "metadata": {},
   "outputs": [],
   "source": [
    "# This module represents the ReLU activation function\n",
    "class ReLU(Module):\n",
    "    def __init__(self):\n",
    "        self.z = None\n",
    "    \n",
    "    # input_: the tensor outputed by the current layer\n",
    "    def forward(self, input_):\n",
    "        self.z = input_.clone()\n",
    "        input_[input_ < 0] = 0\n",
    "        return input_\n",
    "        \n",
    "    def backward(self, gradwrtoutput):\n",
    "        da = gradwrtoutput\n",
    "        tensor = self.z.clone()\n",
    "        # g'(z)\n",
    "        tensor[tensor > 0] = 1\n",
    "        tensor[tensor < 0] = 0\n",
    "        # dz[l]\n",
    "        return da.mul(tensor)\n",
    "        \n",
    "    def param(self):\n",
    "        return []\n",
    "    \n",
    "    def zero_grad(self):\n",
    "        pass"
   ]
  },
  {
   "cell_type": "markdown",
   "metadata": {},
   "source": [
    "## Tanh Module"
   ]
  },
  {
   "cell_type": "code",
   "execution_count": 5,
   "metadata": {},
   "outputs": [],
   "source": [
    "class Tanh(Module):   \n",
    "    def __init__(self):\n",
    "        self.z = None\n",
    "    \n",
    "    # input_: the tensor outputed by the current layer\n",
    "    def forward(self, input_):\n",
    "        self.z = input_\n",
    "        return input_.tanh()\n",
    "        \n",
    "    def backward(self, gradwrtoutput):\n",
    "        da = gradwrtoutput\n",
    "        # g'(z)\n",
    "        g_prime = (1 - self.z.tanh().pow(2))\n",
    "        # dz[l]\n",
    "        return da.mul(g_prime)\n",
    "        \n",
    "    def param(self):\n",
    "        return []\n",
    "    \n",
    "    def zero_grad(self):\n",
    "        pass"
   ]
  },
  {
   "cell_type": "markdown",
   "metadata": {},
   "source": [
    "## Linear Module\n",
    "fully connected layer"
   ]
  },
  {
   "cell_type": "code",
   "execution_count": 6,
   "metadata": {},
   "outputs": [],
   "source": [
    "class Linear(Module):   \n",
    "    def __init__(self, in_dim, out_dim):\n",
    "        # keep track of the weigths, the biases and the output of the previous layer's activation function\n",
    "        self.x_previous_layer = None\n",
    "        # intialize the weights and biases with a normal(0,1) distribution\n",
    "        self.w = Tensor(out_dim,in_dim).normal_()\n",
    "        self.b = Tensor(out_dim,1).normal_()\n",
    "        # init the gradient of the loss wrt w / b\n",
    "        self.grad_w_sum = Tensor(self.w.size()).zero_()\n",
    "        self.grad_b_sum = Tensor(self.b.size()).zero_()\n",
    "    \n",
    "    # input_: the output of the previous layer's activation function\n",
    "    def forward(self, input_):\n",
    "        self.x_previous_layer = input_\n",
    "        return (self.w.mm(input_.t()) + self.b).t()\n",
    "        \n",
    "    def backward(self, gradwrtoutput):\n",
    "        dz = gradwrtoutput.t()\n",
    "        dw = dz.mm(self.x_previous_layer)\n",
    "        db = dz\n",
    "        # sum the gradients for the weights and biases\n",
    "        self.grad_w_sum += dw\n",
    "        self.grad_b_sum += db.sum(1).unsqueeze(1)\n",
    "        return (self.w.t().mm(dz)).t()\n",
    "        \n",
    "    # returns a list of pairs, each composed of a parameter tensor and a gradient tensor\n",
    "    # parameters: weights and biases\n",
    "    def param(self):\n",
    "        return [ (self.w, self.grad_w_sum), (self.b, self.grad_b_sum) ]\n",
    "    \n",
    "    def zero_grad(self):\n",
    "        self.grad_w_sum.zero_()\n",
    "        self.grad_b_sum.zero_()"
   ]
  },
  {
   "cell_type": "markdown",
   "metadata": {},
   "source": [
    "## Sequential Module\n",
    "to combine several modules in basic sequential structure"
   ]
  },
  {
   "cell_type": "code",
   "execution_count": 7,
   "metadata": {},
   "outputs": [],
   "source": [
    "# This module allows to combine several modules (layers, activation functions) in a basic sequential structure\n",
    "class Sequential(Module):    \n",
    "    def __init__(self, *layers_):\n",
    "        self.modules = layers_\n",
    "        \n",
    "    # input_: the input data is a minibatch whose columns are features and lines are samples\n",
    "    def forward(self, input_):\n",
    "        x = input_\n",
    "        for module in self.modules:\n",
    "            x = module.forward(x)\n",
    "        return x\n",
    "        \n",
    "    def backward(self, gradwrtoutput):\n",
    "        x = gradwrtoutput\n",
    "        for module in reversed(self.modules):\n",
    "            x = module.backward(x)\n",
    "        return x\n",
    "        \n",
    "    # returns a flatened list of each module's parameters\n",
    "    # each parameter in the list is represented as a tuple containing the parameter tensor (e.g. w)\n",
    "    # and the gradient tensor (e.g. dl/dw)\n",
    "    def param(self):\n",
    "        return [ p for module in self.modules for p in module.param() ]\n",
    "    \n",
    "    # s,\n",
    "    def zero_grad(self):\n",
    "        for module in self.modules:\n",
    "            module.zero_grad()"
   ]
  },
  {
   "cell_type": "markdown",
   "metadata": {},
   "source": [
    "## MSE Loss Function"
   ]
  },
  {
   "cell_type": "code",
   "execution_count": 8,
   "metadata": {},
   "outputs": [],
   "source": [
    "class LossMSE(Module): \n",
    "    def __init__(self):\n",
    "        self.error = None\n",
    "        \n",
    "    def forward(self, preds, labels):\n",
    "        self.error = preds - labels\n",
    "        return self.error.pow(2).sum()\n",
    "        \n",
    "    def backward(self):\n",
    "        return 2 * self.error\n",
    "        \n",
    "    def param(self):\n",
    "        return []"
   ]
  },
  {
   "cell_type": "markdown",
   "metadata": {},
   "source": [
    "## Cross-entropy Loss Function"
   ]
  },
  {
   "cell_type": "code",
   "execution_count": 9,
   "metadata": {},
   "outputs": [],
   "source": [
    "class LossCrossEntropy(Module): \n",
    "    def __init__(self):\n",
    "        self.p = None\n",
    "        self.c = None\n",
    "        \n",
    "    # stabilized version of softmax: convert each prediction to a probability\n",
    "    # to avoid nans due to big exponentials\n",
    "    def softmax(self, t):\n",
    "        stable_exp = (t - t.max(1)[0].unsqueeze(1)).exp()\n",
    "        return stable_exp / (stable_exp.sum(1).unsqueeze(1))\n",
    "        \n",
    "    def forward(self, preds, labels):\n",
    "        self.p = self.softmax(preds)\n",
    "        self.c = labels\n",
    "        return -(self.c * self.p.log()).sum()\n",
    "        \n",
    "    def backward(self):\n",
    "        return(self.p-self.c)\n",
    "        \n",
    "    def param(self):\n",
    "        return []"
   ]
  },
  {
   "cell_type": "markdown",
   "metadata": {},
   "source": [
    "## SGD optimization"
   ]
  },
  {
   "cell_type": "code",
   "execution_count": 10,
   "metadata": {},
   "outputs": [],
   "source": [
    "class optim_SGD(Module):\n",
    "    # parameters: the parameters of the Sequential module\n",
    "    def __init__(self, parameters, learning_rate):\n",
    "        self.param = parameters #[ p.shallow() for tup in parameters for p in tup ]\n",
    "        self.lr = learning_rate\n",
    "        \n",
    "    # performs a gradient step (SGD) for all parameters\n",
    "    def step(self):\n",
    "        for (p, grad_p) in self.param:\n",
    "            p.sub_(self.lr*grad_p)"
   ]
  },
  {
   "cell_type": "markdown",
   "metadata": {},
   "source": [
    "## Helpers"
   ]
  },
  {
   "cell_type": "code",
   "execution_count": 22,
   "metadata": {},
   "outputs": [],
   "source": [
    "def generate_disc_set(nb):\n",
    "    a = Tensor(nb, 2).uniform_(0, 1)\n",
    "    target = (((a-0.5).pow(2).sum(1)).sqrt() < math.sqrt(1/(2*math.pi))).long()\n",
    "    return a, target"
   ]
  },
  {
   "cell_type": "code",
   "execution_count": 23,
   "metadata": {},
   "outputs": [],
   "source": [
    "# converts 'target' Tensor to one hot labels\n",
    "def convert_to_one_hot(target):\n",
    "    tmp = FloatTensor(target.size(0), 2).fill_(0)\n",
    "    for k in range(0, target.size(0)):\n",
    "        tmp[k, target[k]] = 1\n",
    "    return tmp"
   ]
  },
  {
   "cell_type": "code",
   "execution_count": 24,
   "metadata": {},
   "outputs": [],
   "source": [
    "def compute_accuracy(model, input_, target):\n",
    "    nb_data_errors = 0\n",
    "    output = model.forward(input_)\n",
    "\n",
    "    _, predicted_classes = output.max(1)\n",
    "    for k in range(input_.size(0)):\n",
    "        if target[k] != predicted_classes[k]:\n",
    "            nb_data_errors = nb_data_errors + 1\n",
    "    return 100 - (100*(nb_data_errors / input_.size(0)))"
   ]
  },
  {
   "cell_type": "code",
   "execution_count": 25,
   "metadata": {
    "scrolled": true
   },
   "outputs": [],
   "source": [
    "def train_model(train_input, train_one_hot_target, model, criterion, optimizer, nb_epochs=100, mini_batch_size=5, verbose=False):\n",
    "    for e in range(0, nb_epochs):\n",
    "        loss = 0\n",
    "        for b in range(0, train_input.size(0), mini_batch_size):\n",
    "            output = model.forward(train_input.narrow(0, b, mini_batch_size))\n",
    "            # sum the loss for each batch to get the current epoch's loss\n",
    "            loss += criterion.forward(output, train_one_hot_target.narrow(0, b, mini_batch_size))\n",
    "            # set the gradients of all layers to zero before the next batch can go through the network\n",
    "            model.zero_grad()\n",
    "            model.backward(criterion.backward())\n",
    "            optimizer.step() # performs a gradient step to optimize the parameters\n",
    "        if verbose:\n",
    "            print(\"Epoch\", e+1, \":\", loss)"
   ]
  },
  {
   "cell_type": "markdown",
   "metadata": {},
   "source": [
    "## Test file"
   ]
  },
  {
   "cell_type": "code",
   "execution_count": 26,
   "metadata": {},
   "outputs": [],
   "source": [
    "# generate training and testing data\n",
    "train_input, train_target = generate_disc_set(1000)\n",
    "test_input, test_target = generate_disc_set(1000)\n",
    "\n",
    "# convert targets to one hot labels\n",
    "train_one_hot_target = convert_to_one_hot(train_target)\n",
    "test_one_hot_target = convert_to_one_hot(test_target)"
   ]
  },
  {
   "cell_type": "code",
   "execution_count": 28,
   "metadata": {},
   "outputs": [
    {
     "data": {
      "text/plain": [
       "509"
      ]
     },
     "execution_count": 28,
     "metadata": {},
     "output_type": "execute_result"
    }
   ],
   "source": [
    "train_target.sum()"
   ]
  },
  {
   "cell_type": "code",
   "execution_count": 27,
   "metadata": {},
   "outputs": [
    {
     "name": "stdout",
     "output_type": "stream",
     "text": [
      "Epoch 1 : 976.7461408925105\n",
      "Epoch 2 : 516.7074289056472\n",
      "Epoch 3 : 346.53218683370505\n",
      "Epoch 4 : 259.87775522784796\n",
      "Epoch 5 : 232.83281238691416\n",
      "Epoch 6 : 213.6939716048073\n",
      "Epoch 7 : 198.25199278909713\n",
      "Epoch 8 : 185.3649316781666\n",
      "Epoch 9 : 174.40057715028524\n",
      "Epoch 10 : 164.93571645626798\n",
      "Epoch 11 : 156.66715531109367\n",
      "Epoch 12 : 149.3708669783082\n",
      "Epoch 13 : 142.87765466811834\n",
      "Epoch 14 : 137.057274412713\n",
      "Epoch 15 : 131.80670157342684\n",
      "Epoch 16 : 127.04217963057454\n",
      "Epoch 17 : 122.69407354129362\n",
      "Epoch 18 : 118.70351621965528\n",
      "Epoch 19 : 115.02085926462314\n",
      "Epoch 20 : 111.60435821537976\n",
      "Epoch 21 : 108.4197782641786\n",
      "Epoch 22 : 105.4398359357292\n",
      "Epoch 23 : 102.64366660461383\n",
      "Epoch 24 : 100.01601516197115\n",
      "Epoch 25 : 97.545972279524\n",
      "Epoch 26 : 95.22495910969883\n",
      "Epoch 27 : 93.04459917111672\n",
      "Epoch 28 : 90.99453027379332\n",
      "Epoch 29 : 89.06181295350189\n",
      "Epoch 30 : 87.23184265689042\n",
      "Epoch 31 : 85.49056626580159\n",
      "Epoch 32 : 83.82814326056132\n",
      "Epoch 33 : 82.242341531781\n",
      "Epoch 34 : 80.74074107793518\n",
      "Epoch 35 : 79.33622248033544\n",
      "Epoch 36 : 78.03938360931028\n",
      "Epoch 37 : 76.85288705297987\n",
      "Epoch 38 : 75.77282357973225\n",
      "Epoch 39 : 74.79221535949806\n",
      "Epoch 40 : 73.90433814378626\n",
      "Epoch 41 : 73.10297527482082\n",
      "Epoch 42 : 72.38201885944862\n",
      "Epoch 43 : 71.73560884136906\n",
      "Epoch 44 : 71.15692252249647\n",
      "Epoch 45 : 70.63928139665589\n",
      "Epoch 46 : 70.17549559115105\n",
      "Epoch 47 : 69.75873633608816\n",
      "Epoch 48 : 69.38247402973259\n",
      "Epoch 49 : 69.04104226252278\n",
      "Epoch 50 : 68.72904015555947\n",
      "Epoch 51 : 68.44198750094668\n",
      "Epoch 52 : 68.17597781626725\n",
      "Epoch 53 : 67.92754011592001\n",
      "Epoch 54 : 67.6939961529158\n",
      "Epoch 55 : 67.47292719829066\n",
      "Epoch 56 : 67.26210393414107\n",
      "Epoch 57 : 67.05996969642335\n",
      "Epoch 58 : 66.86485402793089\n",
      "Epoch 59 : 66.6753736846859\n",
      "Epoch 60 : 66.49048426488216\n",
      "Epoch 61 : 66.30892066699263\n",
      "Epoch 62 : 66.12980386000521\n",
      "Epoch 63 : 65.95242251224968\n",
      "Epoch 64 : 65.77583296059726\n",
      "Epoch 65 : 65.59928662615447\n",
      "Epoch 66 : 65.4222075954146\n",
      "Epoch 67 : 65.24397452013417\n",
      "Epoch 68 : 65.06404503132639\n",
      "Epoch 69 : 64.88194582846299\n",
      "Epoch 70 : 64.69725988520509\n",
      "Epoch 71 : 64.50967845052467\n",
      "Epoch 72 : 64.31866391212841\n",
      "Epoch 73 : 64.12426774860333\n",
      "Epoch 74 : 63.92610784802541\n",
      "Epoch 75 : 63.72424133048878\n",
      "Epoch 76 : 63.51862351823006\n",
      "Epoch 77 : 63.309407237008685\n",
      "Epoch 78 : 63.096547210688485\n",
      "Epoch 79 : 62.8803458529204\n",
      "Epoch 80 : 62.661205150950195\n",
      "Epoch 81 : 62.43925784942989\n",
      "Epoch 82 : 62.21506709565527\n",
      "Epoch 83 : 61.98898124492504\n",
      "Epoch 84 : 61.76142373692247\n",
      "Epoch 85 : 61.53282850608417\n",
      "Epoch 86 : 61.303789986798535\n",
      "Epoch 87 : 61.074613749351926\n",
      "Epoch 88 : 60.845887205108355\n",
      "Epoch 89 : 60.617849415800166\n",
      "Epoch 90 : 60.39098140833447\n",
      "Epoch 91 : 60.165500199553506\n",
      "Epoch 92 : 59.94193852514417\n",
      "Epoch 93 : 59.72025137579679\n",
      "Epoch 94 : 59.500716892478906\n",
      "Epoch 95 : 59.283622298481745\n",
      "Epoch 96 : 59.069107736608416\n",
      "Epoch 97 : 58.857056629849666\n",
      "Epoch 98 : 58.64775328073709\n",
      "Epoch 99 : 58.44115020206627\n",
      "Epoch 100 : 58.23714117422641\n",
      "Train accuracy : 98.9 %\n",
      "Test accuracy : 97.7 %\n"
     ]
    }
   ],
   "source": [
    "nb_epochs = 100\n",
    "mini_batch_size = 5\n",
    "model = Sequential(Linear(2,25), Tanh(), Linear(25,25), Tanh(), Linear(25, 25), Tanh(), Linear(25,2))\n",
    "#criterion = LossMSE()\n",
    "criterion = LossCrossEntropy()\n",
    "optimizer = optim_SGD(model.param(), 1e-3)\n",
    "\n",
    "train_model(train_input, train_one_hot_target, model, criterion, optimizer, nb_epochs, mini_batch_size, verbose=True)\n",
    "\n",
    "print(\"Train accuracy :\", compute_accuracy(model, train_input, train_target), \"%\")\n",
    "print(\"Test accuracy :\", compute_accuracy(model, test_input, test_target), \"%\")"
   ]
  },
  {
   "cell_type": "code",
   "execution_count": 2,
   "metadata": {
    "scrolled": false
   },
   "outputs": [
    {
     "name": "stdout",
     "output_type": "stream",
     "text": [
      "iter 1\n"
     ]
    },
    {
     "ename": "NameError",
     "evalue": "name 'Sequential' is not defined",
     "output_type": "error",
     "traceback": [
      "\u001b[0;31m---------------------------------------------------------------------------\u001b[0m",
      "\u001b[0;31mNameError\u001b[0m                                 Traceback (most recent call last)",
      "\u001b[0;32m<ipython-input-2-3fe3cf31a0a4>\u001b[0m in \u001b[0;36m<module>\u001b[0;34m()\u001b[0m\n\u001b[1;32m      4\u001b[0m \u001b[0;32mfor\u001b[0m \u001b[0mi\u001b[0m \u001b[0;32min\u001b[0m \u001b[0mrange\u001b[0m\u001b[0;34m(\u001b[0m\u001b[0mn_iters\u001b[0m\u001b[0;34m)\u001b[0m\u001b[0;34m:\u001b[0m\u001b[0;34m\u001b[0m\u001b[0m\n\u001b[1;32m      5\u001b[0m     \u001b[0mprint\u001b[0m\u001b[0;34m(\u001b[0m\u001b[0;34m'iter'\u001b[0m\u001b[0;34m,\u001b[0m \u001b[0mi\u001b[0m\u001b[0;34m+\u001b[0m\u001b[0;36m1\u001b[0m\u001b[0;34m)\u001b[0m\u001b[0;34m\u001b[0m\u001b[0m\n\u001b[0;32m----> 6\u001b[0;31m     \u001b[0mmodel\u001b[0m \u001b[0;34m=\u001b[0m \u001b[0mSequential\u001b[0m\u001b[0;34m(\u001b[0m\u001b[0mLinear\u001b[0m\u001b[0;34m(\u001b[0m\u001b[0;36m2\u001b[0m\u001b[0;34m,\u001b[0m\u001b[0;36m25\u001b[0m\u001b[0;34m)\u001b[0m\u001b[0;34m,\u001b[0m \u001b[0mTanh\u001b[0m\u001b[0;34m(\u001b[0m\u001b[0;34m)\u001b[0m\u001b[0;34m,\u001b[0m \u001b[0mLinear\u001b[0m\u001b[0;34m(\u001b[0m\u001b[0;36m25\u001b[0m\u001b[0;34m,\u001b[0m\u001b[0;36m25\u001b[0m\u001b[0;34m)\u001b[0m\u001b[0;34m,\u001b[0m \u001b[0mTanh\u001b[0m\u001b[0;34m(\u001b[0m\u001b[0;34m)\u001b[0m\u001b[0;34m,\u001b[0m \u001b[0mLinear\u001b[0m\u001b[0;34m(\u001b[0m\u001b[0;36m25\u001b[0m\u001b[0;34m,\u001b[0m \u001b[0;36m25\u001b[0m\u001b[0;34m)\u001b[0m\u001b[0;34m,\u001b[0m \u001b[0mTanh\u001b[0m\u001b[0;34m(\u001b[0m\u001b[0;34m)\u001b[0m\u001b[0;34m,\u001b[0m \u001b[0mLinear\u001b[0m\u001b[0;34m(\u001b[0m\u001b[0;36m25\u001b[0m\u001b[0;34m,\u001b[0m\u001b[0;36m2\u001b[0m\u001b[0;34m)\u001b[0m\u001b[0;34m)\u001b[0m\u001b[0;34m\u001b[0m\u001b[0m\n\u001b[0m\u001b[1;32m      7\u001b[0m     \u001b[0mcriterion\u001b[0m \u001b[0;34m=\u001b[0m \u001b[0mLossMSE\u001b[0m\u001b[0;34m(\u001b[0m\u001b[0;34m)\u001b[0m\u001b[0;34m\u001b[0m\u001b[0m\n\u001b[1;32m      8\u001b[0m     \u001b[0moptimizer\u001b[0m \u001b[0;34m=\u001b[0m \u001b[0moptim_SGD\u001b[0m\u001b[0;34m(\u001b[0m\u001b[0mmodel\u001b[0m\u001b[0;34m.\u001b[0m\u001b[0mparam\u001b[0m\u001b[0;34m(\u001b[0m\u001b[0;34m)\u001b[0m\u001b[0;34m,\u001b[0m \u001b[0;36m1e-3\u001b[0m\u001b[0;34m)\u001b[0m\u001b[0;34m\u001b[0m\u001b[0m\n",
      "\u001b[0;31mNameError\u001b[0m: name 'Sequential' is not defined"
     ]
    }
   ],
   "source": [
    "n_iters = 50\n",
    "test_acc=[]\n",
    "train_acc=[]\n",
    "for i in range(n_iters):\n",
    "    print('iter', i+1)\n",
    "    model = Sequential(train_input, train_one_hot_target, Linear(2,25), Tanh(), Linear(25,25), Tanh(), Linear(25, 25), Tanh(), Linear(25,2))\n",
    "    criterion = LossMSE()\n",
    "    optimizer = optim_SGD(model.param(), 1e-3)\n",
    "    \n",
    "    train_model(train_input, train_one_hot_target, model, criterion, optimizer, nb_epochs, mini_batch_size)\n",
    "\n",
    "    train_a = compute_accuracy(model, train_input, train_target)\n",
    "    test_a = compute_accuracy(model, test_input, test_target)\n",
    "    print(\"Train accuracy :\", train_a, \"%\")\n",
    "    print(\"Test accuracy :\", test_a, \"%\")\n",
    "    train_acc.append(train_a)\n",
    "    test_acc.append(test_a)"
   ]
  },
  {
   "cell_type": "code",
   "execution_count": null,
   "metadata": {},
   "outputs": [],
   "source": [
    "print('train accuracy', sum(train_acc)/len(train_acc))\n",
    "print('test accuracy', sum(test_acc)/len(test_acc))"
   ]
  },
  {
   "cell_type": "code",
   "execution_count": null,
   "metadata": {},
   "outputs": [],
   "source": []
  }
 ],
 "metadata": {
  "kernelspec": {
   "display_name": "Python 3",
   "language": "python",
   "name": "python3"
  },
  "language_info": {
   "codemirror_mode": {
    "name": "ipython",
    "version": 3
   },
   "file_extension": ".py",
   "mimetype": "text/x-python",
   "name": "python",
   "nbconvert_exporter": "python",
   "pygments_lexer": "ipython3",
   "version": "3.5.2"
  }
 },
 "nbformat": 4,
 "nbformat_minor": 2
}
