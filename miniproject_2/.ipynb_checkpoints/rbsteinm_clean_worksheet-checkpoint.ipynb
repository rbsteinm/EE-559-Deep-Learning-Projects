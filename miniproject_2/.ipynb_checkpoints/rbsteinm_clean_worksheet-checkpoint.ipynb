{
 "cells": [
  {
   "cell_type": "code",
   "execution_count": 3,
   "metadata": {},
   "outputs": [],
   "source": [
    "from torch import FloatTensor, LongTensor, Tensor\n",
    "import math"
   ]
  },
  {
   "cell_type": "markdown",
   "metadata": {},
   "source": [
    "## Module Superclass"
   ]
  },
  {
   "cell_type": "code",
   "execution_count": 4,
   "metadata": {},
   "outputs": [],
   "source": [
    "class Module(object):\n",
    "    def forward(self, *input_):\n",
    "        raise NotImplementedError\n",
    "        \n",
    "    def backward(self, *gradwrtoutput):\n",
    "        raise NotImplementedError\n",
    "        \n",
    "    def param(self):\n",
    "        return []"
   ]
  },
  {
   "cell_type": "markdown",
   "metadata": {},
   "source": [
    "## ReLU Module\n",
    "\n",
    "ReLU function: \n",
    "\\begin{equation}\n",
    "f(x) = max(0, x)\n",
    "\\end{equation}\n",
    "\n",
    "the derivative of ReLU is\n",
    "\n",
    "\\begin{equation} \n",
    "f'(x)=\n",
    "    \\begin{cases}\n",
    "      1, & \\text{if}\\ x>0 \\\\\n",
    "      0, & \\text{otherwise}\n",
    "    \\end{cases}\n",
    "\\end{equation}"
   ]
  },
  {
   "cell_type": "code",
   "execution_count": 5,
   "metadata": {},
   "outputs": [],
   "source": [
    "# This module represents the ReLU activation function\n",
    "class ReLU(Module):\n",
    "    def __init__(self):\n",
    "        self.z = None\n",
    "    \n",
    "    # input_: the tensor outputed by the current layer\n",
    "    def forward(self, input_):\n",
    "        self.z = input_.clone()\n",
    "        input_[input_ < 0] = 0\n",
    "        return input_\n",
    "        \n",
    "    def backward(self, gradwrtoutput):\n",
    "        da = gradwrtoutput\n",
    "        tensor = self.z.clone()\n",
    "        # g'(z)\n",
    "        tensor[tensor > 0] = 1\n",
    "        tensor[tensor < 0] = 0\n",
    "        # dz[l]\n",
    "        return da.mul(tensor)\n",
    "        \n",
    "    def param(self):\n",
    "        return []\n",
    "    \n",
    "    def zero_grad(self):\n",
    "        pass"
   ]
  },
  {
   "cell_type": "markdown",
   "metadata": {},
   "source": [
    "## Tanh Module"
   ]
  },
  {
   "cell_type": "code",
   "execution_count": 6,
   "metadata": {},
   "outputs": [],
   "source": [
    "class Tanh(Module):   \n",
    "    def __init__(self):\n",
    "        self.z = None\n",
    "    \n",
    "    # input_: the tensor outputed by the current layer\n",
    "    def forward(self, input_):\n",
    "        self.z = input_\n",
    "        return input_.tanh()\n",
    "        \n",
    "    def backward(self, gradwrtoutput):\n",
    "        da = gradwrtoutput\n",
    "        # g'(z)\n",
    "        g_prime = (1 - self.z.tanh().pow(2))\n",
    "        # dz[l]\n",
    "        return da.mul(g_prime)\n",
    "        \n",
    "    def param(self):\n",
    "        return []\n",
    "    \n",
    "    def zero_grad(self):\n",
    "        pass"
   ]
  },
  {
   "cell_type": "markdown",
   "metadata": {},
   "source": [
    "## Linear Module\n",
    "fully connected layer"
   ]
  },
  {
   "cell_type": "code",
   "execution_count": 7,
   "metadata": {},
   "outputs": [],
   "source": [
    "class Linear(Module):   \n",
    "    def __init__(self, in_dim, out_dim, xavier_init=False):\n",
    "        # keep track of the weigths, the biases and the output of the previous layer's activation function\n",
    "        self.x_previous_layer = None\n",
    "        # either initialize the weigths with xavier and the biases to 0\n",
    "        if xavier_init:\n",
    "            self.w = Tensor(out_dim,in_dim).normal_(0, 2/(in_dim+out_dim))\n",
    "            self.b = Tensor(out_dim,1).zero_()\n",
    "        # or intialize the weights and biases with a normal(0,1) distribution\n",
    "        else:\n",
    "            self.w = Tensor(out_dim,in_dim).normal_()\n",
    "            self.b = Tensor(out_dim,1).normal_()\n",
    "        # init the gradient of the loss wrt w / b\n",
    "        self.grad_w_sum = Tensor(self.w.size()).zero_()\n",
    "        self.grad_b_sum = Tensor(self.b.size()).zero_()\n",
    "    \n",
    "    # input_: the output of the previous layer's activation function\n",
    "    def forward(self, input_):\n",
    "        self.x_previous_layer = input_\n",
    "        return (self.w.mm(input_.t()) + self.b).t()\n",
    "        \n",
    "    def backward(self, gradwrtoutput):\n",
    "        dz = gradwrtoutput.t()\n",
    "        dw = dz.mm(self.x_previous_layer)\n",
    "        db = dz\n",
    "        # sum the gradients for the weights and biases\n",
    "        self.grad_w_sum += dw\n",
    "        self.grad_b_sum += db.sum(1).unsqueeze(1)\n",
    "        return (self.w.t().mm(dz)).t()\n",
    "        \n",
    "    # returns a list of pairs, each composed of a parameter tensor and a gradient tensor\n",
    "    # parameters: weights and biases\n",
    "    def param(self):\n",
    "        return [ (self.w, self.grad_w_sum), (self.b, self.grad_b_sum) ]\n",
    "    \n",
    "    def zero_grad(self):\n",
    "        self.grad_w_sum.zero_()\n",
    "        self.grad_b_sum.zero_()"
   ]
  },
  {
   "cell_type": "markdown",
   "metadata": {},
   "source": [
    "## Sequential Module\n",
    "to combine several modules in basic sequential structure"
   ]
  },
  {
   "cell_type": "code",
   "execution_count": 8,
   "metadata": {},
   "outputs": [],
   "source": [
    "# This module allows to combine several modules (layers, activation functions) in a basic sequential structure\n",
    "class Sequential(Module):    \n",
    "    def __init__(self, *layers_):\n",
    "        self.modules = layers_\n",
    "        \n",
    "    # input_: the input data is a minibatch whose columns are features and lines are samples\n",
    "    def forward(self, input_):\n",
    "        x = input_\n",
    "        for module in self.modules:\n",
    "            x = module.forward(x)\n",
    "        return x\n",
    "        \n",
    "    def backward(self, gradwrtoutput):\n",
    "        x = gradwrtoutput\n",
    "        for module in reversed(self.modules):\n",
    "            x = module.backward(x)\n",
    "        return x\n",
    "        \n",
    "    # returns a flatened list of each module's parameters\n",
    "    # each parameter in the list is represented as a tuple containing the parameter tensor (e.g. w)\n",
    "    # and the gradient tensor (e.g. dl/dw)\n",
    "    def param(self):\n",
    "        return [ p for module in self.modules for p in module.param() ]\n",
    "    \n",
    "    # s,\n",
    "    def zero_grad(self):\n",
    "        for module in self.modules:\n",
    "            module.zero_grad()"
   ]
  },
  {
   "cell_type": "markdown",
   "metadata": {},
   "source": [
    "## MSE Loss Function"
   ]
  },
  {
   "cell_type": "code",
   "execution_count": 9,
   "metadata": {},
   "outputs": [],
   "source": [
    "class LossMSE(Module): \n",
    "    def __init__(self):\n",
    "        self.error = None\n",
    "        \n",
    "    def forward(self, preds, labels):\n",
    "        self.error = preds - labels\n",
    "        return self.error.pow(2).sum()\n",
    "        \n",
    "    def backward(self):\n",
    "        return 2 * self.error\n",
    "        \n",
    "    def param(self):\n",
    "        return []"
   ]
  },
  {
   "cell_type": "markdown",
   "metadata": {},
   "source": [
    "## Cross-entropy Loss Function"
   ]
  },
  {
   "cell_type": "code",
   "execution_count": 10,
   "metadata": {},
   "outputs": [],
   "source": [
    "class LossCrossEntropy(Module): \n",
    "    def __init__(self):\n",
    "        self.p = None\n",
    "        self.c = None\n",
    "        \n",
    "    # stabilized version of softmax: convert each prediction to a probability\n",
    "    # to avoid nans due to big exponentials\n",
    "    def softmax(self, t):\n",
    "        stable_exp = (t - t.max(1)[0].unsqueeze(1)).exp()\n",
    "        return stable_exp / (stable_exp.sum(1).unsqueeze(1))\n",
    "        \n",
    "    def forward(self, preds, labels):\n",
    "        self.p = self.softmax(preds)\n",
    "        self.c = labels\n",
    "        return -(self.c * self.p.log()).sum()\n",
    "        \n",
    "    def backward(self):\n",
    "        return(self.p-self.c)\n",
    "        \n",
    "    def param(self):\n",
    "        return []"
   ]
  },
  {
   "cell_type": "markdown",
   "metadata": {},
   "source": [
    "## SGD optimization"
   ]
  },
  {
   "cell_type": "code",
   "execution_count": 11,
   "metadata": {},
   "outputs": [],
   "source": [
    "class optim_SGD(Module):\n",
    "    # parameters: the parameters of the Sequential module\n",
    "    def __init__(self, parameters, learning_rate):\n",
    "        self.param = parameters #[ p.shallow() for tup in parameters for p in tup ]\n",
    "        self.lr = learning_rate\n",
    "        \n",
    "    # performs a gradient step (SGD) for all parameters\n",
    "    def step(self):\n",
    "        for (p, grad_p) in self.param:\n",
    "            p.sub_(self.lr*grad_p)"
   ]
  },
  {
   "cell_type": "markdown",
   "metadata": {},
   "source": [
    "## Helpers"
   ]
  },
  {
   "cell_type": "code",
   "execution_count": 12,
   "metadata": {},
   "outputs": [],
   "source": [
    "def generate_disc_set(nb):\n",
    "    a = Tensor(nb, 2).uniform_(0, 1)\n",
    "    target = ((a.pow(2).sum(1)).sqrt() < math.sqrt(1/(2*math.pi))).long()\n",
    "    return a, target"
   ]
  },
  {
   "cell_type": "code",
   "execution_count": 13,
   "metadata": {},
   "outputs": [],
   "source": [
    "# converts 'target' Tensor to one hot labels\n",
    "def convert_to_one_hot(target):\n",
    "    tmp = FloatTensor(target.size(0), 2).fill_(0)\n",
    "    for k in range(0, target.size(0)):\n",
    "        tmp[k, target[k]] = 1\n",
    "    return tmp"
   ]
  },
  {
   "cell_type": "code",
   "execution_count": 14,
   "metadata": {},
   "outputs": [],
   "source": [
    "def compute_accuracy(model, input_, target):\n",
    "    nb_data_errors = 0\n",
    "    output = model.forward(input_)\n",
    "\n",
    "    _, predicted_classes = output.max(1)\n",
    "    for k in range(input_.size(0)):\n",
    "        if target[k] != predicted_classes[k]:\n",
    "            nb_data_errors = nb_data_errors + 1\n",
    "    return 100 - (100*(nb_data_errors / input_.size(0)))"
   ]
  },
  {
   "cell_type": "code",
   "execution_count": 15,
   "metadata": {
    "scrolled": true
   },
   "outputs": [],
   "source": [
    "def train_model(train_input, train_one_hot_target, model, criterion, optimizer, nb_epochs=100, mini_batch_size=5, verbose=False):\n",
    "    for e in range(0, nb_epochs):\n",
    "        loss = 0\n",
    "        for b in range(0, train_input.size(0), mini_batch_size):\n",
    "            output = model.forward(train_input.narrow(0, b, mini_batch_size))\n",
    "            # sum the loss for each batch to get the current epoch's loss\n",
    "            loss += criterion.forward(output, train_one_hot_target.narrow(0, b, mini_batch_size))\n",
    "            # set the gradients of all layers to zero before the next batch can go through the network\n",
    "            model.zero_grad()\n",
    "            model.backward(criterion.backward())\n",
    "            optimizer.step() # performs a gradient step to optimize the parameters\n",
    "        if verbose:\n",
    "            print(\"Epoch\", e+1, \":\", loss)"
   ]
  },
  {
   "cell_type": "markdown",
   "metadata": {},
   "source": [
    "## Test file"
   ]
  },
  {
   "cell_type": "code",
   "execution_count": 16,
   "metadata": {},
   "outputs": [],
   "source": [
    "# generate training and testing data\n",
    "train_input, train_target = generate_disc_set(1000)\n",
    "test_input, test_target = generate_disc_set(1000)\n",
    "\n",
    "# convert targets to one hot labels\n",
    "train_one_hot_target = convert_to_one_hot(train_target)\n",
    "test_one_hot_target = convert_to_one_hot(test_target)"
   ]
  },
  {
   "cell_type": "code",
   "execution_count": 18,
   "metadata": {},
   "outputs": [
    {
     "name": "stdout",
     "output_type": "stream",
     "text": [
      "Epoch 1 : 264.59819985507056\n",
      "Epoch 2 : 113.218750144355\n",
      "Epoch 3 : 79.59852232108824\n",
      "Epoch 4 : 62.20410681841895\n",
      "Epoch 5 : 52.02035399747547\n",
      "Epoch 6 : 45.549699914990924\n",
      "Epoch 7 : 41.08512491942383\n",
      "Epoch 8 : 37.801610410097055\n",
      "Epoch 9 : 35.26741667551687\n",
      "Epoch 10 : 33.237942439329345\n",
      "Epoch 11 : 31.565115107077872\n",
      "Epoch 12 : 30.15425969514763\n",
      "Epoch 13 : 28.942143547697924\n",
      "Epoch 14 : 27.88474979327293\n",
      "Epoch 15 : 26.950641644463758\n",
      "Epoch 16 : 26.11659053672338\n",
      "Epoch 17 : 25.365198445055285\n",
      "Epoch 18 : 24.68303702637786\n",
      "Epoch 19 : 24.059680302169\n",
      "Epoch 20 : 23.486848968699633\n",
      "Epoch 21 : 22.957889347191667\n",
      "Epoch 22 : 22.467467160589877\n",
      "Epoch 23 : 22.011083359881013\n",
      "Epoch 24 : 21.58510299500631\n",
      "Epoch 25 : 21.186389590679028\n",
      "Epoch 26 : 20.812319173273863\n",
      "Epoch 27 : 20.460636605461332\n",
      "Epoch 28 : 20.129336962403613\n",
      "Epoch 29 : 19.816684598568827\n",
      "Epoch 30 : 19.521141760200408\n",
      "Epoch 31 : 19.241353735087614\n",
      "Epoch 32 : 18.976105166093475\n",
      "Epoch 33 : 18.724215190435643\n",
      "Epoch 34 : 18.484756073487006\n",
      "Epoch 35 : 18.25676114655471\n",
      "Epoch 36 : 18.039425938854038\n",
      "Epoch 37 : 17.83201325362461\n",
      "Epoch 38 : 17.633821982630252\n",
      "Epoch 39 : 17.444200250105496\n",
      "Epoch 40 : 17.262601804708538\n",
      "Epoch 41 : 17.0884914104754\n",
      "Epoch 42 : 16.921377583475987\n",
      "Epoch 43 : 16.76081461838112\n",
      "Epoch 44 : 16.606378399776077\n",
      "Epoch 45 : 16.457727397139024\n",
      "Epoch 46 : 16.3145060781153\n",
      "Epoch 47 : 16.176343108758374\n",
      "Epoch 48 : 16.04301522422429\n",
      "Epoch 49 : 15.914180059879982\n",
      "Epoch 50 : 15.78959682293862\n",
      "Epoch 51 : 15.669046772856746\n",
      "Epoch 52 : 15.552342852774018\n",
      "Epoch 53 : 15.439210878385893\n",
      "Epoch 54 : 15.329500688630105\n",
      "Epoch 55 : 15.223027271224055\n",
      "Epoch 56 : 15.119621036664284\n",
      "Epoch 57 : 15.019138141002259\n",
      "Epoch 58 : 14.921417670379014\n",
      "Epoch 59 : 14.82636988405011\n",
      "Epoch 60 : 14.733839331187482\n",
      "Epoch 61 : 14.643670268415008\n",
      "Epoch 62 : 14.55580817641021\n",
      "Epoch 63 : 14.47014796615349\n",
      "Epoch 64 : 14.386536856304701\n",
      "Epoch 65 : 14.304916311485613\n",
      "Epoch 66 : 14.225213091192927\n",
      "Epoch 67 : 14.147347476522555\n",
      "Epoch 68 : 14.071219753135665\n",
      "Epoch 69 : 13.996744983048302\n",
      "Epoch 70 : 13.923894569378717\n",
      "Epoch 71 : 13.852584187427055\n",
      "Epoch 72 : 13.782746280640367\n",
      "Epoch 73 : 13.714325250954062\n",
      "Epoch 74 : 13.64727504986422\n",
      "Epoch 75 : 13.581524189969514\n",
      "Epoch 76 : 13.517027523479555\n",
      "Epoch 77 : 13.453740946520156\n",
      "Epoch 78 : 13.391654983892295\n",
      "Epoch 79 : 13.330664685294778\n",
      "Epoch 80 : 13.270746138392042\n",
      "Epoch 81 : 13.21189087673747\n",
      "Epoch 82 : 13.15404151007715\n",
      "Epoch 83 : 13.097138364750663\n",
      "Epoch 84 : 13.041179612179803\n",
      "Epoch 85 : 12.986144101317677\n",
      "Epoch 86 : 12.931960311854255\n",
      "Epoch 87 : 12.878614854620082\n",
      "Epoch 88 : 12.826111342919376\n",
      "Epoch 89 : 12.774376254497838\n",
      "Epoch 90 : 12.723416478281251\n",
      "Epoch 91 : 12.673153678811104\n",
      "Epoch 92 : 12.623606827548883\n",
      "Epoch 93 : 12.574805594153986\n",
      "Epoch 94 : 12.526647539294572\n",
      "Epoch 95 : 12.479102862050695\n",
      "Epoch 96 : 12.432226566735608\n",
      "Epoch 97 : 12.385944133114663\n",
      "Epoch 98 : 12.340255567336499\n",
      "Epoch 99 : 12.295140573736717\n",
      "Epoch 100 : 12.250580852592066\n",
      "Train accuracy : 99.7 %\n",
      "Test accuracy : 99.3 %\n"
     ]
    }
   ],
   "source": [
    "nb_epochs = 100\n",
    "mini_batch_size = 5\n",
    "model = Sequential(Linear(2,25), Tanh(), Linear(25,25), Tanh(), Linear(25, 25), Tanh(), Linear(25,2))\n",
    "#criterion = LossMSE()\n",
    "criterion = LossCrossEntropy()\n",
    "optimizer = optim_SGD(model.param(), 1e-3)\n",
    "\n",
    "train_model(train_input, train_one_hot_target, model, criterion, optimizer, nb_epochs, mini_batch_size, verbose=True)\n",
    "\n",
    "print(\"Train accuracy :\", compute_accuracy(model, train_input, train_target), \"%\")\n",
    "print(\"Test accuracy :\", compute_accuracy(model, test_input, test_target), \"%\")"
   ]
  },
  {
   "cell_type": "code",
   "execution_count": 2,
   "metadata": {
    "scrolled": false
   },
   "outputs": [
    {
     "name": "stdout",
     "output_type": "stream",
     "text": [
      "iter 1\n"
     ]
    },
    {
     "ename": "NameError",
     "evalue": "name 'Sequential' is not defined",
     "output_type": "error",
     "traceback": [
      "\u001b[0;31m---------------------------------------------------------------------------\u001b[0m",
      "\u001b[0;31mNameError\u001b[0m                                 Traceback (most recent call last)",
      "\u001b[0;32m<ipython-input-2-3fe3cf31a0a4>\u001b[0m in \u001b[0;36m<module>\u001b[0;34m()\u001b[0m\n\u001b[1;32m      4\u001b[0m \u001b[0;32mfor\u001b[0m \u001b[0mi\u001b[0m \u001b[0;32min\u001b[0m \u001b[0mrange\u001b[0m\u001b[0;34m(\u001b[0m\u001b[0mn_iters\u001b[0m\u001b[0;34m)\u001b[0m\u001b[0;34m:\u001b[0m\u001b[0;34m\u001b[0m\u001b[0m\n\u001b[1;32m      5\u001b[0m     \u001b[0mprint\u001b[0m\u001b[0;34m(\u001b[0m\u001b[0;34m'iter'\u001b[0m\u001b[0;34m,\u001b[0m \u001b[0mi\u001b[0m\u001b[0;34m+\u001b[0m\u001b[0;36m1\u001b[0m\u001b[0;34m)\u001b[0m\u001b[0;34m\u001b[0m\u001b[0m\n\u001b[0;32m----> 6\u001b[0;31m     \u001b[0mmodel\u001b[0m \u001b[0;34m=\u001b[0m \u001b[0mSequential\u001b[0m\u001b[0;34m(\u001b[0m\u001b[0mLinear\u001b[0m\u001b[0;34m(\u001b[0m\u001b[0;36m2\u001b[0m\u001b[0;34m,\u001b[0m\u001b[0;36m25\u001b[0m\u001b[0;34m)\u001b[0m\u001b[0;34m,\u001b[0m \u001b[0mTanh\u001b[0m\u001b[0;34m(\u001b[0m\u001b[0;34m)\u001b[0m\u001b[0;34m,\u001b[0m \u001b[0mLinear\u001b[0m\u001b[0;34m(\u001b[0m\u001b[0;36m25\u001b[0m\u001b[0;34m,\u001b[0m\u001b[0;36m25\u001b[0m\u001b[0;34m)\u001b[0m\u001b[0;34m,\u001b[0m \u001b[0mTanh\u001b[0m\u001b[0;34m(\u001b[0m\u001b[0;34m)\u001b[0m\u001b[0;34m,\u001b[0m \u001b[0mLinear\u001b[0m\u001b[0;34m(\u001b[0m\u001b[0;36m25\u001b[0m\u001b[0;34m,\u001b[0m \u001b[0;36m25\u001b[0m\u001b[0;34m)\u001b[0m\u001b[0;34m,\u001b[0m \u001b[0mTanh\u001b[0m\u001b[0;34m(\u001b[0m\u001b[0;34m)\u001b[0m\u001b[0;34m,\u001b[0m \u001b[0mLinear\u001b[0m\u001b[0;34m(\u001b[0m\u001b[0;36m25\u001b[0m\u001b[0;34m,\u001b[0m\u001b[0;36m2\u001b[0m\u001b[0;34m)\u001b[0m\u001b[0;34m)\u001b[0m\u001b[0;34m\u001b[0m\u001b[0m\n\u001b[0m\u001b[1;32m      7\u001b[0m     \u001b[0mcriterion\u001b[0m \u001b[0;34m=\u001b[0m \u001b[0mLossMSE\u001b[0m\u001b[0;34m(\u001b[0m\u001b[0;34m)\u001b[0m\u001b[0;34m\u001b[0m\u001b[0m\n\u001b[1;32m      8\u001b[0m     \u001b[0moptimizer\u001b[0m \u001b[0;34m=\u001b[0m \u001b[0moptim_SGD\u001b[0m\u001b[0;34m(\u001b[0m\u001b[0mmodel\u001b[0m\u001b[0;34m.\u001b[0m\u001b[0mparam\u001b[0m\u001b[0;34m(\u001b[0m\u001b[0;34m)\u001b[0m\u001b[0;34m,\u001b[0m \u001b[0;36m1e-3\u001b[0m\u001b[0;34m)\u001b[0m\u001b[0;34m\u001b[0m\u001b[0m\n",
      "\u001b[0;31mNameError\u001b[0m: name 'Sequential' is not defined"
     ]
    }
   ],
   "source": [
    "n_iters = 50\n",
    "test_acc=[]\n",
    "train_acc=[]\n",
    "for i in range(n_iters):\n",
    "    print('iter', i+1)\n",
    "    model = Sequential(train_input, train_one_hot_target, Linear(2,25), Tanh(), Linear(25,25), Tanh(), Linear(25, 25), Tanh(), Linear(25,2))\n",
    "    criterion = LossMSE()\n",
    "    optimizer = optim_SGD(model.param(), 1e-3)\n",
    "    \n",
    "    train_model(train_input, train_one_hot_target, model, criterion, optimizer, nb_epochs, mini_batch_size)\n",
    "\n",
    "    train_a = compute_accuracy(model, train_input, train_target)\n",
    "    test_a = compute_accuracy(model, test_input, test_target)\n",
    "    print(\"Train accuracy :\", train_a, \"%\")\n",
    "    print(\"Test accuracy :\", test_a, \"%\")\n",
    "    train_acc.append(train_a)\n",
    "    test_acc.append(test_a)"
   ]
  },
  {
   "cell_type": "code",
   "execution_count": null,
   "metadata": {},
   "outputs": [],
   "source": [
    "print('train accuracy', sum(train_acc)/len(train_acc))\n",
    "print('test accuracy', sum(test_acc)/len(test_acc))"
   ]
  },
  {
   "cell_type": "code",
   "execution_count": null,
   "metadata": {},
   "outputs": [],
   "source": []
  }
 ],
 "metadata": {
  "kernelspec": {
   "display_name": "Python 3",
   "language": "python",
   "name": "python3"
  },
  "language_info": {
   "codemirror_mode": {
    "name": "ipython",
    "version": 3
   },
   "file_extension": ".py",
   "mimetype": "text/x-python",
   "name": "python",
   "nbconvert_exporter": "python",
   "pygments_lexer": "ipython3",
   "version": "3.5.2"
  }
 },
 "nbformat": 4,
 "nbformat_minor": 2
}
