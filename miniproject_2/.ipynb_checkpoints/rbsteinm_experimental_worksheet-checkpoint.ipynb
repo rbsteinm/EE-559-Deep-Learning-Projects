{
 "cells": [
  {
   "cell_type": "code",
   "execution_count": 5,
   "metadata": {},
   "outputs": [],
   "source": [
    "from torch import FloatTensor, LongTensor, Tensor\n",
    "import math"
   ]
  },
  {
   "cell_type": "markdown",
   "metadata": {},
   "source": [
    "## Module Superclass"
   ]
  },
  {
   "cell_type": "code",
   "execution_count": 6,
   "metadata": {},
   "outputs": [],
   "source": [
    "class Module(object):\n",
    "    def forward(self, *input_):\n",
    "        raise NotImplementedError\n",
    "        \n",
    "    def backward(self, *gradwrtoutput):\n",
    "        raise NotImplementedError\n",
    "        \n",
    "    def param(self):\n",
    "        return []"
   ]
  },
  {
   "cell_type": "markdown",
   "metadata": {},
   "source": [
    "## ReLU Module\n",
    "\n",
    "ReLU function: \n",
    "\\begin{equation}\n",
    "f(x) = max(0, x)\n",
    "\\end{equation}\n",
    "\n",
    "the derivative of ReLU is\n",
    "\n",
    "\\begin{equation} \n",
    "f'(x)=\n",
    "    \\begin{cases}\n",
    "      1, & \\text{if}\\ x>0 \\\\\n",
    "      0, & \\text{otherwise}\n",
    "    \\end{cases}\n",
    "\\end{equation}"
   ]
  },
  {
   "cell_type": "code",
   "execution_count": 7,
   "metadata": {},
   "outputs": [],
   "source": [
    "# This module represents the ReLU activation function\n",
    "class ReLU(Module):\n",
    "    def __init__(self):\n",
    "        self.z = None\n",
    "    \n",
    "    # input_: the tensor outputed by the current layer\n",
    "    def forward(self, input_):\n",
    "        self.z = input_.clone()\n",
    "        input_[input_ < 0] = 0\n",
    "        return input_\n",
    "        \n",
    "    def backward(self, gradwrtoutput):\n",
    "        da = gradwrtoutput\n",
    "        tensor = self.z.clone()\n",
    "        # g'(z)\n",
    "        tensor[tensor > 0] = 1\n",
    "        tensor[tensor < 0] = 0\n",
    "        # dz[l]\n",
    "        return da.mul(tensor)\n",
    "        \n",
    "    def param(self):\n",
    "        return []\n",
    "    \n",
    "    def zero_grad(self):\n",
    "        pass"
   ]
  },
  {
   "cell_type": "markdown",
   "metadata": {},
   "source": [
    "## Tanh Module"
   ]
  },
  {
   "cell_type": "code",
   "execution_count": 8,
   "metadata": {},
   "outputs": [],
   "source": [
    "class Tanh(Module):   \n",
    "    def __init__(self):\n",
    "        self.z = None\n",
    "    \n",
    "    # input_: the tensor outputed by the current layer\n",
    "    def forward(self, input_):\n",
    "        self.z = input_\n",
    "        return input_.tanh()\n",
    "        \n",
    "    def backward(self, gradwrtoutput):\n",
    "        da = gradwrtoutput\n",
    "        # g'(z)\n",
    "        g_prime = (1 - self.z.tanh().pow(2))\n",
    "        # dz[l]\n",
    "        return da.mul(g_prime)\n",
    "        \n",
    "    def param(self):\n",
    "        return []\n",
    "    \n",
    "    def zero_grad(self):\n",
    "        pass"
   ]
  },
  {
   "cell_type": "markdown",
   "metadata": {},
   "source": [
    "## Linear Module\n",
    "fully connected layer"
   ]
  },
  {
   "cell_type": "code",
   "execution_count": 84,
   "metadata": {},
   "outputs": [],
   "source": [
    "class Linear(Module):   \n",
    "    def __init__(self, in_dim, out_dim):\n",
    "        # keep track of the weigths, the biases and the output of the previous layer's activation function\n",
    "        self.x_previous_layer = None\n",
    "        # intialize the weights and biases with a normal(0,1) distribution\n",
    "        self.w = Tensor(out_dim,in_dim).normal_()\n",
    "        self.b = Tensor(out_dim,1).normal_()\n",
    "        # init the gradient of the loss wrt w / b\n",
    "        self.grad_w_sum = Tensor(self.w.size()).zero_()\n",
    "        self.grad_b_sum = Tensor(self.b.size()).zero_()\n",
    "    \n",
    "    # input_: the output of the previous layer's activation function\n",
    "    def forward(self, input_):\n",
    "        self.x_previous_layer = input_\n",
    "        return (self.w.mm(input_.t()) + self.b).t()\n",
    "        \n",
    "    def backward(self, gradwrtoutput):\n",
    "        dz = gradwrtoutput.t()\n",
    "        dw = dz.mm(self.x_previous_layer)\n",
    "        db = dz\n",
    "        # sum the gradients for the weights and biases\n",
    "        self.grad_w_sum += dw\n",
    "        self.grad_b_sum += db.sum(1).unsqueeze(1)\n",
    "        return (self.w.t().mm(dz)).t()\n",
    "        \n",
    "    # returns a list of pairs, each composed of a parameter tensor and a gradient tensor\n",
    "    # parameters: weights and biases\n",
    "    def param(self):\n",
    "        return [ (self.w, self.grad_w_sum), (self.b, self.grad_b_sum) ]\n",
    "    \n",
    "    def zero_grad(self):\n",
    "        self.grad_w_sum.zero_()\n",
    "        self.grad_b_sum.zero_()"
   ]
  },
  {
   "cell_type": "markdown",
   "metadata": {},
   "source": [
    "## Sequential Module\n",
    "to combine several modules in basic sequential structure"
   ]
  },
  {
   "cell_type": "code",
   "execution_count": 85,
   "metadata": {},
   "outputs": [],
   "source": [
    "# This module allows to combine several modules (layers, activation functions) in a basic sequential structure\n",
    "class Sequential(Module):    \n",
    "    def __init__(self, *layers_):\n",
    "        self.modules = layers_\n",
    "        \n",
    "    # input_: the input data is a minibatch whose columns are features and lines are samples\n",
    "    def forward(self, input_):\n",
    "        x = input_\n",
    "        for module in self.modules:\n",
    "            x = module.forward(x)\n",
    "        return x\n",
    "        \n",
    "    def backward(self, gradwrtoutput):\n",
    "        x = gradwrtoutput\n",
    "        for module in reversed(self.modules):\n",
    "            x = module.backward(x)\n",
    "        return x\n",
    "        \n",
    "    # returns a flatened list of each module's parameters\n",
    "    # each parameter in the list is represented as a tuple containing the parameter tensor (e.g. w)\n",
    "    # and the gradient tensor (e.g. dl/dw)\n",
    "    def param(self):\n",
    "        return [ p for module in self.modules for p in module.param() ]\n",
    "    \n",
    "    # s,\n",
    "    def zero_grad(self):\n",
    "        for module in self.modules:\n",
    "            module.zero_grad()"
   ]
  },
  {
   "cell_type": "markdown",
   "metadata": {},
   "source": [
    "## MSE Loss Function"
   ]
  },
  {
   "cell_type": "code",
   "execution_count": 86,
   "metadata": {},
   "outputs": [],
   "source": [
    "class LossMSE(Module): \n",
    "    def __init__(self):\n",
    "        self.error = None\n",
    "        \n",
    "    def forward(self, preds, labels):\n",
    "        self.error = preds - labels\n",
    "        return self.error.pow(2).sum()\n",
    "        \n",
    "    def backward(self):\n",
    "        return 2 * self.error\n",
    "        \n",
    "    def param(self):\n",
    "        return []"
   ]
  },
  {
   "cell_type": "markdown",
   "metadata": {},
   "source": [
    "## Cross-entropy Loss Function"
   ]
  },
  {
   "cell_type": "code",
   "execution_count": 87,
   "metadata": {},
   "outputs": [],
   "source": [
    "class LossCrossEntropy(Module): \n",
    "    def __init__(self):\n",
    "        self.p = None\n",
    "        self.c = None\n",
    "        \n",
    "    # stabilized version of softmax: convert each prediction to a probability\n",
    "    # to avoid nans due to big exponentials\n",
    "    def softmax(self, t):\n",
    "        stable_exp = (t - t.max(1)[0].unsqueeze(1)).exp()\n",
    "        return stable_exp / (stable_exp.sum(1).unsqueeze(1))\n",
    "        \n",
    "    def forward(self, preds, labels):\n",
    "        self.p = self.softmax(preds)\n",
    "        self.c = labels\n",
    "        return -(self.c * self.p.log()).sum()\n",
    "        \n",
    "    def backward(self):\n",
    "        return(self.p-self.c)\n",
    "        \n",
    "    def param(self):\n",
    "        return []"
   ]
  },
  {
   "cell_type": "markdown",
   "metadata": {},
   "source": [
    "## SGD optimization"
   ]
  },
  {
   "cell_type": "code",
   "execution_count": 88,
   "metadata": {},
   "outputs": [],
   "source": [
    "class optim_SGD(Module):\n",
    "    # parameters: the parameters of the Sequential module\n",
    "    def __init__(self, parameters, learning_rate):\n",
    "        self.param = parameters #[ p.shallow() for tup in parameters for p in tup ]\n",
    "        self.lr = learning_rate\n",
    "        \n",
    "    # performs a gradient step (SGD) for all parameters\n",
    "    def step(self):\n",
    "        for (p, grad_p) in self.param:\n",
    "            p.sub_(self.lr*grad_p)"
   ]
  },
  {
   "cell_type": "markdown",
   "metadata": {},
   "source": [
    "## Helpers"
   ]
  },
  {
   "cell_type": "code",
   "execution_count": 89,
   "metadata": {},
   "outputs": [],
   "source": [
    "def generate_disc_set(nb):\n",
    "    a = Tensor(nb, 2).uniform_(0, 1)\n",
    "    target = (((a-0.5).pow(2).sum(1)).sqrt() < math.sqrt(1/(2*math.pi))).long()\n",
    "    return a, target"
   ]
  },
  {
   "cell_type": "code",
   "execution_count": 90,
   "metadata": {},
   "outputs": [],
   "source": [
    "# converts 'target' Tensor to one hot labels\n",
    "def convert_to_one_hot(target):\n",
    "    tmp = FloatTensor(target.size(0), 2).fill_(0)\n",
    "    for k in range(0, target.size(0)):\n",
    "        tmp[k, target[k]] = 1\n",
    "    return tmp"
   ]
  },
  {
   "cell_type": "code",
   "execution_count": 91,
   "metadata": {},
   "outputs": [],
   "source": [
    "def compute_accuracy(model, input_, target):\n",
    "    nb_data_errors = 0\n",
    "    output = model.forward(input_)\n",
    "\n",
    "    _, predicted_classes = output.max(1)\n",
    "    for k in range(input_.size(0)):\n",
    "        if target[k] != predicted_classes[k]:\n",
    "            nb_data_errors = nb_data_errors + 1\n",
    "    return 100 - (100*(nb_data_errors / input_.size(0)))"
   ]
  },
  {
   "cell_type": "code",
   "execution_count": 92,
   "metadata": {
    "scrolled": true
   },
   "outputs": [],
   "source": [
    "def train_model(train_input, train_one_hot_target, model, criterion, optimizer, nb_epochs=100, mini_batch_size=5, verbose=False):\n",
    "    for e in range(0, nb_epochs):\n",
    "        loss = 0\n",
    "        for b in range(0, train_input.size(0), mini_batch_size):\n",
    "            output = model.forward(train_input.narrow(0, b, mini_batch_size))\n",
    "            # sum the loss for each batch to get the current epoch's loss\n",
    "            loss += criterion.forward(output, train_one_hot_target.narrow(0, b, mini_batch_size))\n",
    "            # set the gradients of all layers to zero before the next batch can go through the network\n",
    "            model.zero_grad()\n",
    "            model.backward(criterion.backward())\n",
    "            optimizer.step() # performs a gradient step to optimize the parameters\n",
    "        if verbose:\n",
    "            print(\"Epoch\", e+1, \":\", loss)"
   ]
  },
  {
   "cell_type": "markdown",
   "metadata": {},
   "source": [
    "## Test file"
   ]
  },
  {
   "cell_type": "code",
   "execution_count": 93,
   "metadata": {},
   "outputs": [],
   "source": [
    "# generate training and testing data\n",
    "train_input, train_target = generate_disc_set(1000)\n",
    "test_input, test_target = generate_disc_set(1000)\n",
    "\n",
    "# convert targets to one hot labels\n",
    "train_one_hot_target = convert_to_one_hot(train_target)\n",
    "test_one_hot_target = convert_to_one_hot(test_target)"
   ]
  },
  {
   "cell_type": "code",
   "execution_count": 94,
   "metadata": {
    "scrolled": false
   },
   "outputs": [
    {
     "name": "stdout",
     "output_type": "stream",
     "text": [
      "Epoch 1 : 13257.73107166785\n",
      "Epoch 2 : 187.43299336306399\n",
      "Epoch 3 : 180.4349893641963\n",
      "Epoch 4 : 175.26777482688135\n",
      "Epoch 5 : 168.27365114174822\n",
      "Epoch 6 : 157.74529368249625\n",
      "Epoch 7 : 139.19655357947505\n",
      "Epoch 8 : 114.70104860879302\n",
      "Epoch 9 : 95.27230610372244\n",
      "Epoch 10 : 79.87113861192488\n",
      "Epoch 11 : 72.27826486864699\n",
      "Epoch 12 : 67.95747287673457\n",
      "Epoch 13 : 64.71159408829863\n",
      "Epoch 14 : 62.06390336946616\n",
      "Epoch 15 : 59.6508522550436\n",
      "Epoch 16 : 57.50170749957235\n",
      "Epoch 17 : 55.41991055531961\n",
      "Epoch 18 : 53.45476692533729\n",
      "Epoch 19 : 51.715203675003934\n",
      "Epoch 20 : 50.124037997089886\n",
      "Epoch 21 : 48.69843302650733\n",
      "Epoch 22 : 47.214209328893254\n",
      "Epoch 23 : 46.06037787757636\n",
      "Epoch 24 : 45.07272486671839\n",
      "Epoch 25 : 44.15307514667424\n",
      "Epoch 26 : 43.3029090386791\n",
      "Epoch 27 : 42.48654155035658\n",
      "Epoch 28 : 41.8322036135676\n",
      "Epoch 29 : 41.12969682220667\n",
      "Epoch 30 : 40.48452206207522\n",
      "Epoch 31 : 39.900702329054035\n",
      "Epoch 32 : 39.339075614669675\n",
      "Epoch 33 : 38.8405862264273\n",
      "Epoch 34 : 38.3653055756281\n",
      "Epoch 35 : 37.90402362424067\n",
      "Epoch 36 : 37.453688099826586\n",
      "Epoch 37 : 37.01440468298877\n",
      "Epoch 38 : 36.60412018632934\n",
      "Epoch 39 : 36.17639460744158\n",
      "Epoch 40 : 35.79034597337238\n",
      "Epoch 41 : 35.40629046125483\n",
      "Epoch 42 : 35.04092432504864\n",
      "Epoch 43 : 34.676814891445275\n",
      "Epoch 44 : 34.3584288586068\n",
      "Epoch 45 : 33.99346619310074\n",
      "Epoch 46 : 33.695227760693726\n",
      "Epoch 47 : 33.364708578269195\n",
      "Epoch 48 : 33.03034684111713\n",
      "Epoch 49 : 32.693897948396014\n",
      "Epoch 50 : 32.37087917941088\n",
      "Epoch 51 : 32.060780184343564\n",
      "Epoch 52 : 31.848453493184696\n",
      "Epoch 53 : 31.52640818855548\n",
      "Epoch 54 : 31.227693149339785\n",
      "Epoch 55 : 30.926059157928034\n",
      "Epoch 56 : 30.650110079668774\n",
      "Epoch 57 : 30.36925808578192\n",
      "Epoch 58 : 30.11077947255467\n",
      "Epoch 59 : 29.847627203585034\n",
      "Epoch 60 : 29.57833584179277\n",
      "Epoch 61 : 29.309849558514443\n",
      "Epoch 62 : 29.077207903422202\n",
      "Epoch 63 : 28.83815965945843\n",
      "Epoch 64 : 28.608764809138574\n",
      "Epoch 65 : 28.38804653976363\n",
      "Epoch 66 : 28.164734745186863\n",
      "Epoch 67 : 27.95451730157539\n",
      "Epoch 68 : 27.733199863136875\n",
      "Epoch 69 : 27.525390786516912\n",
      "Epoch 70 : 27.33311652380355\n",
      "Epoch 71 : 27.12617151582386\n",
      "Epoch 72 : 26.95663888830404\n",
      "Epoch 73 : 26.760977143444283\n",
      "Epoch 74 : 26.574778408574193\n",
      "Epoch 75 : 26.408578509406112\n",
      "Epoch 76 : 26.24720499541494\n",
      "Epoch 77 : 26.09351650737184\n",
      "Epoch 78 : 25.943345717902652\n",
      "Epoch 79 : 25.79725398708913\n",
      "Epoch 80 : 25.651689813712363\n",
      "Epoch 81 : 25.530620582012254\n",
      "Epoch 82 : 25.37860295928884\n",
      "Epoch 83 : 25.246512009378\n",
      "Epoch 84 : 25.11312981196377\n",
      "Epoch 85 : 24.99731882277232\n",
      "Epoch 86 : 24.876994911519375\n",
      "Epoch 87 : 24.76301890339635\n",
      "Epoch 88 : 24.628995212972885\n",
      "Epoch 89 : 24.508880624057973\n",
      "Epoch 90 : 24.410898950703476\n",
      "Epoch 91 : 24.3100475956688\n",
      "Epoch 92 : 24.20606783254719\n",
      "Epoch 93 : 24.112680883444213\n",
      "Epoch 94 : 24.004593397075755\n",
      "Epoch 95 : 23.914525087250173\n",
      "Epoch 96 : 23.82538613428503\n",
      "Epoch 97 : 23.756446657764393\n",
      "Epoch 98 : 23.672276028578132\n",
      "Epoch 99 : 23.58928524946784\n",
      "Epoch 100 : 23.50819905309277\n",
      "Train accuracy : 98.8 %\n",
      "Test accuracy : 98.9 %\n"
     ]
    }
   ],
   "source": [
    "nb_epochs = 100\n",
    "mini_batch_size = 5\n",
    "model = Sequential(Linear(2,25), Tanh(), Linear(25,25), Tanh(), Linear(25, 25), ReLU(), Linear(25,2))\n",
    "criterion = LossMSE()\n",
    "#criterion = LossCrossEntropy()\n",
    "optimizer = optim_SGD(model.param(), 1e-3)\n",
    "\n",
    "train_model(train_input, train_one_hot_target, model, criterion, optimizer, nb_epochs, mini_batch_size, verbose=True)\n",
    "\n",
    "print(\"Train accuracy :\", compute_accuracy(model, train_input, train_target), \"%\")\n",
    "print(\"Test accuracy :\", compute_accuracy(model, test_input, test_target), \"%\")"
   ]
  },
  {
   "cell_type": "code",
   "execution_count": 95,
   "metadata": {
    "scrolled": false
   },
   "outputs": [
    {
     "name": "stdout",
     "output_type": "stream",
     "text": [
      "iter 1\n",
      "Train accuracy : 98.3 %\n",
      "Test accuracy : 99.0 %\n",
      "iter 2\n",
      "Train accuracy : 98.8 %\n",
      "Test accuracy : 98.8 %\n",
      "iter 3\n",
      "Train accuracy : 98.0 %\n",
      "Test accuracy : 98.5 %\n",
      "iter 4\n",
      "Train accuracy : 98.8 %\n",
      "Test accuracy : 98.6 %\n",
      "iter 5\n",
      "Train accuracy : 96.9 %\n",
      "Test accuracy : 97.3 %\n",
      "iter 6\n",
      "Train accuracy : 98.5 %\n",
      "Test accuracy : 98.9 %\n",
      "iter 7\n",
      "Train accuracy : 97.8 %\n",
      "Test accuracy : 98.1 %\n",
      "iter 8\n",
      "Train accuracy : 99.0 %\n",
      "Test accuracy : 99.0 %\n",
      "iter 9\n",
      "Train accuracy : 98.6 %\n",
      "Test accuracy : 99.2 %\n",
      "iter 10\n",
      "Train accuracy : 98.6 %\n",
      "Test accuracy : 98.8 %\n"
     ]
    }
   ],
   "source": [
    "n_iters = 10\n",
    "test_acc=[]\n",
    "train_acc=[]\n",
    "for i in range(n_iters):\n",
    "    print('iter', i+1)\n",
    "    model = Sequential(Linear(2,25), Tanh(), Linear(25,25), Tanh(), Linear(25, 25), Tanh(), Linear(25,2))\n",
    "    criterion = LossMSE()\n",
    "    #criterion = LossCrossEntropy()\n",
    "    optimizer = optim_SGD(model.param(), 1e-3)\n",
    "    \n",
    "    train_model(train_input, train_one_hot_target, model, criterion, optimizer, nb_epochs, mini_batch_size)\n",
    "\n",
    "    train_a = compute_accuracy(model, train_input, train_target)\n",
    "    test_a = compute_accuracy(model, test_input, test_target)\n",
    "    print(\"Train accuracy :\", train_a, \"%\")\n",
    "    print(\"Test accuracy :\", test_a, \"%\")\n",
    "    train_acc.append(train_a)\n",
    "    test_acc.append(test_a)"
   ]
  },
  {
   "cell_type": "code",
   "execution_count": 22,
   "metadata": {},
   "outputs": [
    {
     "name": "stdout",
     "output_type": "stream",
     "text": [
      "train accuracy 99.014\n",
      "test accuracy 98.94199999999995\n"
     ]
    }
   ],
   "source": [
    "print('train accuracy', sum(train_acc)/len(train_acc))\n",
    "print('test accuracy', sum(test_acc)/len(test_acc))"
   ]
  },
  {
   "cell_type": "code",
   "execution_count": null,
   "metadata": {},
   "outputs": [],
   "source": []
  }
 ],
 "metadata": {
  "kernelspec": {
   "display_name": "Python 3",
   "language": "python",
   "name": "python3"
  },
  "language_info": {
   "codemirror_mode": {
    "name": "ipython",
    "version": 3
   },
   "file_extension": ".py",
   "mimetype": "text/x-python",
   "name": "python",
   "nbconvert_exporter": "python",
   "pygments_lexer": "ipython3",
   "version": "3.5.2"
  }
 },
 "nbformat": 4,
 "nbformat_minor": 2
}
