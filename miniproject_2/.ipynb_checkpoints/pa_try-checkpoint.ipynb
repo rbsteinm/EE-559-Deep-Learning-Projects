{
 "cells": [
  {
   "cell_type": "code",
   "execution_count": 9,
   "metadata": {},
   "outputs": [],
   "source": [
    "import torch\n",
    "from torch import FloatTensor\n",
    "from torch import LongTensor"
   ]
  },
  {
   "cell_type": "code",
   "execution_count": 6,
   "metadata": {
    "collapsed": true
   },
   "outputs": [],
   "source": [
    "class Module(object):   \n",
    "    def forward(self, *input): \n",
    "        raise NotImplementedError\n",
    "    def backward(self, *gradwrtoutput): \n",
    "        raise NotImplementedError\n",
    "    def param(self): \n",
    "        return []"
   ]
  },
  {
   "cell_type": "code",
   "execution_count": null,
   "metadata": {
    "collapsed": true
   },
   "outputs": [],
   "source": [
    "class Linear(Module):\n",
    "    def __init__(self, in_features, out_features):\n",
    "        self.in = in_features\n",
    "        self.out = out_features\n",
    "        \n",
    "        \n",
    "    def forward(self, *input): \n",
    "        raise NotImplementedError\n",
    "    def backward(self, *gradwrtoutput): \n",
    "        raise NotImplementedError\n",
    "    def param(self): \n",
    "        return []"
   ]
  },
  {
   "cell_type": "code",
   "execution_count": null,
   "metadata": {
    "collapsed": true
   },
   "outputs": [],
   "source": [
    "class ReLU(Module):\n",
    "    def __init__(self):\n",
    "        \n",
    "        \n",
    "    def forward(self, *input): \n",
    "        for inp in input:\n",
    "            return torch.max(inp,torch.zeros_like(inp))\n",
    "    def backward(self, *gradwrtoutput): \n",
    "        return gradwrtoutput\n",
    "    def param(self): \n",
    "        return []"
   ]
  },
  {
   "cell_type": "code",
   "execution_count": null,
   "metadata": {
    "collapsed": true
   },
   "outputs": [],
   "source": [
    "class Tanh(Module):\n",
    "    def __init__(self):\n",
    "        \n",
    "        \n",
    "    def forward(self, *input): \n",
    "        for inp in input:\n",
    "            plus = torch.exp(inp)\n",
    "            minus = torch.exp(-inp)\n",
    "            return (plus - minus) / (plus + minus)\n",
    "    def backward(self, *gradwrtoutput): \n",
    "        return gradwrtoutput\n",
    "    def param(self): \n",
    "        return []"
   ]
  },
  {
   "cell_type": "code",
   "execution_count": null,
   "metadata": {
    "collapsed": true
   },
   "outputs": [],
   "source": [
    "class LossMSE(Module):\n",
    "    def __init__(self):\n",
    "        \n",
    "        \n",
    "    def forward(self, *input): \n",
    "        for inp in input:\n",
    "            plus = torch.exp(inp)\n",
    "            minus = torch.exp(-inp)\n",
    "            return (plus - minus) / (plus + minus)\n",
    "    def backward(self, *gradwrtoutput): \n",
    "        raise NotImplementedError\n",
    "    def param(self): \n",
    "        return []"
   ]
  },
  {
   "cell_type": "code",
   "execution_count": null,
   "metadata": {
    "collapsed": true
   },
   "outputs": [],
   "source": [
    "class Sequential(Module):\n",
    "    def __init__(self, *layers):\n",
    "        self.layers = layers\n",
    "        \n",
    "    def forward(self, *input): \n",
    "        for inp in input:\n",
    "            res = input\n",
    "            for l in layers:\n",
    "                res = l(res)\n",
    "            return res\n",
    "        \n",
    "    def backward(self, *gradwrtoutput): \n",
    "        raise NotImplementedError\n",
    "        \n",
    "    def param(self): \n",
    "        return []"
   ]
  },
  {
   "cell_type": "code",
   "execution_count": null,
   "metadata": {
    "collapsed": true
   },
   "outputs": [],
   "source": []
  },
  {
   "cell_type": "code",
   "execution_count": 15,
   "metadata": {},
   "outputs": [],
   "source": [
    "A = FloatTensor(2,3,4).normal_()"
   ]
  },
  {
   "cell_type": "code",
   "execution_count": 16,
   "metadata": {},
   "outputs": [
    {
     "data": {
      "text/plain": [
       "\n",
       "(0 ,.,.) = \n",
       "  3.1312 -0.0333 -1.3504  0.2021\n",
       " -0.1919  0.1362 -0.2512 -0.4258\n",
       "  0.0755 -1.0149  0.9305  0.9588\n",
       "\n",
       "(1 ,.,.) = \n",
       "  0.0180 -1.3256  0.9309  0.5166\n",
       " -2.0968  0.4607  1.0945  1.5352\n",
       "  0.1910 -0.9250 -1.0271  0.5350\n",
       "[torch.FloatTensor of size 2x3x4]"
      ]
     },
     "execution_count": 16,
     "metadata": {},
     "output_type": "execute_result"
    }
   ],
   "source": [
    "A"
   ]
  },
  {
   "cell_type": "code",
   "execution_count": 24,
   "metadata": {},
   "outputs": [
    {
     "data": {
      "text/plain": [
       "\n",
       "(0 ,.,.) = \n",
       "  3.1312  0.0000  0.0000  0.2021\n",
       "  0.0000  0.1362  0.0000  0.0000\n",
       "  0.0755  0.0000  0.9305  0.9588\n",
       "\n",
       "(1 ,.,.) = \n",
       "  0.0180  0.0000  0.9309  0.5166\n",
       "  0.0000  0.4607  1.0945  1.5352\n",
       "  0.1910  0.0000  0.0000  0.5350\n",
       "[torch.FloatTensor of size 2x3x4]"
      ]
     },
     "execution_count": 24,
     "metadata": {},
     "output_type": "execute_result"
    }
   ],
   "source": [
    "torch.max(A,torch.zeros_like(A))"
   ]
  },
  {
   "cell_type": "code",
   "execution_count": 25,
   "metadata": {},
   "outputs": [
    {
     "data": {
      "text/plain": [
       "\n",
       "(0 ,.,.) = \n",
       " -3.1312  0.0333  1.3504 -0.2021\n",
       "  0.1919 -0.1362  0.2512  0.4258\n",
       " -0.0755  1.0149 -0.9305 -0.9588\n",
       "\n",
       "(1 ,.,.) = \n",
       " -0.0180  1.3256 -0.9309 -0.5166\n",
       "  2.0968 -0.4607 -1.0945 -1.5352\n",
       " -0.1910  0.9250  1.0271 -0.5350\n",
       "[torch.FloatTensor of size 2x3x4]"
      ]
     },
     "execution_count": 25,
     "metadata": {},
     "output_type": "execute_result"
    }
   ],
   "source": [
    "-A"
   ]
  },
  {
   "cell_type": "code",
   "execution_count": 26,
   "metadata": {},
   "outputs": [
    {
     "data": {
      "text/plain": [
       "\n",
       "(0 ,.,.) = \n",
       "  1  1  1  1\n",
       "  1  1  1  1\n",
       "  1  1  1  1\n",
       "\n",
       "(1 ,.,.) = \n",
       "  1  1  1  1\n",
       "  1  1  1  1\n",
       "  1  1  1  1\n",
       "[torch.FloatTensor of size 2x3x4]"
      ]
     },
     "execution_count": 26,
     "metadata": {},
     "output_type": "execute_result"
    }
   ],
   "source": [
    "A /A"
   ]
  },
  {
   "cell_type": "code",
   "execution_count": null,
   "metadata": {
    "collapsed": true
   },
   "outputs": [],
   "source": []
  }
 ],
 "metadata": {
  "kernelspec": {
   "display_name": "Python 3",
   "language": "python",
   "name": "python3"
  },
  "language_info": {
   "codemirror_mode": {
    "name": "ipython",
    "version": 3
   },
   "file_extension": ".py",
   "mimetype": "text/x-python",
   "name": "python",
   "nbconvert_exporter": "python",
   "pygments_lexer": "ipython3",
   "version": "3.6.3"
  }
 },
 "nbformat": 4,
 "nbformat_minor": 2
}
