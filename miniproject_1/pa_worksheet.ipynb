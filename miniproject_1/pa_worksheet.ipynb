{
 "cells": [
  {
   "cell_type": "code",
   "execution_count": 1,
   "metadata": {},
   "outputs": [],
   "source": [
    "import torch\n",
    "from torch import Tensor\n",
    "from torch.autograd import Variable\n",
    "from torch import nn\n",
    "from torch.nn import functional as F\n",
    "\n",
    "import pickle \n",
    "import json\n",
    "\n",
    "import dlc_bci as bci\n",
    "from helpers import *\n",
    "\n",
    "import numpy as np\n",
    "\n",
    "import matplotlib as mpl\n",
    "mpl.rcParams['figure.figsize'] = (10,10)\n",
    "import matplotlib.pyplot as plt\n",
    "import seaborn as sns\n",
    "\n",
    "torch.manual_seed(1)\n",
    "torch.set_num_threads(4)\n",
    "\n",
    "%load_ext autoreload\n",
    "%autoreload 2"
   ]
  },
  {
   "cell_type": "markdown",
   "metadata": {},
   "source": [
    "### Importing the data"
   ]
  },
  {
   "cell_type": "code",
   "execution_count": 374,
   "metadata": {},
   "outputs": [
    {
     "name": "stdout",
     "output_type": "stream",
     "text": [
      "Train input : <class 'torch.FloatTensor'> torch.Size([316, 28, 50])\n",
      "Train target : <class 'torch.LongTensor'> torch.Size([316])\n",
      "Test input : <class 'torch.FloatTensor'> torch.Size([100, 28, 50])\n",
      "Test target : <class 'torch.LongTensor'> torch.Size([100])\n"
     ]
    }
   ],
   "source": [
    "# Subset of data sampled at 100Hz\n",
    "train_input , train_target = bci.load(root = './data_bci')\n",
    "print(\"Train input :\", str(type(train_input)), train_input.size()) \n",
    "print(\"Train target :\", str(type(train_target)), train_target.size())\n",
    "test_input , test_target = bci.load(root = './data_bci', train = False)\n",
    "print(\"Test input :\", str(type(test_input)), test_input.size()) \n",
    "print(\"Test target :\", str(type(test_target)), test_target.size())"
   ]
  },
  {
   "cell_type": "code",
   "execution_count": 2,
   "metadata": {},
   "outputs": [
    {
     "name": "stdout",
     "output_type": "stream",
     "text": [
      "Train input : <class 'torch.FloatTensor'> torch.Size([316, 28, 500])\n",
      "Train target : <class 'torch.LongTensor'> torch.Size([316])\n",
      "Test input : <class 'torch.FloatTensor'> torch.Size([100, 28, 500])\n",
      "Test target : <class 'torch.LongTensor'> torch.Size([100])\n"
     ]
    }
   ],
   "source": [
    "# Full data sampled at 1Khz\n",
    "train_input , train_target = bci.load(root = './data_bci', one_khz = True)\n",
    "print(\"Train input :\", str(type(train_input)), train_input.size()) \n",
    "print(\"Train target :\", str(type(train_target)), train_target.size())\n",
    "test_input , test_target = bci.load(root = './data_bci', train = False, one_khz = True)\n",
    "print(\"Test input :\", str(type(test_input)), test_input.size()) \n",
    "print(\"Test target :\", str(type(test_target)), test_target.size())"
   ]
  },
  {
   "cell_type": "code",
   "execution_count": 3,
   "metadata": {
    "scrolled": true
   },
   "outputs": [
    {
     "data": {
      "text/plain": [
       "\n",
       "  30.8000   33.1000   37.9000  ...    76.9000   75.9000   72.3000\n",
       " -22.6000  -19.2000  -11.8000  ...    26.8000   22.9000   16.4000\n",
       "  11.2000   16.7000   26.4000  ...    64.1000   62.0000   55.9000\n",
       "             ...                ⋱                ...             \n",
       "   0.5000    0.5000    0.4000  ...    45.1000   46.2000   46.6000\n",
       "  11.0000   10.6000    9.8000  ...    41.7000   41.5000   40.9000\n",
       "  -9.9000  -10.0000  -10.3000  ...    32.9000   33.8000   32.8000\n",
       "[torch.FloatTensor of size 28x500]"
      ]
     },
     "execution_count": 3,
     "metadata": {},
     "output_type": "execute_result"
    }
   ],
   "source": [
    "train_input[0]"
   ]
  },
  {
   "cell_type": "code",
   "execution_count": 4,
   "metadata": {},
   "outputs": [
    {
     "data": {
      "text/plain": [
       "\n",
       " 0\n",
       " 1\n",
       " 0\n",
       " 1\n",
       " 0\n",
       " 1\n",
       " 0\n",
       " 1\n",
       " 0\n",
       " 0\n",
       " 1\n",
       " 1\n",
       " 0\n",
       " 0\n",
       " 1\n",
       " 1\n",
       " 1\n",
       " 0\n",
       " 0\n",
       " 1\n",
       " 0\n",
       " 0\n",
       " 1\n",
       " 0\n",
       " 1\n",
       " 0\n",
       " 0\n",
       " 0\n",
       " 0\n",
       " 0\n",
       " 0\n",
       " 0\n",
       " 1\n",
       " 1\n",
       " 1\n",
       " 1\n",
       " 1\n",
       " 1\n",
       " 0\n",
       " 1\n",
       " 0\n",
       " 1\n",
       " 0\n",
       " 0\n",
       " 1\n",
       " 0\n",
       " 1\n",
       " 1\n",
       " 0\n",
       " 1\n",
       " 1\n",
       " 0\n",
       " 0\n",
       " 1\n",
       " 0\n",
       " 0\n",
       " 1\n",
       " 0\n",
       " 1\n",
       " 0\n",
       " 1\n",
       " 0\n",
       " 0\n",
       " 1\n",
       " 0\n",
       " 0\n",
       " 0\n",
       " 0\n",
       " 0\n",
       " 1\n",
       " 0\n",
       " 1\n",
       " 0\n",
       " 0\n",
       " 0\n",
       " 0\n",
       " 0\n",
       " 1\n",
       " 1\n",
       " 1\n",
       " 0\n",
       " 1\n",
       " 0\n",
       " 1\n",
       " 1\n",
       " 1\n",
       " 1\n",
       " 1\n",
       " 1\n",
       " 1\n",
       " 1\n",
       " 1\n",
       " 0\n",
       " 0\n",
       " 0\n",
       " 0\n",
       " 1\n",
       " 1\n",
       " 1\n",
       " 0\n",
       " 1\n",
       " 1\n",
       " 1\n",
       " 0\n",
       " 1\n",
       " 0\n",
       " 1\n",
       " 1\n",
       " 1\n",
       " 0\n",
       " 1\n",
       " 0\n",
       " 1\n",
       " 0\n",
       " 0\n",
       " 0\n",
       " 1\n",
       " 0\n",
       " 0\n",
       " 1\n",
       " 1\n",
       " 1\n",
       " 1\n",
       " 0\n",
       " 1\n",
       " 1\n",
       " 0\n",
       " 0\n",
       " 1\n",
       " 1\n",
       " 1\n",
       " 1\n",
       " 1\n",
       " 0\n",
       " 0\n",
       " 0\n",
       " 0\n",
       " 1\n",
       " 1\n",
       " 0\n",
       " 1\n",
       " 1\n",
       " 1\n",
       " 1\n",
       " 1\n",
       " 1\n",
       " 1\n",
       " 0\n",
       " 0\n",
       " 0\n",
       " 1\n",
       " 1\n",
       " 0\n",
       " 0\n",
       " 1\n",
       " 1\n",
       " 0\n",
       " 0\n",
       " 0\n",
       " 0\n",
       " 0\n",
       " 1\n",
       " 1\n",
       " 1\n",
       " 1\n",
       " 1\n",
       " 1\n",
       " 0\n",
       " 1\n",
       " 0\n",
       " 1\n",
       " 1\n",
       " 0\n",
       " 1\n",
       " 0\n",
       " 0\n",
       " 1\n",
       " 1\n",
       " 1\n",
       " 0\n",
       " 0\n",
       " 1\n",
       " 0\n",
       " 0\n",
       " 0\n",
       " 0\n",
       " 0\n",
       " 1\n",
       " 1\n",
       " 0\n",
       " 0\n",
       " 0\n",
       " 0\n",
       " 1\n",
       " 0\n",
       " 0\n",
       " 0\n",
       " 1\n",
       " 0\n",
       " 0\n",
       " 1\n",
       " 0\n",
       " 0\n",
       " 0\n",
       " 1\n",
       " 1\n",
       " 1\n",
       " 0\n",
       " 0\n",
       " 0\n",
       " 1\n",
       " 1\n",
       " 1\n",
       " 0\n",
       " 0\n",
       " 0\n",
       " 1\n",
       " 0\n",
       " 1\n",
       " 1\n",
       " 1\n",
       " 1\n",
       " 1\n",
       " 1\n",
       " 1\n",
       " 0\n",
       " 1\n",
       " 0\n",
       " 0\n",
       " 0\n",
       " 1\n",
       " 0\n",
       " 1\n",
       " 1\n",
       " 1\n",
       " 0\n",
       " 1\n",
       " 1\n",
       " 0\n",
       " 0\n",
       " 0\n",
       " 1\n",
       " 1\n",
       " 0\n",
       " 1\n",
       " 1\n",
       " 0\n",
       " 1\n",
       " 1\n",
       " 1\n",
       " 1\n",
       " 1\n",
       " 0\n",
       " 1\n",
       " 0\n",
       " 1\n",
       " 0\n",
       " 0\n",
       " 0\n",
       " 0\n",
       " 0\n",
       " 0\n",
       " 1\n",
       " 1\n",
       " 1\n",
       " 0\n",
       " 1\n",
       " 1\n",
       " 1\n",
       " 0\n",
       " 1\n",
       " 0\n",
       " 0\n",
       " 1\n",
       " 1\n",
       " 0\n",
       " 0\n",
       " 1\n",
       " 0\n",
       " 0\n",
       " 1\n",
       " 0\n",
       " 0\n",
       " 0\n",
       " 1\n",
       " 0\n",
       " 0\n",
       " 1\n",
       " 1\n",
       " 0\n",
       " 0\n",
       " 1\n",
       " 1\n",
       " 1\n",
       " 0\n",
       " 1\n",
       " 0\n",
       " 1\n",
       " 1\n",
       " 1\n",
       " 0\n",
       " 1\n",
       " 1\n",
       " 0\n",
       " 1\n",
       " 0\n",
       " 0\n",
       " 0\n",
       " 0\n",
       " 0\n",
       " 0\n",
       " 0\n",
       " 0\n",
       " 0\n",
       " 0\n",
       " 0\n",
       "[torch.LongTensor of size 316]"
      ]
     },
     "execution_count": 4,
     "metadata": {},
     "output_type": "execute_result"
    }
   ],
   "source": [
    "train_target"
   ]
  },
  {
   "cell_type": "markdown",
   "metadata": {},
   "source": [
    "### Preprocessing the data\n",
    "Normalizing :"
   ]
  },
  {
   "cell_type": "code",
   "execution_count": 5,
   "metadata": {
    "scrolled": true
   },
   "outputs": [],
   "source": [
    "train_mean = train_input.mean(2).mean(0).unsqueeze(1).expand(-1,train_input.size(2))\n",
    "train_std = train_input.std(2).std(0).unsqueeze(1).expand(-1,train_input.size(2))"
   ]
  },
  {
   "cell_type": "code",
   "execution_count": 6,
   "metadata": {
    "collapsed": true,
    "scrolled": true
   },
   "outputs": [],
   "source": [
    "test_mean = test_input.mean(2).mean(0).unsqueeze(1).expand(-1,test_input.size(2))\n",
    "test_std = test_input.std(2).std(0).unsqueeze(1).expand(-1,test_input.size(2))"
   ]
  },
  {
   "cell_type": "code",
   "execution_count": 7,
   "metadata": {
    "scrolled": true
   },
   "outputs": [
    {
     "name": "stdout",
     "output_type": "stream",
     "text": [
      "done\n"
     ]
    }
   ],
   "source": [
    "# normalize mean to 0\n",
    "train_input.sub_(train_mean)\n",
    "test_input.sub_(test_mean)\n",
    "\n",
    "# normalize variance to 1\n",
    "train_input.div_(train_input.std())\n",
    "test_input.div_(test_input.std())\n",
    "\n",
    "print('done')"
   ]
  },
  {
   "cell_type": "markdown",
   "metadata": {},
   "source": [
    "Window slicing for data augmentation :"
   ]
  },
  {
   "cell_type": "code",
   "execution_count": 8,
   "metadata": {
    "collapsed": true
   },
   "outputs": [],
   "source": [
    "seq = [ train_input[:,:,i::10] for i in range(10) ]\n",
    "train_input = torch.cat(seq)"
   ]
  },
  {
   "cell_type": "code",
   "execution_count": 9,
   "metadata": {
    "collapsed": true
   },
   "outputs": [],
   "source": [
    "train_target = torch.cat([train_target]*10)"
   ]
  },
  {
   "cell_type": "code",
   "execution_count": 10,
   "metadata": {
    "collapsed": true
   },
   "outputs": [],
   "source": [
    "seq = [ test_input[:,:,i::10] for i in range(10) ]\n",
    "test_input = torch.cat(seq)"
   ]
  },
  {
   "cell_type": "code",
   "execution_count": 11,
   "metadata": {
    "collapsed": true
   },
   "outputs": [],
   "source": [
    "test_target = torch.cat([test_target]*10)"
   ]
  },
  {
   "cell_type": "code",
   "execution_count": 12,
   "metadata": {
    "scrolled": true
   },
   "outputs": [
    {
     "data": {
      "text/plain": [
       "\n",
       "( 0  ,.,.) = \n",
       " -1.1184e+00 -6.6277e-01 -1.1995e+00  ...   4.5434e-01 -2.1655e-01  3.7009e-01\n",
       " -6.8330e-01  7.6446e-05 -7.4883e-01  ...   1.0049e+00  8.7448e-02  1.0891e+00\n",
       " -1.1344e+00 -6.4085e-02 -1.1812e+00  ...   9.9686e-01 -3.5741e-01  1.2122e+00\n",
       "                 ...                   ⋱                   ...                \n",
       " -3.4267e-01 -2.2721e-01 -7.1193e-02  ...   8.4621e-01  8.3997e-01  7.6820e-01\n",
       " -3.7571e-01 -1.5416e-01  2.5774e-01  ...   9.5359e-01  9.5359e-01  6.4467e-01\n",
       " -5.9022e-01 -3.2186e-01 -5.3502e-02  ...   8.7327e-01  8.9511e-01  6.1739e-01\n",
       "\n",
       "( 1  ,.,.) = \n",
       "  2.1550e+00  2.1269e+00  2.4670e+00  ...   3.4825e-01  7.7262e-01  5.7604e-01\n",
       "  5.4927e-01  4.3762e-02  6.2416e-01  ...  -1.2356e+00 -3.5877e-01 -1.0234e+00\n",
       " -7.3810e-01 -1.1999e+00 -7.4434e-01  ...  -2.0424e+00 -1.2623e+00 -1.8958e+00\n",
       "                 ...                   ⋱                   ...                \n",
       " -9.4491e-01 -8.7938e-01 -1.2351e+00  ...  -1.3225e+00 -9.8548e-01 -8.4194e-01\n",
       " -5.2861e-01 -5.3797e-01 -8.6874e-01  ...  -9.2802e-01 -4.1939e-01 -1.2607e-01\n",
       " -1.1394e+00 -8.5857e-01 -1.2205e+00  ...  -1.6543e+00 -1.2892e+00 -8.3673e-01\n",
       "\n",
       "( 2  ,.,.) = \n",
       "  8.6130e-02 -3.0080e-01  3.0456e-01  ...  -3.4449e-01  3.3082e-02 -2.3839e-01\n",
       "  4.3382e-01 -4.7735e-01  6.2728e-01  ...  -2.7452e-01  4.9935e-01 -2.5580e-01\n",
       "  4.9447e-01 -8.0675e-01  6.2553e-01  ...  -6.1640e-01  5.1007e-01 -5.7584e-01\n",
       "                 ...                   ⋱                   ...                \n",
       " -2.5842e-01  1.2851e-01  1.5036e-01  ...   2.2420e-02 -3.4579e-01  2.6893e-01\n",
       " -5.5669e-01  3.5447e-01  3.2951e-01  ...   5.1361e-01 -1.8536e-01  4.8670e-02\n",
       " -9.0226e-01 -6.9104e-02  4.1144e-01  ...   2.1486e-01 -2.1264e-01  4.1456e-01\n",
       " ... \n",
       "\n",
       "(3157,.,.) = \n",
       "  7.2270e-01  5.1675e-01  1.6102e-01  ...   9.2371e-02  3.3082e-02  1.1733e-01\n",
       "  3.9325e-01  1.5610e-01 -6.8573e-02  ...  -2.9948e-01 -3.3381e-01 -3.1197e-01\n",
       "  1.8555e-01  4.1646e-01 -2.2323e-01  ...  -5.4724e-02 -5.8832e-01 -1.4210e-01\n",
       "                 ...                   ⋱                   ...                \n",
       "  2.3773e-01 -3.0627e-02 -5.5486e-01  ...  -2.8026e-01 -5.3302e-01 -4.0508e-01\n",
       " -7.3027e-02 -8.3753e-01 -1.4710e+00  ...   7.3634e-02 -4.1822e-02 -4.4943e-02\n",
       "  1.1500e-01 -5.5589e-01 -1.3890e+00  ...   1.4309e-01 -1.4087e-01 -4.7261e-02\n",
       "\n",
       "(3158,.,.) = \n",
       " -1.6844e-02  7.5078e-01  5.4795e-01  ...   1.2357e-01 -3.6945e-01 -9.1735e-02\n",
       "  3.8701e-01  1.4043e+00  1.1359e+00  ...   6.4288e-01  1.5679e-02  4.6814e-01\n",
       "  6.7546e-01  1.8331e+00  1.3027e+00  ...   1.1622e+00  1.8243e-01  9.8438e-01\n",
       "                 ...                   ⋱                   ...                \n",
       "  5.9970e-01  8.7118e-01  8.1501e-01  ...   2.5333e-01  1.0979e-01  3.1781e-02\n",
       "  5.5418e-01  6.3843e-01  1.3916e-01  ...   2.9518e-01  1.7661e-01  2.6827e-02\n",
       "  5.6434e-01  6.7980e-01  2.8663e-01  ...   3.6776e-01  3.3031e-01  5.2593e-02\n",
       "\n",
       "(3159,.,.) = \n",
       " -1.6844e-02  5.0739e-01  1.5790e-01  ...   5.6356e-01  1.0797e-01  5.2611e-01\n",
       "  5.2119e-01  1.5291e+00  4.6190e-01  ...   1.4074e+00  5.0871e-01  1.2857e+00\n",
       "  1.2715e+00  2.3542e+00  1.0967e+00  ...   2.3605e+00  1.1498e+00  2.1545e+00\n",
       "                 ...                   ⋱                   ...                \n",
       "  2.3253e+00  2.2473e+00  2.4688e+00  ...   2.1630e+00  2.4688e+00  2.3409e+00\n",
       "  2.4888e+00  2.5949e+00  2.8321e+00  ...   2.0145e+00  2.3172e+00  2.1362e+00\n",
       "  2.9078e+00  2.8579e+00  3.2354e+00  ...   2.0746e+00  2.7362e+00  2.9078e+00\n",
       "[torch.FloatTensor of size 3160x28x50]"
      ]
     },
     "execution_count": 12,
     "metadata": {},
     "output_type": "execute_result"
    }
   ],
   "source": [
    "train_input"
   ]
  },
  {
   "cell_type": "markdown",
   "metadata": {},
   "source": [
    "Splitting training and validation sets :"
   ]
  },
  {
   "cell_type": "code",
   "execution_count": 13,
   "metadata": {},
   "outputs": [],
   "source": [
    "split = 2500"
   ]
  },
  {
   "cell_type": "code",
   "execution_count": 14,
   "metadata": {},
   "outputs": [],
   "source": [
    "indices = np.arange(train_input.size(0))\n",
    "np.random.shuffle(indices)"
   ]
  },
  {
   "cell_type": "code",
   "execution_count": 15,
   "metadata": {},
   "outputs": [],
   "source": [
    "full_input = train_input.clone()\n",
    "train_input = full_input[indices[:split].tolist()]\n",
    "validation_input = full_input[indices[split:].tolist()]"
   ]
  },
  {
   "cell_type": "code",
   "execution_count": 16,
   "metadata": {},
   "outputs": [],
   "source": [
    "full_target = train_target.clone()\n",
    "train_target = full_target[indices[:split].tolist()]\n",
    "validation_target = full_target[indices[split:].tolist()]"
   ]
  },
  {
   "cell_type": "markdown",
   "metadata": {},
   "source": [
    "## Linear Regression"
   ]
  },
  {
   "cell_type": "code",
   "execution_count": 164,
   "metadata": {
    "collapsed": true
   },
   "outputs": [],
   "source": [
    "from sklearn.linear_model import LinearRegression"
   ]
  },
  {
   "cell_type": "code",
   "execution_count": 165,
   "metadata": {
    "collapsed": true
   },
   "outputs": [],
   "source": [
    "linear_reg = LinearRegression()"
   ]
  },
  {
   "cell_type": "code",
   "execution_count": 166,
   "metadata": {},
   "outputs": [
    {
     "data": {
      "text/plain": [
       "LinearRegression(copy_X=True, fit_intercept=True, n_jobs=1, normalize=False)"
      ]
     },
     "execution_count": 166,
     "metadata": {},
     "output_type": "execute_result"
    }
   ],
   "source": [
    "linear_reg.fit(train_input.view(train_input.size(0),-1),train_target)"
   ]
  },
  {
   "cell_type": "code",
   "execution_count": 167,
   "metadata": {
    "collapsed": true
   },
   "outputs": [],
   "source": [
    "linear_pred_train = discrete_predictions(torch.FloatTensor(linear_reg.predict(train_input.view(train_input.size(0),-1))))"
   ]
  },
  {
   "cell_type": "code",
   "execution_count": 168,
   "metadata": {},
   "outputs": [
    {
     "name": "stdout",
     "output_type": "stream",
     "text": [
      "0.0 % train error\n"
     ]
    }
   ],
   "source": [
    "print(100*((linear_pred_train - train_target).abs().sum()/train_input.size(0)),\"% train error\")"
   ]
  },
  {
   "cell_type": "code",
   "execution_count": 169,
   "metadata": {
    "collapsed": true
   },
   "outputs": [],
   "source": [
    "linear_pred_test = discrete_predictions(torch.FloatTensor(linear_reg.predict(test_input.view(test_input.size(0),-1))))"
   ]
  },
  {
   "cell_type": "code",
   "execution_count": 170,
   "metadata": {},
   "outputs": [
    {
     "name": "stdout",
     "output_type": "stream",
     "text": [
      "34.9 % test error\n"
     ]
    }
   ],
   "source": [
    "print(100*((linear_pred_test - test_target).abs().sum()/test_input.size(0)),\"% test error\")"
   ]
  },
  {
   "cell_type": "markdown",
   "metadata": {},
   "source": [
    "## Ridge Regression"
   ]
  },
  {
   "cell_type": "code",
   "execution_count": 171,
   "metadata": {
    "collapsed": true
   },
   "outputs": [],
   "source": [
    "from sklearn.linear_model import Ridge"
   ]
  },
  {
   "cell_type": "code",
   "execution_count": 172,
   "metadata": {
    "collapsed": true
   },
   "outputs": [],
   "source": [
    "ridge_reg = Ridge()"
   ]
  },
  {
   "cell_type": "code",
   "execution_count": 173,
   "metadata": {},
   "outputs": [
    {
     "data": {
      "text/plain": [
       "Ridge(alpha=1.0, copy_X=True, fit_intercept=True, max_iter=None,\n",
       "   normalize=False, random_state=None, solver='auto', tol=0.001)"
      ]
     },
     "execution_count": 173,
     "metadata": {},
     "output_type": "execute_result"
    }
   ],
   "source": [
    "ridge_reg.fit(train_input.view(train_input.size(0),-1),train_target)"
   ]
  },
  {
   "cell_type": "code",
   "execution_count": 174,
   "metadata": {
    "collapsed": true
   },
   "outputs": [],
   "source": [
    "ridge_pred_train = discrete_predictions(torch.FloatTensor(ridge_reg.predict(train_input.view(train_input.size(0),-1))))"
   ]
  },
  {
   "cell_type": "code",
   "execution_count": 175,
   "metadata": {},
   "outputs": [
    {
     "name": "stdout",
     "output_type": "stream",
     "text": [
      "0.0 % train error\n"
     ]
    }
   ],
   "source": [
    "print(100*((ridge_pred_train - train_target).abs().sum()/train_input.size(0)),\"% train error\")"
   ]
  },
  {
   "cell_type": "code",
   "execution_count": 176,
   "metadata": {
    "collapsed": true
   },
   "outputs": [],
   "source": [
    "ridge_pred_test = discrete_predictions(torch.FloatTensor(ridge_reg.predict(test_input.view(test_input.size(0),-1))))"
   ]
  },
  {
   "cell_type": "code",
   "execution_count": 177,
   "metadata": {},
   "outputs": [
    {
     "name": "stdout",
     "output_type": "stream",
     "text": [
      "34.9 % test error\n"
     ]
    }
   ],
   "source": [
    "print(100*((ridge_pred_test - test_target).abs().sum()/test_input.size(0)),\"% test error\")"
   ]
  },
  {
   "cell_type": "markdown",
   "metadata": {},
   "source": [
    "## Logistic Regression"
   ]
  },
  {
   "cell_type": "code",
   "execution_count": 152,
   "metadata": {
    "collapsed": true
   },
   "outputs": [],
   "source": [
    "from sklearn.linear_model import LogisticRegression"
   ]
  },
  {
   "cell_type": "code",
   "execution_count": 153,
   "metadata": {
    "collapsed": true
   },
   "outputs": [],
   "source": [
    "logistic_reg = LogisticRegression()"
   ]
  },
  {
   "cell_type": "code",
   "execution_count": 154,
   "metadata": {},
   "outputs": [
    {
     "data": {
      "text/plain": [
       "LogisticRegression(C=1.0, class_weight=None, dual=False, fit_intercept=True,\n",
       "          intercept_scaling=1, max_iter=100, multi_class='ovr', n_jobs=1,\n",
       "          penalty='l2', random_state=None, solver='liblinear', tol=0.0001,\n",
       "          verbose=0, warm_start=False)"
      ]
     },
     "execution_count": 154,
     "metadata": {},
     "output_type": "execute_result"
    }
   ],
   "source": [
    "logistic_reg.fit(train_input.view(train_input.size(0),-1),train_target)"
   ]
  },
  {
   "cell_type": "code",
   "execution_count": 155,
   "metadata": {
    "collapsed": true
   },
   "outputs": [],
   "source": [
    "logistic_pred_train = torch.LongTensor(logistic_reg.predict(train_input.view(train_input.size(0),-1)))"
   ]
  },
  {
   "cell_type": "code",
   "execution_count": 156,
   "metadata": {},
   "outputs": [
    {
     "name": "stdout",
     "output_type": "stream",
     "text": [
      "0.0 % train error\n"
     ]
    }
   ],
   "source": [
    "print(100*((logistic_pred_train - train_target).abs().sum()/train_input.size(0)),\"% train error\")"
   ]
  },
  {
   "cell_type": "code",
   "execution_count": 157,
   "metadata": {
    "collapsed": true
   },
   "outputs": [],
   "source": [
    "logistic_pred_test = logistic_reg.predict(test_input.view(test_input.size(0),-1))"
   ]
  },
  {
   "cell_type": "code",
   "execution_count": 158,
   "metadata": {},
   "outputs": [
    {
     "name": "stdout",
     "output_type": "stream",
     "text": [
      "28.000000000000004 % test error\n"
     ]
    }
   ],
   "source": [
    "print(100*((logistic_pred_test - test_target).abs().sum()/test_input.size(0)),\"% test error\")"
   ]
  },
  {
   "cell_type": "markdown",
   "metadata": {},
   "source": [
    "## Neural Networks"
   ]
  },
  {
   "cell_type": "markdown",
   "metadata": {},
   "source": [
    "### Basic MLP"
   ]
  },
  {
   "cell_type": "code",
   "execution_count": 17,
   "metadata": {
    "collapsed": true
   },
   "outputs": [],
   "source": [
    "MLP = nn.Sequential(\n",
    "        nn.Linear(1400, 140),\n",
    "        nn.Tanh(),\n",
    "        nn.Linear(140, 28),\n",
    "        nn.Tanh(),\n",
    "        nn.Linear(28, 2)\n",
    "    )"
   ]
  },
  {
   "cell_type": "code",
   "execution_count": 19,
   "metadata": {
    "scrolled": true
   },
   "outputs": [
    {
     "name": "stdout",
     "output_type": "stream",
     "text": [
      "Epoch 1 loss = 44.072047382593155\n",
      "Epoch 10 loss = 9.844592585228384\n",
      "Epoch 20 loss = 6.37521896418184\n",
      "Epoch 30 loss = 0.04982630047015846\n",
      "Epoch 40 loss = 0.01820115691953106\n",
      "Epoch 50 loss = 0.009272573479393031\n",
      "Epoch 60 loss = 0.00532340435529477\n",
      "Epoch 70 loss = 0.0032243903369817417\n",
      "Epoch 80 loss = 0.0020220179230818758\n",
      "Epoch 90 loss = 0.0012823412580473814\n",
      "Epoch 100 loss = 0.0008373723703698488\n"
     ]
    }
   ],
   "source": [
    "train_model(MLP, Variable(full_input.view(full_input.size(0),-1)), Variable(full_target), 40)"
   ]
  },
  {
   "cell_type": "code",
   "execution_count": 28,
   "metadata": {},
   "outputs": [
    {
     "name": "stdout",
     "output_type": "stream",
     "text": [
      "0.0 % training error\n"
     ]
    }
   ],
   "source": [
    "train_error_mlp = compute_nb_errors(MLP, Variable(full_input.view(full_input.size(0),-1)), Variable(full_target))\n",
    "print(100*(train_error_mlp/full_input.size(0)),'% training error')"
   ]
  },
  {
   "cell_type": "code",
   "execution_count": 29,
   "metadata": {},
   "outputs": [
    {
     "name": "stdout",
     "output_type": "stream",
     "text": [
      "40.5 % test error\n"
     ]
    }
   ],
   "source": [
    "test_error_mlp = compute_nb_errors(MLP, Variable(test_input.view(test_input.size(0),-1)), Variable(test_target))\n",
    "print(100*(test_error_mlp/test_input.size(0)),'% test error')"
   ]
  },
  {
   "cell_type": "markdown",
   "metadata": {},
   "source": [
    "### Basic CNN"
   ]
  },
  {
   "cell_type": "code",
   "execution_count": 60,
   "metadata": {
    "collapsed": true
   },
   "outputs": [],
   "source": [
    "class Basic_CNN(nn.Module):\n",
    "    def __init__(self):\n",
    "        super(Basic_CNN, self).__init__()\n",
    "        self.conv1 = nn.Conv2d(1, 8, kernel_size=3)\n",
    "        self.conv2 = nn.Conv2d(8, 16, kernel_size=5)\n",
    "        self.conv3 = nn.Conv2d(16, 16, kernel_size=3)\n",
    "        self.fc1 = nn.Linear(128, 28)\n",
    "        self.fc2 = nn.Linear(28, 2)\n",
    "\n",
    "    def forward(self, x):\n",
    "        x = F.tanh(F.max_pool2d(self.conv1(x), kernel_size=2, stride=2))\n",
    "        x = F.tanh(F.max_pool2d(self.conv2(x), kernel_size=(3,2), stride=(3,2)))\n",
    "        x = F.tanh(self.conv3(x))\n",
    "        x = F.tanh(self.fc1(x.view(x.size(0),-1)))\n",
    "        x = self.fc2(x)\n",
    "        return x"
   ]
  },
  {
   "cell_type": "code",
   "execution_count": 56,
   "metadata": {
    "collapsed": true
   },
   "outputs": [],
   "source": [
    "cnn = Basic_CNN()"
   ]
  },
  {
   "cell_type": "code",
   "execution_count": null,
   "metadata": {
    "scrolled": true
   },
   "outputs": [],
   "source": [
    "train_model(cnn, Variable(full_input.unsqueeze(1)), Variable(full_target), 40)"
   ]
  },
  {
   "cell_type": "code",
   "execution_count": 30,
   "metadata": {},
   "outputs": [
    {
     "name": "stdout",
     "output_type": "stream",
     "text": [
      "0.0 % training error\n"
     ]
    }
   ],
   "source": [
    "train_error_cnn = compute_nb_errors(cnn, Variable(full_input.unsqueeze(1)), Variable(full_target))\n",
    "print(100*(train_error_cnn/full_input.size(0)),'% training error')"
   ]
  },
  {
   "cell_type": "code",
   "execution_count": 31,
   "metadata": {},
   "outputs": [
    {
     "name": "stdout",
     "output_type": "stream",
     "text": [
      "38.4 % test error\n"
     ]
    }
   ],
   "source": [
    "test_error_cnn = compute_nb_errors(cnn, Variable(test_input.unsqueeze(1)), Variable(test_target))\n",
    "print(100*(test_error_cnn/test_input.size(0)),'% test error')"
   ]
  },
  {
   "cell_type": "markdown",
   "metadata": {},
   "source": [
    "### CNN w 1D filters"
   ]
  },
  {
   "cell_type": "code",
   "execution_count": 39,
   "metadata": {
    "collapsed": true
   },
   "outputs": [],
   "source": [
    "class CNN_1D(nn.Module):\n",
    "    def __init__(self):\n",
    "        super(CNN_1D, self).__init__()\n",
    "        self.conv1 = nn.Conv1d(28, 28, kernel_size=3)\n",
    "        self.conv2 = nn.Conv1d(28, 14, kernel_size=3)\n",
    "        self.conv3 = nn.Conv1d(14, 1, kernel_size=3)\n",
    "        self.fc1 = nn.Linear(9, 36)\n",
    "        self.fc2 = nn.Linear(36, 2)\n",
    "\n",
    "    def forward(self, x):\n",
    "        x = F.tanh(F.max_pool1d(self.conv1(x), kernel_size=2, stride=2))\n",
    "        x = F.tanh(F.max_pool1d(self.conv2(x), kernel_size=2, stride=2))\n",
    "        x = F.tanh(self.conv3(x))\n",
    "        x = self.fc1(x.squeeze(1))\n",
    "        x = self.fc2(F.tanh(x))\n",
    "        return x"
   ]
  },
  {
   "cell_type": "code",
   "execution_count": 33,
   "metadata": {
    "scrolled": true
   },
   "outputs": [
    {
     "name": "stdout",
     "output_type": "stream",
     "text": [
      "Epoch 1 loss = 52.112239360809326\n",
      "Epoch 10 loss = 6.469338921830058\n",
      "Epoch 20 loss = 0.2049055152456276\n",
      "Epoch 30 loss = 0.04752383720187936\n",
      "Epoch 40 loss = 0.019488050551444758\n",
      "Epoch 50 loss = 0.009714462295960402\n",
      "Epoch 60 loss = 0.0053200298571027815\n",
      "Epoch 70 loss = 0.003074018642109877\n",
      "Epoch 80 loss = 0.0018293963439646177\n",
      "Epoch 90 loss = 0.0011096503940279945\n",
      "Epoch 100 loss = 0.0006824515285188681\n"
     ]
    }
   ],
   "source": [
    "cnn_1D = CNN_1D()\n",
    "train_model(cnn_1D, Variable(full_input), Variable(full_target), 40)"
   ]
  },
  {
   "cell_type": "code",
   "execution_count": 34,
   "metadata": {},
   "outputs": [
    {
     "name": "stdout",
     "output_type": "stream",
     "text": [
      "0.0 % training error\n"
     ]
    }
   ],
   "source": [
    "train_error_cnn_1D = compute_nb_errors(cnn_1D, Variable(full_input), Variable(full_target))\n",
    "print(100*(train_error_cnn_1D/full_input.size(0)),'% training error')"
   ]
  },
  {
   "cell_type": "code",
   "execution_count": 35,
   "metadata": {},
   "outputs": [
    {
     "name": "stdout",
     "output_type": "stream",
     "text": [
      "20.8 % test error\n"
     ]
    }
   ],
   "source": [
    "test_error_cnn_1D = compute_nb_errors(cnn_1D, Variable(test_input), Variable(test_target))\n",
    "print(100*(test_error_cnn_1D/test_input.size(0)),'% test error')"
   ]
  },
  {
   "cell_type": "markdown",
   "metadata": {
    "collapsed": true
   },
   "source": [
    "### previous + dropout"
   ]
  },
  {
   "cell_type": "code",
   "execution_count": 40,
   "metadata": {
    "collapsed": true
   },
   "outputs": [],
   "source": [
    "class CNN_dropout(nn.Module):\n",
    "    def __init__(self, dropout=0.5):\n",
    "        super(CNN_dropout, self).__init__()\n",
    "        self.conv1 = nn.Conv1d(28, 28, kernel_size=3)\n",
    "        self.conv2 = nn.Conv1d(28, 14, kernel_size=3)\n",
    "        self.conv3 = nn.Conv1d(14, 1, kernel_size=3)\n",
    "        self.fc1 = nn.Linear(9, 30)\n",
    "        self.dropout = nn.Dropout(dropout)\n",
    "        self.fc2 = nn.Linear(30, 2)\n",
    "\n",
    "    def forward(self, x):\n",
    "        x = F.tanh(F.max_pool1d(self.conv1(x), kernel_size=2, stride=2))\n",
    "        x = F.tanh(F.max_pool1d(self.conv2(x), kernel_size=2, stride=2))\n",
    "        x = F.tanh(self.conv3(x))\n",
    "        x = self.fc1(x.squeeze(1))\n",
    "        x = self.dropout(x)\n",
    "        x = self.fc2(F.tanh(x))\n",
    "        return x"
   ]
  },
  {
   "cell_type": "code",
   "execution_count": 39,
   "metadata": {
    "scrolled": false
   },
   "outputs": [
    {
     "name": "stdout",
     "output_type": "stream",
     "text": [
      "Epoch 1 loss = 54.21390461921692\n",
      "Epoch 10 loss = 13.391567431390285\n",
      "Epoch 20 loss = 0.602470112266019\n",
      "Epoch 30 loss = 0.16750079122721218\n",
      "Epoch 40 loss = 0.073359655601962\n",
      "Epoch 50 loss = 0.03508611716097221\n",
      "Epoch 60 loss = 0.030605764273786917\n",
      "Epoch 70 loss = 0.10801360759069212\n",
      "Epoch 80 loss = 0.04040353424352361\n",
      "Epoch 90 loss = 0.01755940921975707\n",
      "Epoch 100 loss = 0.01218668266574241\n"
     ]
    }
   ],
   "source": [
    "cnn_drop = CNN_dropout()\n",
    "train_model(cnn_drop, Variable(full_input), Variable(full_target), 40)"
   ]
  },
  {
   "cell_type": "code",
   "execution_count": 44,
   "metadata": {},
   "outputs": [
    {
     "name": "stdout",
     "output_type": "stream",
     "text": [
      "0.0 % training error\n"
     ]
    }
   ],
   "source": [
    "train_error_cnn_drop = compute_nb_errors(cnn_drop, Variable(full_input), Variable(full_target))\n",
    "print(100*(train_error_cnn_drop/full_input.size(0)),'% training error')"
   ]
  },
  {
   "cell_type": "code",
   "execution_count": 41,
   "metadata": {},
   "outputs": [
    {
     "name": "stdout",
     "output_type": "stream",
     "text": [
      "24.3 % test error\n"
     ]
    }
   ],
   "source": [
    "test_error_cnn_drop = compute_nb_errors(cnn_drop, Variable(test_input), Variable(test_target))\n",
    "print(100*(test_error_cnn_drop/test_input.size(0)),'% test error')"
   ]
  },
  {
   "cell_type": "markdown",
   "metadata": {},
   "source": [
    "## Batch normalization"
   ]
  },
  {
   "cell_type": "code",
   "execution_count": 41,
   "metadata": {
    "collapsed": true
   },
   "outputs": [],
   "source": [
    "class CNN_batchnorm(nn.Module):\n",
    "    def __init__(self):\n",
    "        super(CNN_batchnorm, self).__init__()\n",
    "        self.conv1 = nn.Conv1d(28, 28, kernel_size=3)\n",
    "        self.bn1 = nn.BatchNorm1d(28)\n",
    "        self.conv2 = nn.Conv1d(28, 14, kernel_size=3)\n",
    "        self.bn2 = nn.BatchNorm1d(14)\n",
    "        self.conv3 = nn.Conv1d(14, 1, kernel_size=3)\n",
    "        self.bn3 = nn.BatchNorm1d(1)\n",
    "        self.fc1 = nn.Linear(9, 30)\n",
    "        self.bn4 = nn.BatchNorm1d(30)\n",
    "        self.fc2 = nn.Linear(30, 2)\n",
    "\n",
    "    def forward(self, x):\n",
    "        x = F.tanh(F.max_pool1d(self.bn1(self.conv1(x)), kernel_size=2, stride=2))\n",
    "        x = F.tanh(F.max_pool1d(self.bn2(self.conv2(x)), kernel_size=2, stride=2))\n",
    "        x = F.tanh(self.bn3(self.conv3(x)))\n",
    "        x = self.fc1(x.squeeze(1))\n",
    "        x = self.fc2(F.tanh(self.bn4(x)))\n",
    "        return x"
   ]
  },
  {
   "cell_type": "code",
   "execution_count": 45,
   "metadata": {
    "scrolled": true
   },
   "outputs": [
    {
     "name": "stdout",
     "output_type": "stream",
     "text": [
      "Epoch 1 loss = 49.73396196961403\n",
      "Epoch 10 loss = 2.693355151452124\n",
      "Epoch 20 loss = 0.20191391304251738\n",
      "Epoch 30 loss = 0.026976141351042315\n",
      "Epoch 40 loss = 0.013303212912433082\n",
      "Epoch 50 loss = 0.007391592858766671\n",
      "Epoch 60 loss = 0.0043405275700934\n",
      "Epoch 70 loss = 0.0026283940233042813\n",
      "Epoch 80 loss = 0.0016277259023809165\n",
      "Epoch 90 loss = 0.0010235974186798558\n",
      "Epoch 100 loss = 0.0006506333036213618\n"
     ]
    }
   ],
   "source": [
    "cnn_norm = CNN_batchnorm()\n",
    "train_model(cnn_norm, Variable(full_input), Variable(full_target), 40)"
   ]
  },
  {
   "cell_type": "code",
   "execution_count": 46,
   "metadata": {},
   "outputs": [
    {
     "name": "stdout",
     "output_type": "stream",
     "text": [
      "0.03164556962025317 % training error\n"
     ]
    }
   ],
   "source": [
    "train_error_cnn_norm = compute_nb_errors(cnn_norm, Variable(full_input), Variable(full_target))\n",
    "print(100*(train_error_cnn_norm/full_input.size(0)),'% training error')"
   ]
  },
  {
   "cell_type": "code",
   "execution_count": 47,
   "metadata": {},
   "outputs": [
    {
     "name": "stdout",
     "output_type": "stream",
     "text": [
      "24.7 % test error\n"
     ]
    }
   ],
   "source": [
    "test_error_cnn_norm = compute_nb_errors(cnn_norm, Variable(test_input), Variable(test_target))\n",
    "print(100*(test_error_cnn_norm/test_input.size(0)),'% test error')"
   ]
  },
  {
   "cell_type": "markdown",
   "metadata": {},
   "source": [
    "## Both dropout and batchnorm"
   ]
  },
  {
   "cell_type": "code",
   "execution_count": 42,
   "metadata": {
    "collapsed": true
   },
   "outputs": [],
   "source": [
    "class CNN_both(nn.Module):\n",
    "    def __init__(self, dropout=0.5):\n",
    "        super(CNN_both, self).__init__()\n",
    "        self.conv1 = nn.Conv1d(28, 28, kernel_size=3)\n",
    "        self.bn1 = nn.BatchNorm1d(28)\n",
    "        self.conv2 = nn.Conv1d(28, 14, kernel_size=3)\n",
    "        self.bn2 = nn.BatchNorm1d(14)\n",
    "        self.conv3 = nn.Conv1d(14, 1, kernel_size=3)\n",
    "        self.bn3 = nn.BatchNorm1d(1)\n",
    "        self.fc1 = nn.Linear(9, 30)\n",
    "        self.bn4 = nn.BatchNorm1d(30)\n",
    "        self.dropout = nn.Dropout(dropout)\n",
    "        self.fc2 = nn.Linear(30, 2)\n",
    "\n",
    "    def forward(self, x):\n",
    "        x = F.tanh(F.max_pool1d(self.bn1(self.conv1(x)), kernel_size=2, stride=2))\n",
    "        x = F.tanh(F.max_pool1d(self.bn2(self.conv2(x)), kernel_size=2, stride=2))\n",
    "        x = F.tanh(self.bn3(self.conv3(x)))\n",
    "        x = self.fc1(x.squeeze(1))\n",
    "        x = self.dropout(self.bn4(x))\n",
    "        x = self.fc2(F.tanh(x))\n",
    "        return x"
   ]
  },
  {
   "cell_type": "code",
   "execution_count": 49,
   "metadata": {
    "scrolled": true
   },
   "outputs": [
    {
     "name": "stdout",
     "output_type": "stream",
     "text": [
      "Epoch 1 loss = 53.4827983379364\n",
      "Epoch 10 loss = 3.010024955496192\n",
      "Epoch 20 loss = 0.169668891641777\n",
      "Epoch 30 loss = 4.367536114295945\n",
      "Epoch 40 loss = 0.0749251453235047\n",
      "Epoch 50 loss = 0.03644149238243699\n",
      "Epoch 60 loss = 0.019753706072151545\n",
      "Epoch 70 loss = 0.014550293459251407\n",
      "Epoch 80 loss = 1.8616079927887768\n",
      "Epoch 90 loss = 0.082001906062942\n",
      "Epoch 100 loss = 0.03303353711817181\n"
     ]
    }
   ],
   "source": [
    "cnn_both = CNN_both()\n",
    "train_model(cnn_both, Variable(full_input), Variable(full_target), 40)"
   ]
  },
  {
   "cell_type": "code",
   "execution_count": 50,
   "metadata": {},
   "outputs": [
    {
     "name": "stdout",
     "output_type": "stream",
     "text": [
      "0.06329113924050633 % training error\n"
     ]
    }
   ],
   "source": [
    "train_error_cnn_both = compute_nb_errors(cnn_both, Variable(full_input), Variable(full_target))\n",
    "print(100*(train_error_cnn_both/full_input.size(0)),'% training error')"
   ]
  },
  {
   "cell_type": "code",
   "execution_count": 51,
   "metadata": {},
   "outputs": [
    {
     "name": "stdout",
     "output_type": "stream",
     "text": [
      "26.700000000000003 % test error\n"
     ]
    }
   ],
   "source": [
    "test_error_cnn_both = compute_nb_errors(cnn_both, Variable(test_input), Variable(test_target))\n",
    "print(100*(test_error_cnn_both/test_input.size(0)),'% test error')"
   ]
  },
  {
   "cell_type": "code",
   "execution_count": null,
   "metadata": {
    "collapsed": true
   },
   "outputs": [],
   "source": []
  },
  {
   "cell_type": "markdown",
   "metadata": {
    "collapsed": true
   },
   "source": [
    "## Grid search"
   ]
  },
  {
   "cell_type": "code",
   "execution_count": 64,
   "metadata": {
    "collapsed": true
   },
   "outputs": [],
   "source": [
    "def find_best_params(network, train_input, train_target, val_input, val_target, learning_rates, nb_epochs_total, epoch_step, mini_batch_size):\n",
    "    res = []\n",
    "    best_error = val_input.size(0)+1\n",
    "    #print(\"MLP\")\n",
    "    print(\"MODEL\", network().__class__.__name__)\n",
    "    print(\"=\"*18)\n",
    "    for lr in learning_rates: \n",
    "        print(\"  Learning rate\", lr, \":\")\n",
    "        print(\"-\"*23)\n",
    "        epoch_acc = []\n",
    "        model = network()\n",
    "        #model = nn.Sequential(\n",
    "        #    nn.Linear(1400, 140),\n",
    "        #    nn.Tanh(),\n",
    "        #    nn.Linear(140, 28),\n",
    "        #    nn.Tanh(),\n",
    "        #    nn.Linear(28, 2)\n",
    "        #)\n",
    "        criterion = nn.CrossEntropyLoss()\n",
    "        optimizer = optim.Adam(model.parameters(), lr=lr)\n",
    "        \n",
    "        for e in range(nb_epochs_total):\n",
    "            sum_loss = 0\n",
    "            model.train()\n",
    "            for b in range(0, train_input.size(0), mini_batch_size):\n",
    "                output = model(train_input.narrow(0, b, mini_batch_size))\n",
    "                loss = criterion(output, train_target.narrow(0, b, mini_batch_size))\n",
    "                sum_loss = sum_loss + loss.data[0]\n",
    "                model.zero_grad()\n",
    "                loss.backward()\n",
    "                optimizer.step()\n",
    "                \n",
    "            if (e+1)%epoch_step == 0 or e==0:\n",
    "                validation_error = compute_nb_errors(model, val_input, val_target)\n",
    "                if (e+1)%(10*epoch_step) == 0 or e==0:\n",
    "                    print(\"    Epoch {:>4} : loss = {:1.8f} | validation error = {:>4}\".format(e+1, sum_loss, validation_error))\n",
    "                epoch_acc.append(100*(validation_error/val_input.size(0)))\n",
    "                if (validation_error < best_error) or ( (validation_error == best_error) and ((e+1) < best_epoch) ):\n",
    "                    best_error = validation_error\n",
    "                    best_epoch = e+1\n",
    "                    best_lr = lr\n",
    "                    \n",
    "        res.append(epoch_acc)\n",
    "    print(\"Done.\")\n",
    "    return res, best_epoch, best_lr, best_error"
   ]
  },
  {
   "cell_type": "markdown",
   "metadata": {},
   "source": [
    "MLP test :"
   ]
  },
  {
   "cell_type": "code",
   "execution_count": 33,
   "metadata": {
    "collapsed": true
   },
   "outputs": [],
   "source": [
    "learning_rates = [0.001, 0.0025, 0.005, 0.0075, 0.01]\n",
    "nb_epochs_total = 500\n",
    "epoch_step = 5\n",
    "mini_batch_size = 250"
   ]
  },
  {
   "cell_type": "code",
   "execution_count": 34,
   "metadata": {
    "scrolled": true
   },
   "outputs": [
    {
     "name": "stdout",
     "output_type": "stream",
     "text": [
      "MLP\n",
      "==================\n",
      "  Learning rate 0.001 :\n",
      "-----------------------\n",
      "    Epoch    1 : loss = 6.72939926 | validation error =  238\n",
      "    Epoch   50 : loss = 0.02746910 | validation error =    0\n",
      "    Epoch  100 : loss = 0.00958435 | validation error =    0\n",
      "    Epoch  150 : loss = 0.00356965 | validation error =    0\n",
      "    Epoch  200 : loss = 0.00183774 | validation error =    0\n",
      "    Epoch  250 : loss = 0.00113654 | validation error =    0\n",
      "    Epoch  300 : loss = 0.00075911 | validation error =    0\n",
      "    Epoch  350 : loss = 0.00052780 | validation error =    0\n",
      "    Epoch  400 : loss = 0.00037670 | validation error =    0\n",
      "    Epoch  450 : loss = 0.00027348 | validation error =    0\n",
      "    Epoch  500 : loss = 0.00020099 | validation error =    0\n",
      "  Learning rate 0.0025 :\n",
      "-----------------------\n",
      "    Epoch    1 : loss = 6.78789276 | validation error =  208\n",
      "    Epoch   50 : loss = 0.02694813 | validation error =    0\n",
      "    Epoch  100 : loss = 0.00219738 | validation error =    0\n",
      "    Epoch  150 : loss = 0.00103722 | validation error =    0\n",
      "    Epoch  200 : loss = 0.00058790 | validation error =    0\n",
      "    Epoch  250 : loss = 0.00036425 | validation error =    0\n",
      "    Epoch  300 : loss = 0.00023390 | validation error =    0\n",
      "    Epoch  350 : loss = 0.00015953 | validation error =    0\n",
      "    Epoch  400 : loss = 0.00011296 | validation error =    0\n",
      "    Epoch  450 : loss = 0.00008190 | validation error =    0\n",
      "    Epoch  500 : loss = 0.00006031 | validation error =    0\n",
      "  Learning rate 0.005 :\n",
      "-----------------------\n",
      "    Epoch    1 : loss = 7.31401211 | validation error =  311\n",
      "    Epoch   50 : loss = 0.65189491 | validation error =   21\n",
      "    Epoch  100 : loss = 0.98933707 | validation error =   40\n",
      "    Epoch  150 : loss = 0.29365994 | validation error =   13\n",
      "    Epoch  200 : loss = 0.83468929 | validation error =   20\n",
      "    Epoch  250 : loss = 0.54667439 | validation error =   16\n",
      "    Epoch  300 : loss = 0.18662780 | validation error =    7\n",
      "    Epoch  350 : loss = 0.18435616 | validation error =    7\n",
      "    Epoch  400 : loss = 0.18340698 | validation error =    5\n",
      "    Epoch  450 : loss = 0.18251016 | validation error =    5\n",
      "    Epoch  500 : loss = 0.18195362 | validation error =    5\n",
      "  Learning rate 0.0075 :\n",
      "-----------------------\n",
      "    Epoch    1 : loss = 7.89068532 | validation error =  254\n",
      "    Epoch   50 : loss = 1.10992810 | validation error =   34\n",
      "    Epoch  100 : loss = 1.43832108 | validation error =   46\n",
      "    Epoch  150 : loss = 0.76380866 | validation error =   19\n",
      "    Epoch  200 : loss = 2.97109476 | validation error =  116\n",
      "    Epoch  250 : loss = 1.11910153 | validation error =   46\n",
      "    Epoch  300 : loss = 0.66780862 | validation error =   22\n",
      "    Epoch  350 : loss = 0.26472971 | validation error =   16\n",
      "    Epoch  400 : loss = 0.25345047 | validation error =   16\n",
      "    Epoch  450 : loss = 0.25181309 | validation error =   15\n",
      "    Epoch  500 : loss = 0.25051636 | validation error =   15\n",
      "  Learning rate 0.01 :\n",
      "-----------------------\n",
      "    Epoch    1 : loss = 7.08526009 | validation error =  235\n",
      "    Epoch   50 : loss = 2.57090797 | validation error =   78\n",
      "    Epoch  100 : loss = 1.63984670 | validation error =   44\n",
      "    Epoch  150 : loss = 2.69728848 | validation error =  114\n",
      "    Epoch  200 : loss = 3.92531106 | validation error =  114\n",
      "    Epoch  250 : loss = 1.78405957 | validation error =   75\n",
      "    Epoch  300 : loss = 1.20516432 | validation error =   57\n",
      "    Epoch  350 : loss = 0.73204131 | validation error =   22\n",
      "    Epoch  400 : loss = 1.36669156 | validation error =   33\n",
      "    Epoch  450 : loss = 1.05462773 | validation error =   30\n",
      "    Epoch  500 : loss = 0.78890195 | validation error =   25\n",
      "Done.\n"
     ]
    }
   ],
   "source": [
    "all_results, best_epoch, best_lr, best_error = find_best_params(MLP, Variable(train_input.view(train_input.size(0),-1)), Variable(train_target), Variable(validation_input.view(validation_input.size(0),-1)), Variable(validation_target), learning_rates, nb_epochs_total, epoch_step, mini_batch_size)\n",
    "json_res = {\"model\":\"MLP\",   \"learning_rates\":learning_rates, \"nb_epochs_total\":nb_epochs_total, \"epoch_step\":epoch_step, \"mini_batch_size\":mini_batch_size, \"best_epoch\":best_epoch, \"best_lr\":best_lr, \"best_error\":best_error, \"results\":all_results}\n",
    "json.dump(json_res,open('results/adam/'+json_res[\"model\"]+'.json','w'))"
   ]
  },
  {
   "cell_type": "markdown",
   "metadata": {},
   "source": [
    "Basic CNN test :"
   ]
  },
  {
   "cell_type": "code",
   "execution_count": 65,
   "metadata": {
    "collapsed": true
   },
   "outputs": [],
   "source": [
    "learning_rates = [0.001, 0.0025, 0.005, 0.0075, 0.01]\n",
    "nb_epochs_total = 100\n",
    "epoch_step = 5\n",
    "mini_batch_size = 250"
   ]
  },
  {
   "cell_type": "code",
   "execution_count": 66,
   "metadata": {
    "scrolled": true
   },
   "outputs": [
    {
     "name": "stdout",
     "output_type": "stream",
     "text": [
      "MODEL Basic_CNN\n",
      "==================\n",
      "  Learning rate 0.001 :\n",
      "-----------------------\n",
      "    Epoch    1 : loss = 6.93463784 | validation error =  288\n",
      "    Epoch   50 : loss = 0.01172235 | validation error =    0\n",
      "    Epoch  100 : loss = 0.00257484 | validation error =    0\n",
      "  Learning rate 0.0025 :\n",
      "-----------------------\n",
      "    Epoch    1 : loss = 6.93030840 | validation error =  302\n",
      "    Epoch   50 : loss = 0.00179214 | validation error =    0\n",
      "    Epoch  100 : loss = 0.00050704 | validation error =    0\n",
      "  Learning rate 0.005 :\n",
      "-----------------------\n",
      "    Epoch    1 : loss = 6.87247020 | validation error =  280\n",
      "    Epoch   50 : loss = 0.00050149 | validation error =    3\n",
      "    Epoch  100 : loss = 0.00016828 | validation error =    3\n",
      "  Learning rate 0.0075 :\n",
      "-----------------------\n",
      "    Epoch    1 : loss = 7.09767592 | validation error =  338\n",
      "    Epoch   50 : loss = 0.00077433 | validation error =    0\n",
      "    Epoch  100 : loss = 0.00025720 | validation error =    0\n",
      "  Learning rate 0.01 :\n",
      "-----------------------\n",
      "    Epoch    1 : loss = 7.15163642 | validation error =  337\n",
      "    Epoch   50 : loss = 0.00083945 | validation error =    0\n",
      "    Epoch  100 : loss = 0.00026890 | validation error =    0\n",
      "Done.\n"
     ]
    },
    {
     "ename": "NameError",
     "evalue": "name 'm' is not defined",
     "output_type": "error",
     "traceback": [
      "\u001b[0;31m---------------------------------------------------------------------------\u001b[0m",
      "\u001b[0;31mNameError\u001b[0m                                 Traceback (most recent call last)",
      "\u001b[0;32m<ipython-input-66-8e1204ab43ea>\u001b[0m in \u001b[0;36m<module>\u001b[0;34m()\u001b[0m\n\u001b[1;32m      1\u001b[0m \u001b[0mall_results\u001b[0m\u001b[0;34m,\u001b[0m \u001b[0mbest_epoch\u001b[0m\u001b[0;34m,\u001b[0m \u001b[0mbest_lr\u001b[0m\u001b[0;34m,\u001b[0m \u001b[0mbest_error\u001b[0m \u001b[0;34m=\u001b[0m \u001b[0mfind_best_params\u001b[0m\u001b[0;34m(\u001b[0m\u001b[0mBasic_CNN\u001b[0m\u001b[0;34m,\u001b[0m \u001b[0mVariable\u001b[0m\u001b[0;34m(\u001b[0m\u001b[0mtrain_input\u001b[0m\u001b[0;34m.\u001b[0m\u001b[0munsqueeze\u001b[0m\u001b[0;34m(\u001b[0m\u001b[0;36m1\u001b[0m\u001b[0;34m)\u001b[0m\u001b[0;34m)\u001b[0m\u001b[0;34m,\u001b[0m \u001b[0mVariable\u001b[0m\u001b[0;34m(\u001b[0m\u001b[0mtrain_target\u001b[0m\u001b[0;34m)\u001b[0m\u001b[0;34m,\u001b[0m \u001b[0mVariable\u001b[0m\u001b[0;34m(\u001b[0m\u001b[0mvalidation_input\u001b[0m\u001b[0;34m.\u001b[0m\u001b[0munsqueeze\u001b[0m\u001b[0;34m(\u001b[0m\u001b[0;36m1\u001b[0m\u001b[0;34m)\u001b[0m\u001b[0;34m)\u001b[0m\u001b[0;34m,\u001b[0m \u001b[0mVariable\u001b[0m\u001b[0;34m(\u001b[0m\u001b[0mvalidation_target\u001b[0m\u001b[0;34m)\u001b[0m\u001b[0;34m,\u001b[0m \u001b[0mlearning_rates\u001b[0m\u001b[0;34m,\u001b[0m \u001b[0mnb_epochs_total\u001b[0m\u001b[0;34m,\u001b[0m \u001b[0mepoch_step\u001b[0m\u001b[0;34m,\u001b[0m \u001b[0mmini_batch_size\u001b[0m\u001b[0;34m)\u001b[0m\u001b[0;34m\u001b[0m\u001b[0m\n\u001b[0;32m----> 2\u001b[0;31m \u001b[0mjson_res\u001b[0m \u001b[0;34m=\u001b[0m \u001b[0;34m{\u001b[0m\u001b[0;34m\"model\"\u001b[0m\u001b[0;34m:\u001b[0m\u001b[0mm\u001b[0m\u001b[0;34m(\u001b[0m\u001b[0;34m)\u001b[0m\u001b[0;34m.\u001b[0m\u001b[0m__class__\u001b[0m\u001b[0;34m.\u001b[0m\u001b[0m__name__\u001b[0m\u001b[0;34m,\u001b[0m   \u001b[0;34m\"learning_rates\"\u001b[0m\u001b[0;34m:\u001b[0m\u001b[0mlearning_rates\u001b[0m\u001b[0;34m,\u001b[0m \u001b[0;34m\"nb_epochs_total\"\u001b[0m\u001b[0;34m:\u001b[0m\u001b[0mnb_epochs_total\u001b[0m\u001b[0;34m,\u001b[0m \u001b[0;34m\"epoch_step\"\u001b[0m\u001b[0;34m:\u001b[0m\u001b[0mepoch_step\u001b[0m\u001b[0;34m,\u001b[0m \u001b[0;34m\"mini_batch_size\"\u001b[0m\u001b[0;34m:\u001b[0m\u001b[0mmini_batch_size\u001b[0m\u001b[0;34m,\u001b[0m \u001b[0;34m\"best_epoch\"\u001b[0m\u001b[0;34m:\u001b[0m\u001b[0mbest_epoch\u001b[0m\u001b[0;34m,\u001b[0m \u001b[0;34m\"best_lr\"\u001b[0m\u001b[0;34m:\u001b[0m\u001b[0mbest_lr\u001b[0m\u001b[0;34m,\u001b[0m \u001b[0;34m\"best_error\"\u001b[0m\u001b[0;34m:\u001b[0m\u001b[0mbest_error\u001b[0m\u001b[0;34m,\u001b[0m \u001b[0;34m\"results\"\u001b[0m\u001b[0;34m:\u001b[0m\u001b[0mall_results\u001b[0m\u001b[0;34m}\u001b[0m\u001b[0;34m\u001b[0m\u001b[0m\n\u001b[0m\u001b[1;32m      3\u001b[0m \u001b[0mjson\u001b[0m\u001b[0;34m.\u001b[0m\u001b[0mdump\u001b[0m\u001b[0;34m(\u001b[0m\u001b[0mjson_res\u001b[0m\u001b[0;34m,\u001b[0m\u001b[0mopen\u001b[0m\u001b[0;34m(\u001b[0m\u001b[0;34m'results/adam/'\u001b[0m\u001b[0;34m+\u001b[0m\u001b[0mjson_res\u001b[0m\u001b[0;34m[\u001b[0m\u001b[0;34m\"model\"\u001b[0m\u001b[0;34m]\u001b[0m\u001b[0;34m+\u001b[0m\u001b[0;34m'.json'\u001b[0m\u001b[0;34m,\u001b[0m\u001b[0;34m'w'\u001b[0m\u001b[0;34m)\u001b[0m\u001b[0;34m)\u001b[0m\u001b[0;34m\u001b[0m\u001b[0m\n",
      "\u001b[0;31mNameError\u001b[0m: name 'm' is not defined"
     ]
    }
   ],
   "source": [
    "all_results, best_epoch, best_lr, best_error = find_best_params(Basic_CNN, Variable(train_input.unsqueeze(1)), Variable(train_target), Variable(validation_input.unsqueeze(1)), Variable(validation_target), learning_rates, nb_epochs_total, epoch_step, mini_batch_size)\n",
    "json_res = {\"model\":\"Basic_CNN\",   \"learning_rates\":learning_rates, \"nb_epochs_total\":nb_epochs_total, \"epoch_step\":epoch_step, \"mini_batch_size\":mini_batch_size, \"best_epoch\":best_epoch, \"best_lr\":best_lr, \"best_error\":best_error, \"results\":all_results}\n",
    "json.dump(json_res,open('results/adam/'+json_res[\"model\"]+'.json','w'))"
   ]
  },
  {
   "cell_type": "markdown",
   "metadata": {},
   "source": [
    "All the 4 other models :"
   ]
  },
  {
   "cell_type": "code",
   "execution_count": 144,
   "metadata": {},
   "outputs": [],
   "source": [
    "learning_rates = [0.001, 0.0025, 0.005, 0.0075, 0.01]\n",
    "nb_epochs_total = 2000\n",
    "epoch_step = 10\n",
    "mini_batch_size = 250\n",
    "\n",
    "models = [ CNN_1D, CNN_dropout, CNN_batchnorm, CNN_both ]"
   ]
  },
  {
   "cell_type": "code",
   "execution_count": 146,
   "metadata": {
    "scrolled": true
   },
   "outputs": [
    {
     "name": "stdout",
     "output_type": "stream",
     "text": [
      "MODEL CNN_1D\n",
      "==================\n",
      "  Learning rate 0.001 :\n",
      "-----------------------\n",
      "    Epoch    1 : loss = 6.90667015 | validation error =  268\n",
      "    Epoch  100 : loss = 0.02529639 | validation error =    3\n",
      "    Epoch  200 : loss = 0.02296719 | validation error =    4\n",
      "    Epoch  300 : loss = 0.00402738 | validation error =    2\n",
      "    Epoch  400 : loss = 0.00167221 | validation error =    2\n",
      "    Epoch  500 : loss = 0.00081492 | validation error =    2\n",
      "    Epoch  600 : loss = 0.00042553 | validation error =    1\n",
      "    Epoch  700 : loss = 0.00023059 | validation error =    1\n",
      "    Epoch  800 : loss = 0.00012739 | validation error =    1\n",
      "    Epoch  900 : loss = 0.00007127 | validation error =    1\n",
      "    Epoch 1000 : loss = 0.00004026 | validation error =    1\n",
      "    Epoch 1100 : loss = 0.00002287 | validation error =    1\n",
      "    Epoch 1200 : loss = 0.00001305 | validation error =    1\n",
      "    Epoch 1300 : loss = 0.00000747 | validation error =    1\n",
      "    Epoch 1400 : loss = 0.00000429 | validation error =    1\n",
      "    Epoch 1500 : loss = 0.00000247 | validation error =    1\n",
      "    Epoch 1600 : loss = 0.00000142 | validation error =    1\n",
      "    Epoch 1700 : loss = 0.00000082 | validation error =    1\n",
      "    Epoch 1800 : loss = 0.00000048 | validation error =    1\n",
      "    Epoch 1900 : loss = 0.00000028 | validation error =    1\n",
      "    Epoch 2000 : loss = 0.00000016 | validation error =    1\n",
      "  Learning rate 0.0025 :\n",
      "-----------------------\n",
      "    Epoch    1 : loss = 6.86958516 | validation error =  248\n",
      "    Epoch  100 : loss = 0.00203791 | validation error =    4\n",
      "    Epoch  200 : loss = 0.00046660 | validation error =    1\n",
      "    Epoch  300 : loss = 0.00017801 | validation error =    1\n",
      "    Epoch  400 : loss = 0.00008186 | validation error =    1\n",
      "    Epoch  500 : loss = 0.00004123 | validation error =    1\n",
      "    Epoch  600 : loss = 0.00002189 | validation error =    1\n",
      "    Epoch  700 : loss = 0.00001198 | validation error =    1\n",
      "    Epoch  800 : loss = 0.00000667 | validation error =    1\n",
      "    Epoch  900 : loss = 0.00000376 | validation error =    1\n",
      "    Epoch 1000 : loss = 0.00000214 | validation error =    0\n",
      "    Epoch 1100 : loss = 0.00000122 | validation error =    0\n",
      "    Epoch 1200 : loss = 0.00000071 | validation error =    0\n",
      "    Epoch 1300 : loss = 0.00000041 | validation error =    0\n",
      "    Epoch 1400 : loss = 0.00000024 | validation error =    0\n",
      "    Epoch 1500 : loss = 0.00000014 | validation error =    0\n",
      "    Epoch 1600 : loss = 0.00000008 | validation error =    0\n",
      "    Epoch 1700 : loss = 0.00000005 | validation error =    0\n",
      "    Epoch 1800 : loss = 0.00000003 | validation error =    0\n",
      "    Epoch 1900 : loss = 0.00000002 | validation error =    0\n",
      "    Epoch 2000 : loss = 0.00000001 | validation error =    0\n",
      "  Learning rate 0.005 :\n",
      "-----------------------\n",
      "    Epoch    1 : loss = 6.79843348 | validation error =  217\n",
      "    Epoch  100 : loss = 0.00107376 | validation error =    1\n",
      "    Epoch  200 : loss = 0.00023185 | validation error =    1\n",
      "    Epoch  300 : loss = 0.00008936 | validation error =    1\n",
      "    Epoch  400 : loss = 0.00004184 | validation error =    1\n",
      "    Epoch  500 : loss = 0.00002141 | validation error =    1\n",
      "    Epoch  600 : loss = 0.00001151 | validation error =    1\n",
      "    Epoch  700 : loss = 0.00000636 | validation error =    1\n",
      "    Epoch  800 : loss = 0.00000359 | validation error =    1\n",
      "    Epoch  900 : loss = 0.00000205 | validation error =    1\n",
      "    Epoch 1000 : loss = 0.00000118 | validation error =    1\n",
      "    Epoch 1100 : loss = 0.00000068 | validation error =    1\n",
      "    Epoch 1200 : loss = 0.00000039 | validation error =    1\n",
      "    Epoch 1300 : loss = 0.00000023 | validation error =    1\n",
      "    Epoch 1400 : loss = 0.00000013 | validation error =    1\n",
      "    Epoch 1500 : loss = 0.00000008 | validation error =    1\n",
      "    Epoch 1600 : loss = 0.00000005 | validation error =    1\n",
      "    Epoch 1700 : loss = 0.00000003 | validation error =    1\n",
      "    Epoch 1800 : loss = 0.00000002 | validation error =    1\n",
      "    Epoch 1900 : loss = 0.00000001 | validation error =    1\n",
      "    Epoch 2000 : loss = 0.00000001 | validation error =    1\n",
      "  Learning rate 0.0075 :\n",
      "-----------------------\n",
      "    Epoch    1 : loss = 6.89691937 | validation error =  242\n",
      "    Epoch  100 : loss = 0.00031112 | validation error =    2\n",
      "    Epoch  200 : loss = 0.00007962 | validation error =    2\n",
      "    Epoch  300 : loss = 0.00003196 | validation error =    2\n",
      "    Epoch  400 : loss = 0.00001522 | validation error =    2\n",
      "    Epoch  500 : loss = 0.00000788 | validation error =    2\n",
      "    Epoch  600 : loss = 0.00000428 | validation error =    1\n",
      "    Epoch  700 : loss = 0.00000238 | validation error =    1\n",
      "    Epoch  800 : loss = 0.00000135 | validation error =    1\n",
      "    Epoch  900 : loss = 0.00000077 | validation error =    1\n",
      "    Epoch 1000 : loss = 0.00000045 | validation error =    1\n",
      "    Epoch 1100 : loss = 0.00000026 | validation error =    1\n",
      "    Epoch 1200 : loss = 0.00000015 | validation error =    1\n",
      "    Epoch 1300 : loss = 0.00000009 | validation error =    0\n",
      "    Epoch 1400 : loss = 0.00000005 | validation error =    0\n",
      "    Epoch 1500 : loss = 0.00000003 | validation error =    0\n",
      "    Epoch 1600 : loss = 0.00000002 | validation error =    0\n",
      "    Epoch 1700 : loss = 0.00000001 | validation error =    0\n",
      "    Epoch 1800 : loss = 0.00000001 | validation error =    0\n",
      "    Epoch 1900 : loss = 0.00000000 | validation error =    0\n",
      "    Epoch 2000 : loss = 0.00000000 | validation error =    0\n",
      "  Learning rate 0.01 :\n",
      "-----------------------\n",
      "    Epoch    1 : loss = 6.76421958 | validation error =  254\n",
      "    Epoch  100 : loss = 0.00019162 | validation error =    1\n",
      "    Epoch  200 : loss = 0.00005607 | validation error =    1\n",
      "    Epoch  300 : loss = 0.00002356 | validation error =    1\n",
      "    Epoch  400 : loss = 0.00001150 | validation error =    0\n",
      "    Epoch  500 : loss = 0.00000604 | validation error =    0\n",
      "    Epoch  600 : loss = 0.00000330 | validation error =    0\n",
      "    Epoch  700 : loss = 0.00000185 | validation error =    0\n",
      "    Epoch  800 : loss = 0.00000105 | validation error =    0\n",
      "    Epoch  900 : loss = 0.00000060 | validation error =    0\n",
      "    Epoch 1000 : loss = 0.00000035 | validation error =    0\n",
      "    Epoch 1100 : loss = 0.00000020 | validation error =    0\n",
      "    Epoch 1200 : loss = 0.00000012 | validation error =    0\n",
      "    Epoch 1300 : loss = 0.00000007 | validation error =    0\n",
      "    Epoch 1400 : loss = 0.00000004 | validation error =    0\n",
      "    Epoch 1500 : loss = 0.00000002 | validation error =    0\n",
      "    Epoch 1600 : loss = 0.00000001 | validation error =    0\n",
      "    Epoch 1700 : loss = 0.00000001 | validation error =    0\n",
      "    Epoch 1800 : loss = 0.00000000 | validation error =    0\n",
      "    Epoch 1900 : loss = 0.00000000 | validation error =    0\n",
      "    Epoch 2000 : loss = 0.00000000 | validation error =    0\n",
      "Done.\n",
      "\n",
      "MODEL CNN_dropout\n",
      "==================\n",
      "  Learning rate 0.001 :\n",
      "-----------------------\n",
      "    Epoch    1 : loss = 6.96165621 | validation error =  253\n",
      "    Epoch  100 : loss = 0.04247727 | validation error =    9\n",
      "    Epoch  200 : loss = 0.00821017 | validation error =    3\n",
      "    Epoch  300 : loss = 0.00378370 | validation error =    3\n",
      "    Epoch  400 : loss = 0.00128016 | validation error =    3\n",
      "    Epoch  500 : loss = 0.00093038 | validation error =    3\n",
      "    Epoch  600 : loss = 0.00062957 | validation error =    3\n",
      "    Epoch  700 : loss = 0.00030249 | validation error =    2\n",
      "    Epoch  800 : loss = 0.00015051 | validation error =    2\n",
      "    Epoch  900 : loss = 0.00007766 | validation error =    2\n",
      "    Epoch 1000 : loss = 0.00006103 | validation error =    2\n",
      "    Epoch 1100 : loss = 0.00002951 | validation error =    4\n",
      "    Epoch 1200 : loss = 0.00441033 | validation error =    1\n",
      "    Epoch 1300 : loss = 0.00190031 | validation error =    0\n",
      "    Epoch 1400 : loss = 0.00114223 | validation error =    0\n",
      "    Epoch 1500 : loss = 0.00068669 | validation error =    0\n",
      "    Epoch 1600 : loss = 0.00052016 | validation error =    0\n",
      "    Epoch 1700 : loss = 0.00029647 | validation error =    0\n",
      "    Epoch 1800 : loss = 0.00022541 | validation error =    0\n",
      "    Epoch 1900 : loss = 0.00018187 | validation error =    0\n",
      "    Epoch 2000 : loss = 0.19193929 | validation error =    6\n",
      "  Learning rate 0.0025 :\n",
      "-----------------------\n",
      "    Epoch    1 : loss = 7.01799899 | validation error =  285\n",
      "    Epoch  100 : loss = 0.00563946 | validation error =    3\n"
     ]
    },
    {
     "name": "stdout",
     "output_type": "stream",
     "text": [
      "    Epoch  200 : loss = 0.00156475 | validation error =    3\n",
      "    Epoch  300 : loss = 0.00070534 | validation error =    2\n",
      "    Epoch  400 : loss = 0.00025862 | validation error =    2\n",
      "    Epoch  500 : loss = 0.16858541 | validation error =    5\n",
      "    Epoch  600 : loss = 0.00899296 | validation error =    1\n",
      "    Epoch  700 : loss = 0.00444982 | validation error =    1\n",
      "    Epoch  800 : loss = 0.00167385 | validation error =    1\n",
      "    Epoch  900 : loss = 0.00101449 | validation error =    2\n",
      "    Epoch 1000 : loss = 0.01350705 | validation error =    1\n",
      "    Epoch 1100 : loss = 0.00333197 | validation error =    1\n",
      "    Epoch 1200 : loss = 0.00142907 | validation error =    1\n",
      "    Epoch 1300 : loss = 0.00085913 | validation error =    1\n",
      "    Epoch 1400 : loss = 0.00048945 | validation error =    1\n",
      "    Epoch 1500 : loss = 0.00020497 | validation error =    1\n",
      "    Epoch 1600 : loss = 0.00764812 | validation error =    2\n",
      "    Epoch 1700 : loss = 0.00250055 | validation error =    1\n",
      "    Epoch 1800 : loss = 0.00126569 | validation error =    1\n",
      "    Epoch 1900 : loss = 0.00106047 | validation error =    1\n",
      "    Epoch 2000 : loss = 0.01166455 | validation error =    1\n",
      "  Learning rate 0.005 :\n",
      "-----------------------\n",
      "    Epoch    1 : loss = 7.17296541 | validation error =  293\n",
      "    Epoch  100 : loss = 0.00254948 | validation error =    1\n",
      "    Epoch  200 : loss = 0.00049547 | validation error =    1\n",
      "    Epoch  300 : loss = 0.00035345 | validation error =    1\n",
      "    Epoch  400 : loss = 0.00019339 | validation error =    1\n",
      "    Epoch  500 : loss = 0.00009247 | validation error =    0\n",
      "    Epoch  600 : loss = 0.00005174 | validation error =    0\n",
      "    Epoch  700 : loss = 0.00003473 | validation error =    0\n",
      "    Epoch  800 : loss = 1.06642449 | validation error =   62\n",
      "    Epoch  900 : loss = 0.00285406 | validation error =    0\n",
      "    Epoch 1000 : loss = 0.00194349 | validation error =    0\n",
      "    Epoch 1100 : loss = 0.00058446 | validation error =    1\n",
      "    Epoch 1200 : loss = 0.19293690 | validation error =   12\n",
      "    Epoch 1300 : loss = 0.00167525 | validation error =    4\n",
      "    Epoch 1400 : loss = 0.00122721 | validation error =    3\n",
      "    Epoch 1500 : loss = 0.00038553 | validation error =    3\n",
      "    Epoch 1600 : loss = 0.00155030 | validation error =    4\n",
      "    Epoch 1700 : loss = 0.00058254 | validation error =    4\n",
      "    Epoch 1800 : loss = 0.00034154 | validation error =    4\n",
      "    Epoch 1900 : loss = 0.00030740 | validation error =    4\n",
      "    Epoch 2000 : loss = 0.00010899 | validation error =    4\n",
      "  Learning rate 0.0075 :\n",
      "-----------------------\n",
      "    Epoch    1 : loss = 6.80896950 | validation error =  252\n",
      "    Epoch  100 : loss = 0.00177212 | validation error =    0\n",
      "    Epoch  200 : loss = 0.00034045 | validation error =    0\n",
      "    Epoch  300 : loss = 0.00016541 | validation error =    0\n",
      "    Epoch  400 : loss = 0.00006276 | validation error =    0\n",
      "    Epoch  500 : loss = 0.00003105 | validation error =    0\n",
      "    Epoch  600 : loss = 0.00004990 | validation error =    0\n",
      "    Epoch  700 : loss = 0.95458124 | validation error =   29\n",
      "    Epoch  800 : loss = 0.05255884 | validation error =   10\n",
      "    Epoch  900 : loss = 0.00192446 | validation error =    8\n",
      "    Epoch 1000 : loss = 0.00098310 | validation error =    8\n",
      "    Epoch 1100 : loss = 4.38401690 | validation error =  121\n",
      "    Epoch 1200 : loss = 0.00445124 | validation error =    6\n",
      "    Epoch 1300 : loss = 0.00108927 | validation error =    6\n",
      "    Epoch 1400 : loss = 0.00051208 | validation error =    5\n",
      "    Epoch 1500 : loss = 0.00029223 | validation error =    5\n",
      "    Epoch 1600 : loss = 0.00025151 | validation error =    5\n",
      "    Epoch 1700 : loss = 0.00012047 | validation error =    2\n",
      "    Epoch 1800 : loss = 0.18325589 | validation error =    9\n",
      "    Epoch 1900 : loss = 0.00159424 | validation error =    7\n",
      "    Epoch 2000 : loss = 0.00062774 | validation error =    7\n",
      "  Learning rate 0.01 :\n",
      "-----------------------\n",
      "    Epoch    1 : loss = 6.94950318 | validation error =  231\n",
      "    Epoch  100 : loss = 0.00092951 | validation error =    1\n",
      "    Epoch  200 : loss = 0.00030245 | validation error =    2\n",
      "    Epoch  300 : loss = 0.00012960 | validation error =    2\n",
      "    Epoch  400 : loss = 0.00006142 | validation error =    2\n",
      "    Epoch  500 : loss = 0.00004858 | validation error =    2\n",
      "    Epoch  600 : loss = 0.00002114 | validation error =    2\n",
      "    Epoch  700 : loss = 0.82554658 | validation error =   40\n",
      "    Epoch  800 : loss = 0.29313326 | validation error =   14\n",
      "    Epoch  900 : loss = 0.04939261 | validation error =   13\n",
      "    Epoch 1000 : loss = 0.01232876 | validation error =    6\n",
      "    Epoch 1100 : loss = 0.00184943 | validation error =    9\n",
      "    Epoch 1200 : loss = 0.00066298 | validation error =    9\n",
      "    Epoch 1300 : loss = 0.02926951 | validation error =    7\n",
      "    Epoch 1400 : loss = 0.03398357 | validation error =    8\n",
      "    Epoch 1500 : loss = 0.00217894 | validation error =    7\n",
      "    Epoch 1600 : loss = 0.39604833 | validation error =   23\n",
      "    Epoch 1700 : loss = 0.00478285 | validation error =    9\n",
      "    Epoch 1800 : loss = 0.00076870 | validation error =    7\n",
      "    Epoch 1900 : loss = 0.00038309 | validation error =    6\n",
      "    Epoch 2000 : loss = 0.21782461 | validation error =   17\n",
      "Done.\n",
      "\n",
      "MODEL CNN_batchnorm\n",
      "==================\n",
      "  Learning rate 0.001 :\n",
      "-----------------------\n",
      "    Epoch    1 : loss = 6.72504681 | validation error =  336\n",
      "    Epoch  100 : loss = 0.00517967 | validation error =    1\n",
      "    Epoch  200 : loss = 0.00125230 | validation error =    1\n",
      "    Epoch  300 : loss = 0.00048954 | validation error =    1\n",
      "    Epoch  400 : loss = 0.00022857 | validation error =    1\n",
      "    Epoch  500 : loss = 0.00011633 | validation error =    1\n",
      "    Epoch  600 : loss = 0.00006220 | validation error =    1\n",
      "    Epoch  700 : loss = 0.00003425 | validation error =    1\n",
      "    Epoch  800 : loss = 0.00001923 | validation error =    1\n",
      "    Epoch  900 : loss = 0.00001098 | validation error =    1\n",
      "    Epoch 1000 : loss = 0.00000635 | validation error =    1\n",
      "    Epoch 1100 : loss = 0.00000371 | validation error =    1\n",
      "    Epoch 1200 : loss = 0.00000218 | validation error =    1\n",
      "    Epoch 1300 : loss = 0.00000129 | validation error =    1\n",
      "    Epoch 1400 : loss = 0.00000077 | validation error =    1\n",
      "    Epoch 1500 : loss = 0.00000046 | validation error =    1\n",
      "    Epoch 1600 : loss = 0.00000027 | validation error =    1\n",
      "    Epoch 1700 : loss = 0.00000016 | validation error =    1\n",
      "    Epoch 1800 : loss = 0.00000010 | validation error =    1\n",
      "    Epoch 1900 : loss = 0.00000006 | validation error =    1\n",
      "    Epoch 2000 : loss = 0.00000004 | validation error =    1\n",
      "  Learning rate 0.0025 :\n",
      "-----------------------\n",
      "    Epoch    1 : loss = 6.55879968 | validation error =  317\n",
      "    Epoch  100 : loss = 0.00104492 | validation error =    1\n",
      "    Epoch  200 : loss = 0.00025567 | validation error =    0\n",
      "    Epoch  300 : loss = 0.00010260 | validation error =    0\n",
      "    Epoch  400 : loss = 0.00004962 | validation error =    0\n",
      "    Epoch  500 : loss = 0.00002617 | validation error =    0\n",
      "    Epoch  600 : loss = 0.00001445 | validation error =    0\n",
      "    Epoch  700 : loss = 0.00000822 | validation error =    0\n",
      "    Epoch  800 : loss = 0.00000477 | validation error =    0\n",
      "    Epoch  900 : loss = 0.00000283 | validation error =    0\n",
      "    Epoch 1000 : loss = 0.02218291 | validation error =    5\n",
      "    Epoch 1100 : loss = 0.00135709 | validation error =    3\n",
      "    Epoch 1200 : loss = 0.00053546 | validation error =    3\n",
      "    Epoch 1300 : loss = 0.00025986 | validation error =    3\n",
      "    Epoch 1400 : loss = 0.00013721 | validation error =    2\n",
      "    Epoch 1500 : loss = 0.00007574 | validation error =    2\n",
      "    Epoch 1600 : loss = 0.00004279 | validation error =    2\n",
      "    Epoch 1700 : loss = 0.00002449 | validation error =    2\n",
      "    Epoch 1800 : loss = 0.00001413 | validation error =    2\n",
      "    Epoch 1900 : loss = 0.00000818 | validation error =    2\n",
      "    Epoch 2000 : loss = 0.00000476 | validation error =    2\n",
      "  Learning rate 0.005 :\n",
      "-----------------------\n",
      "    Epoch    1 : loss = 6.70034105 | validation error =  308\n",
      "    Epoch  100 : loss = 0.00056297 | validation error =    1\n",
      "    Epoch  200 : loss = 0.00013617 | validation error =    1\n",
      "    Epoch  300 : loss = 0.00005348 | validation error =    1\n",
      "    Epoch  400 : loss = 0.00002509 | validation error =    1\n"
     ]
    },
    {
     "name": "stdout",
     "output_type": "stream",
     "text": [
      "    Epoch  500 : loss = 0.00001286 | validation error =    1\n",
      "    Epoch  600 : loss = 0.00000692 | validation error =    1\n",
      "    Epoch  700 : loss = 0.00000383 | validation error =    1\n",
      "    Epoch  800 : loss = 0.00000216 | validation error =    1\n",
      "    Epoch  900 : loss = 0.00000124 | validation error =    1\n",
      "    Epoch 1000 : loss = 0.00000071 | validation error =    1\n",
      "    Epoch 1100 : loss = 0.00000041 | validation error =    1\n",
      "    Epoch 1200 : loss = 0.00000024 | validation error =    1\n",
      "    Epoch 1300 : loss = 0.00000014 | validation error =    1\n",
      "    Epoch 1400 : loss = 0.00000008 | validation error =    1\n",
      "    Epoch 1500 : loss = 0.00000005 | validation error =    1\n",
      "    Epoch 1600 : loss = 0.00000003 | validation error =    1\n",
      "    Epoch 1700 : loss = 0.00000002 | validation error =    1\n",
      "    Epoch 1800 : loss = 0.00000001 | validation error =    1\n",
      "    Epoch 1900 : loss = 0.00000001 | validation error =    1\n",
      "    Epoch 2000 : loss = 0.00000000 | validation error =    1\n",
      "  Learning rate 0.0075 :\n",
      "-----------------------\n",
      "    Epoch    1 : loss = 6.31227124 | validation error =  309\n",
      "    Epoch  100 : loss = 0.00032947 | validation error =    0\n",
      "    Epoch  200 : loss = 0.00008490 | validation error =    0\n",
      "    Epoch  300 : loss = 0.00003407 | validation error =    0\n",
      "    Epoch  400 : loss = 0.00001623 | validation error =    0\n",
      "    Epoch  500 : loss = 0.00000842 | validation error =    0\n",
      "    Epoch  600 : loss = 0.00000458 | validation error =    0\n",
      "    Epoch  700 : loss = 0.00000256 | validation error =    0\n",
      "    Epoch  800 : loss = 0.00000145 | validation error =    0\n",
      "    Epoch  900 : loss = 0.00000083 | validation error =    0\n",
      "    Epoch 1000 : loss = 0.00000048 | validation error =    0\n",
      "    Epoch 1100 : loss = 0.00000028 | validation error =    0\n",
      "    Epoch 1200 : loss = 0.00000016 | validation error =    0\n",
      "    Epoch 1300 : loss = 0.00000009 | validation error =    0\n",
      "    Epoch 1400 : loss = 0.00000006 | validation error =    0\n",
      "    Epoch 1500 : loss = 0.00000003 | validation error =    0\n",
      "    Epoch 1600 : loss = 0.00000002 | validation error =    0\n",
      "    Epoch 1700 : loss = 0.00000001 | validation error =    0\n",
      "    Epoch 1800 : loss = 0.00000001 | validation error =    0\n",
      "    Epoch 1900 : loss = 0.00000000 | validation error =    0\n",
      "    Epoch 2000 : loss = 0.00000000 | validation error =    0\n",
      "  Learning rate 0.01 :\n",
      "-----------------------\n",
      "    Epoch    1 : loss = 6.61097866 | validation error =  227\n",
      "    Epoch  100 : loss = 0.00017511 | validation error =    1\n",
      "    Epoch  200 : loss = 0.00005384 | validation error =    1\n",
      "    Epoch  300 : loss = 0.00002351 | validation error =    1\n",
      "    Epoch  400 : loss = 0.00001175 | validation error =    1\n",
      "    Epoch  500 : loss = 0.00000627 | validation error =    1\n",
      "    Epoch  600 : loss = 0.00000347 | validation error =    1\n",
      "    Epoch  700 : loss = 0.00000196 | validation error =    0\n",
      "    Epoch  800 : loss = 0.00000112 | validation error =    0\n",
      "    Epoch  900 : loss = 0.00000064 | validation error =    0\n",
      "    Epoch 1000 : loss = 0.00000037 | validation error =    0\n",
      "    Epoch 1100 : loss = 0.00000022 | validation error =    0\n",
      "    Epoch 1200 : loss = 0.00000013 | validation error =    0\n",
      "    Epoch 1300 : loss = 0.00000007 | validation error =    0\n",
      "    Epoch 1400 : loss = 0.00000004 | validation error =    0\n",
      "    Epoch 1500 : loss = 0.00000003 | validation error =    0\n",
      "    Epoch 1600 : loss = 0.00000001 | validation error =    0\n",
      "    Epoch 1700 : loss = 0.00000001 | validation error =    0\n",
      "    Epoch 1800 : loss = 0.00000001 | validation error =    0\n",
      "    Epoch 1900 : loss = 0.00000000 | validation error =    0\n",
      "    Epoch 2000 : loss = 0.00000000 | validation error =    0\n",
      "Done.\n",
      "\n",
      "MODEL CNN_both\n",
      "==================\n",
      "  Learning rate 0.001 :\n",
      "-----------------------\n",
      "    Epoch    1 : loss = 7.27625793 | validation error =  317\n",
      "    Epoch  100 : loss = 0.02442688 | validation error =    3\n",
      "    Epoch  200 : loss = 0.00593411 | validation error =    2\n",
      "    Epoch  300 : loss = 0.00293848 | validation error =    2\n",
      "    Epoch  400 : loss = 0.00131623 | validation error =    3\n",
      "    Epoch  500 : loss = 0.00098979 | validation error =    2\n",
      "    Epoch  600 : loss = 0.00041725 | validation error =    3\n",
      "    Epoch  700 : loss = 0.00034530 | validation error =    3\n",
      "    Epoch  800 : loss = 0.00013392 | validation error =    3\n",
      "    Epoch  900 : loss = 0.01277712 | validation error =    6\n",
      "    Epoch 1000 : loss = 0.00387858 | validation error =    6\n",
      "    Epoch 1100 : loss = 0.00190383 | validation error =    3\n",
      "    Epoch 1200 : loss = 0.00107415 | validation error =    3\n",
      "    Epoch 1300 : loss = 0.00065126 | validation error =    3\n",
      "    Epoch 1400 : loss = 0.00037357 | validation error =    4\n",
      "    Epoch 1500 : loss = 0.00024560 | validation error =    1\n",
      "    Epoch 1600 : loss = 0.00013771 | validation error =    2\n",
      "    Epoch 1700 : loss = 0.00010416 | validation error =    1\n",
      "    Epoch 1800 : loss = 0.00007131 | validation error =    2\n",
      "    Epoch 1900 : loss = 0.00003802 | validation error =    1\n",
      "    Epoch 2000 : loss = 0.01745078 | validation error =    4\n",
      "  Learning rate 0.0025 :\n",
      "-----------------------\n",
      "    Epoch    1 : loss = 7.03842735 | validation error =  343\n",
      "    Epoch  100 : loss = 0.00462539 | validation error =    3\n",
      "    Epoch  200 : loss = 0.00177243 | validation error =    3\n",
      "    Epoch  300 : loss = 0.00081233 | validation error =    3\n",
      "    Epoch  400 : loss = 0.00034852 | validation error =    3\n",
      "    Epoch  500 : loss = 0.00025678 | validation error =    3\n",
      "    Epoch  600 : loss = 0.00018456 | validation error =    3\n",
      "    Epoch  700 : loss = 0.00006688 | validation error =    3\n",
      "    Epoch  800 : loss = 0.02062178 | validation error =    4\n",
      "    Epoch  900 : loss = 0.00316743 | validation error =    3\n",
      "    Epoch 1000 : loss = 0.00133892 | validation error =    2\n",
      "    Epoch 1100 : loss = 0.00064718 | validation error =    2\n",
      "    Epoch 1200 : loss = 0.01914472 | validation error =    5\n",
      "    Epoch 1300 : loss = 0.00325690 | validation error =    3\n",
      "    Epoch 1400 : loss = 0.00113550 | validation error =    3\n",
      "    Epoch 1500 : loss = 0.00069613 | validation error =    3\n",
      "    Epoch 1600 : loss = 0.00079473 | validation error =    3\n",
      "    Epoch 1700 : loss = 0.00044354 | validation error =    3\n",
      "    Epoch 1800 : loss = 0.00012528 | validation error =    3\n",
      "    Epoch 1900 : loss = 0.00019190 | validation error =    3\n",
      "    Epoch 2000 : loss = 0.00816154 | validation error =    5\n",
      "  Learning rate 0.005 :\n",
      "-----------------------\n",
      "    Epoch    1 : loss = 6.95801741 | validation error =  317\n",
      "    Epoch  100 : loss = 0.00180458 | validation error =    0\n",
      "    Epoch  200 : loss = 0.00063081 | validation error =    1\n",
      "    Epoch  300 : loss = 0.00020430 | validation error =    2\n",
      "    Epoch  400 : loss = 0.00016687 | validation error =    1\n",
      "    Epoch  500 : loss = 0.00008532 | validation error =    2\n",
      "    Epoch  600 : loss = 0.00007893 | validation error =    2\n",
      "    Epoch  700 : loss = 0.00002676 | validation error =    2\n",
      "    Epoch  800 : loss = 0.00001930 | validation error =    0\n",
      "    Epoch  900 : loss = 0.00001028 | validation error =    2\n",
      "    Epoch 1000 : loss = 1.82445224 | validation error =   41\n",
      "    Epoch 1100 : loss = 0.00739806 | validation error =    2\n",
      "    Epoch 1200 : loss = 0.00235675 | validation error =    2\n",
      "    Epoch 1300 : loss = 0.00112241 | validation error =    3\n",
      "    Epoch 1400 : loss = 0.00050169 | validation error =    2\n",
      "    Epoch 1500 : loss = 0.00270669 | validation error =    0\n",
      "    Epoch 1600 : loss = 0.00156578 | validation error =    0\n",
      "    Epoch 1700 : loss = 0.00038983 | validation error =    0\n",
      "    Epoch 1800 : loss = 0.00035217 | validation error =    0\n",
      "    Epoch 1900 : loss = 0.00011750 | validation error =    0\n",
      "    Epoch 2000 : loss = 0.00015405 | validation error =    0\n",
      "  Learning rate 0.0075 :\n",
      "-----------------------\n",
      "    Epoch    1 : loss = 6.99512851 | validation error =  265\n",
      "    Epoch  100 : loss = 0.00116129 | validation error =    1\n",
      "    Epoch  200 : loss = 0.00574058 | validation error =    2\n",
      "    Epoch  300 : loss = 0.00101402 | validation error =    2\n",
      "    Epoch  400 : loss = 0.00053027 | validation error =    2\n",
      "    Epoch  500 : loss = 0.00015543 | validation error =    2\n",
      "    Epoch  600 : loss = 0.00009420 | validation error =    2\n",
      "    Epoch  700 : loss = 0.00007571 | validation error =    2\n"
     ]
    },
    {
     "name": "stdout",
     "output_type": "stream",
     "text": [
      "    Epoch  800 : loss = 0.00001973 | validation error =    2\n",
      "    Epoch  900 : loss = 0.00002339 | validation error =    2\n",
      "    Epoch 1000 : loss = 0.00007515 | validation error =    1\n",
      "    Epoch 1100 : loss = 0.00780443 | validation error =    2\n",
      "    Epoch 1200 : loss = 0.00321243 | validation error =    4\n",
      "    Epoch 1300 : loss = 0.00094258 | validation error =    3\n",
      "    Epoch 1400 : loss = 2.78687574 | validation error =   68\n",
      "    Epoch 1500 : loss = 0.00386805 | validation error =    3\n",
      "    Epoch 1600 : loss = 0.00218911 | validation error =    4\n",
      "    Epoch 1700 : loss = 0.00031840 | validation error =    2\n",
      "    Epoch 1800 : loss = 0.00025525 | validation error =    2\n",
      "    Epoch 1900 : loss = 0.00024211 | validation error =    3\n",
      "    Epoch 2000 : loss = 0.00002352 | validation error =    1\n",
      "  Learning rate 0.01 :\n",
      "-----------------------\n",
      "    Epoch    1 : loss = 6.68809742 | validation error =  318\n",
      "    Epoch  100 : loss = 0.00085660 | validation error =    1\n",
      "    Epoch  200 : loss = 0.00031577 | validation error =    1\n",
      "    Epoch  300 : loss = 0.00016357 | validation error =    1\n",
      "    Epoch  400 : loss = 0.00007835 | validation error =    1\n",
      "    Epoch  500 : loss = 0.00004153 | validation error =    1\n",
      "    Epoch  600 : loss = 0.00003208 | validation error =    1\n",
      "    Epoch  700 : loss = 0.00005756 | validation error =    1\n",
      "    Epoch  800 : loss = 0.00000409 | validation error =    1\n",
      "    Epoch  900 : loss = 0.53969647 | validation error =   12\n",
      "    Epoch 1000 : loss = 0.01936737 | validation error =    0\n",
      "    Epoch 1100 : loss = 0.00403570 | validation error =    0\n",
      "    Epoch 1200 : loss = 0.00334239 | validation error =    0\n",
      "    Epoch 1300 : loss = 0.00166835 | validation error =    1\n",
      "    Epoch 1400 : loss = 0.00044903 | validation error =    1\n",
      "    Epoch 1500 : loss = 0.00026756 | validation error =    1\n",
      "    Epoch 1600 : loss = 0.00045364 | validation error =    1\n",
      "    Epoch 1700 : loss = 0.00874686 | validation error =    0\n",
      "    Epoch 1800 : loss = 0.00246253 | validation error =    0\n",
      "    Epoch 1900 : loss = 0.00042066 | validation error =    0\n",
      "    Epoch 2000 : loss = 0.00013341 | validation error =    0\n",
      "Done.\n",
      "\n"
     ]
    }
   ],
   "source": [
    "for m in models:\n",
    "    all_results, best_epoch, best_lr, best_error = find_best_params(m, Variable(train_input), Variable(train_target), Variable(validation_input), Variable(validation_target), learning_rates, nb_epochs_total, epoch_step, mini_batch_size)\n",
    "    print(\"\")\n",
    "    json_res = {\"model\":m().__class__.__name__,   \"learning_rates\":learning_rates, \"nb_epochs_total\":nb_epochs_total, \"epoch_step\":epoch_step, \"mini_batch_size\":mini_batch_size, \"best_epoch\":best_epoch, \"best_lr\":best_lr, \"best_error\":best_error, \"results\":all_results}\n",
    "    json.dump(json_res,open('results/adam/'+json_res[\"model\"]+'.json','w'))"
   ]
  },
  {
   "cell_type": "code",
   "execution_count": null,
   "metadata": {
    "collapsed": true
   },
   "outputs": [],
   "source": [
    "# correct each one"
   ]
  },
  {
   "cell_type": "markdown",
   "metadata": {},
   "source": [
    "Test results :"
   ]
  },
  {
   "cell_type": "code",
   "execution_count": 148,
   "metadata": {
    "scrolled": true
   },
   "outputs": [
    {
     "name": "stdout",
     "output_type": "stream",
     "text": [
      "CNN_1D\n",
      "For 960 epochs, with a learning rate of 0.0025\n",
      "23.1\n",
      "==========\n",
      "CNN_dropout\n",
      "For 1220 epochs, with a learning rate of 0.001\n",
      "21.3\n",
      "==========\n",
      "CNN_batchnorm\n",
      "For 170 epochs, with a learning rate of 0.0025\n",
      "23.7\n",
      "==========\n",
      "CNN_both\n",
      "For 100 epochs, with a learning rate of 0.005\n",
      "27.0\n",
      "==========\n"
     ]
    }
   ],
   "source": [
    "error_rates = []\n",
    "for m in models:\n",
    "    model = m()\n",
    "    json_res = json.load(open('results/adam/'+model.__class__.__name__+'.json','r'))\n",
    "    print(json_res[\"model\"])\n",
    "    print(\"For\", json_res['best_epoch'], \"epochs, with a learning rate of\", json_res['best_lr'])\n",
    "    train_model(model, Variable(train_input), Variable(train_target), json_res['mini_batch_size'], nb_epochs=json_res['best_epoch'], learning_rate=json_res['best_lr'], verbose=False)\n",
    "    test_error = compute_nb_errors(model, Variable(test_input), Variable(test_target))\n",
    "    print(100*(test_error/test_input.size(0)))\n",
    "    error_rates.append(100*(test_error/test_input.size(0)))\n",
    "    print(\"=\"*10)"
   ]
  },
  {
   "cell_type": "code",
   "execution_count": null,
   "metadata": {
    "collapsed": true
   },
   "outputs": [],
   "source": []
  },
  {
   "cell_type": "code",
   "execution_count": null,
   "metadata": {
    "collapsed": true
   },
   "outputs": [],
   "source": []
  },
  {
   "cell_type": "code",
   "execution_count": null,
   "metadata": {
    "collapsed": true
   },
   "outputs": [],
   "source": []
  },
  {
   "cell_type": "code",
   "execution_count": 281,
   "metadata": {},
   "outputs": [
    {
     "data": {
      "image/png": "[encoded data removed]",
      "text/plain": [
       "<matplotlib.figure.Figure at 0x10e3ddac8>"
      ]
     },
     "metadata": {},
     "output_type": "display_data"
    }
   ],
   "source": [
    "plt.figure(1)\n",
    "\n",
    "colormap = 'Blues'\n",
    "normal_xticks = normal_results['nb_epochs']\n",
    "normal_yticks = normal_results['learning_rates']\n",
    "\n",
    "plt.subplot(221)\n",
    "plt.imshow(np.array(normal_results['results'][0]).T, cmap=colormap)\n",
    "plt.xlabel('Nb of epochs')\n",
    "plt.ylabel('Learning rate')\n",
    "plt.xticks(range(len(normal_xticks)), normal_xticks)\n",
    "plt.yticks(range(len(normal_yticks)), normal_yticks)\n",
    "plt.colorbar(fraction=0.046, pad=0.04)\n",
    "plt.title('Without dropout layer and batch size 20')\n",
    "\n",
    "plt.subplot(222)\n",
    "plt.imshow(np.array(normal_results['results'][1]).T, cmap=colormap)\n",
    "plt.xlabel('Nb of epochs')\n",
    "plt.ylabel('Learning rate')\n",
    "plt.xticks(range(len(normal_xticks)), normal_xticks)\n",
    "plt.yticks(range(len(normal_yticks)), normal_yticks)\n",
    "plt.colorbar(fraction=0.046, pad=0.04)\n",
    "plt.title('Without dropout layer and batch size 40')\n",
    "\n",
    "dropout_xticks = dropout_results['nb_epochs']\n",
    "dropout_yticks = dropout_results['learning_rates']\n",
    "\n",
    "plt.subplot(223)\n",
    "plt.imshow(dropout_results['results'][0], cmap=colormap)\n",
    "plt.xlabel('Nb of epochs')\n",
    "plt.ylabel('Learning rate')\n",
    "plt.xticks(range(len(dropout_xticks)), dropout_xticks)\n",
    "plt.yticks(range(len(dropout_yticks)), dropout_yticks)\n",
    "plt.colorbar(fraction=0.046, pad=0.04)\n",
    "plt.title('With dropout layer and batch size 20')\n",
    "\n",
    "plt.subplot(224)\n",
    "plt.imshow(dropout_results['results'][1], cmap=colormap)\n",
    "plt.xlabel('Nb of epochs')\n",
    "plt.ylabel('Learning rate')\n",
    "plt.xticks(range(len(dropout_xticks)), dropout_xticks)\n",
    "plt.yticks(range(len(dropout_yticks)), dropout_yticks)\n",
    "plt.colorbar(fraction=0.046, pad=0.04)\n",
    "plt.title('With dropout layer and batch size 40')\n",
    "\n",
    "plt.tight_layout()\n",
    "plt.savefig(\"results_1.png\")\n",
    "plt.show()"
   ]
  },
  {
   "cell_type": "code",
   "execution_count": null,
   "metadata": {
    "collapsed": true
   },
   "outputs": [],
   "source": []
  }
 ],
 "metadata": {
  "kernelspec": {
   "display_name": "Python 3",
   "language": "python",
   "name": "python3"
  },
  "language_info": {
   "codemirror_mode": {
    "name": "ipython",
    "version": 3
   },
   "file_extension": ".py",
   "mimetype": "text/x-python",
   "name": "python",
   "nbconvert_exporter": "python",
   "pygments_lexer": "ipython3",
   "version": "3.6.3"
  }
 },
 "nbformat": 4,
 "nbformat_minor": 2
}
