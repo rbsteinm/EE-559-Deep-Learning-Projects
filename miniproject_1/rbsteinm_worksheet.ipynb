{
 "cells": [
  {
   "cell_type": "markdown",
   "metadata": {},
   "source": [
    "## Linear Regression"
   ]
  },
  {
   "cell_type": "code",
   "execution_count": 19,
   "metadata": {},
   "outputs": [
    {
     "name": "stdout",
     "output_type": "stream",
     "text": [
      "The autoreload extension is already loaded. To reload it, use:\n",
      "  %reload_ext autoreload\n"
     ]
    }
   ],
   "source": [
    "from sklearn import datasets\n",
    "from sklearn.model_selection import cross_val_predict\n",
    "from sklearn import linear_model\n",
    "import matplotlib.pyplot as plt\n",
    "\n",
    "import torch\n",
    "from torch.autograd import Variable\n",
    "from torch import nn\n",
    "from torch.nn import functional as F\n",
    "\n",
    "from helpers import *\n",
    "\n",
    "%load_ext autoreload\n",
    "%autoreload 2"
   ]
  },
  {
   "cell_type": "markdown",
   "metadata": {},
   "source": [
    "## Loading the data"
   ]
  },
  {
   "cell_type": "code",
   "execution_count": 20,
   "metadata": {},
   "outputs": [
    {
     "name": "stdout",
     "output_type": "stream",
     "text": [
      "<class 'torch.FloatTensor'> torch.Size([316, 28, 50])\n",
      "<class 'torch.LongTensor'> torch.Size([316])\n",
      "<class 'torch.FloatTensor'> torch.Size([100, 28, 50])\n",
      "<class 'torch.LongTensor'> torch.Size([100])\n"
     ]
    }
   ],
   "source": [
    "import dlc_bci as bci\n",
    "train_input , train_target = bci.load(root = './data_bci')\n",
    "print(str(type(train_input)), train_input.size()) \n",
    "print(str(type(train_target)), train_target.size())\n",
    "test_input , test_target = bci.load(root = './data_bci', train = False)\n",
    "print(str(type(test_input)), test_input.size()) \n",
    "print(str(type(test_target)), test_target.size())"
   ]
  },
  {
   "cell_type": "markdown",
   "metadata": {},
   "source": [
    "## Linear Regression"
   ]
  },
  {
   "cell_type": "code",
   "execution_count": 4,
   "metadata": {},
   "outputs": [],
   "source": [
    "lr = linear_model.LinearRegression()\n",
    "\n",
    "X_train = train_input.view(train_input.size(0), -1)\n",
    "X_test = test_input.view(test_input.size(0), -1)\n",
    "\n",
    "# cross_val_predict returns an array of the same size as `y` where each entry\n",
    "# is a prediction obtained by cross validation:\n",
    "lr.fit(X=X_train, y=train_target)\n",
    "preds = lr.predict(X_test)\n",
    "\n",
    "preds = torch.FloatTensor(preds)"
   ]
  },
  {
   "cell_type": "code",
   "execution_count": 5,
   "metadata": {},
   "outputs": [
    {
     "name": "stdout",
     "output_type": "stream",
     "text": [
      "Accuracy 73.0%\n"
     ]
    }
   ],
   "source": [
    "preds = discrete_predictions(preds)\n",
    "accuracy = compute_accuracy(test_target, preds)\n",
    "print('Accuracy ' + str(accuracy*100) + '%')"
   ]
  },
  {
   "cell_type": "markdown",
   "metadata": {},
   "source": [
    "## Neural Network"
   ]
  },
  {
   "cell_type": "code",
   "execution_count": 40,
   "metadata": {},
   "outputs": [],
   "source": [
    "# load data\n",
    "train_input , train_target = bci.load(root = './data_bci')\n",
    "test_input , test_target = bci.load(root = './data_bci', train = False)"
   ]
  },
  {
   "cell_type": "code",
   "execution_count": 41,
   "metadata": {},
   "outputs": [],
   "source": [
    "train_input2 = train_input[0:300]\n",
    "train_target2 = train_target[0:300]"
   ]
  },
  {
   "cell_type": "code",
   "execution_count": 32,
   "metadata": {},
   "outputs": [
    {
     "name": "stdout",
     "output_type": "stream",
     "text": [
      "done\n"
     ]
    }
   ],
   "source": [
    "# normalize mean to 0\n",
    "train_input.sub_(train_input.mean())\n",
    "test_input.sub_(test_input.mean())\n",
    "\n",
    "# normalize variance to 1\n",
    "train_input.div_(train_input.std())\n",
    "test_input.div_(test_input.std())\n",
    "\n",
    "print('done')"
   ]
  },
  {
   "cell_type": "code",
   "execution_count": 42,
   "metadata": {},
   "outputs": [],
   "source": [
    "class Net(nn.Module):\n",
    "    def __init__(self, nb_hidden=64):\n",
    "        super(Net, self).__init__()\n",
    "        self.conv1 = nn.Conv2d(1, 32, kernel_size=5)\n",
    "        self.conv2 = nn.Conv2d(32, 64, kernel_size=5)\n",
    "        self.fc1 = nn.Linear(640, 2)\n",
    "\n",
    "    def forward(self, x):\n",
    "        #print(\"======\")\n",
    "        #print(x.size())\n",
    "        x = F.tanh(F.max_pool2d(self.conv1(x), kernel_size=3, stride=3))\n",
    "        #print(x.size())\n",
    "        x = F.tanh(F.max_pool2d(self.conv2(x), kernel_size=2, stride=2))\n",
    "        #print(x.size())\n",
    "        x = F.tanh(self.fc1(x.view(-1, 640)))\n",
    "        #print(x.size())\n",
    "        #print(\"======\")\n",
    "        return x"
   ]
  },
  {
   "cell_type": "code",
   "execution_count": 59,
   "metadata": {
    "scrolled": true
   },
   "outputs": [
    {
     "name": "stdout",
     "output_type": "stream",
     "text": [
      "0: 21.703055202960968\n",
      "1: 20.777284920215607\n",
      "2: 20.587969839572906\n",
      "3: 20.359611749649048\n",
      "4: 20.005020201206207\n",
      "5: 19.586762249469757\n",
      "6: 19.022407293319702\n",
      "7: 18.390847593545914\n",
      "8: 17.583850502967834\n",
      "9: 16.90441805124283\n",
      "10: 16.22645789384842\n",
      "11: 15.550996750593185\n",
      "12: 14.910525143146515\n",
      "13: 14.232996761798859\n",
      "14: 14.136222004890442\n",
      "15: 13.863037198781967\n",
      "16: 12.768241316080093\n",
      "17: 11.960491716861725\n",
      "18: 11.502115219831467\n",
      "19: 11.319451689720154\n",
      "20: 10.929494619369507\n",
      "21: 9.91102509200573\n",
      "22: 9.63757948577404\n",
      "23: 9.272901833057404\n",
      "24: 9.108431920409203\n",
      "25: 8.391026750206947\n",
      "26: 7.939201042056084\n",
      "27: 7.767505526542664\n",
      "28: 7.292846530675888\n",
      "29: 7.086508825421333\n",
      "30: 6.755961567163467\n",
      "31: 6.664888724684715\n",
      "32: 6.392997086048126\n",
      "33: 6.45441997051239\n",
      "34: 6.230731621384621\n",
      "35: 5.868110284209251\n",
      "36: 5.824722006917\n",
      "37: 5.683975234627724\n",
      "38: 5.499234184622765\n",
      "39: 5.4962416142225266\n",
      "40: 5.536109626293182\n",
      "41: 5.207741603255272\n",
      "42: 5.139477074146271\n",
      "43: 5.0484001487493515\n",
      "44: 4.982447117567062\n",
      "45: 4.936472535133362\n",
      "46: 4.863870352506638\n",
      "47: 4.81115597486496\n",
      "48: 4.7699557691812515\n",
      "49: 4.7274696826934814\n"
     ]
    }
   ],
   "source": [
    "my_cool_net = Net()\n",
    "train_model(my_cool_net, Variable(train_input2.view(-1, 1, 28, 50)), Variable(train_target2), 10, nb_epochs=50, step_size=1e-2)"
   ]
  },
  {
   "cell_type": "markdown",
   "metadata": {},
   "source": [
    "#### Compute error rate"
   ]
  },
  {
   "cell_type": "code",
   "execution_count": 60,
   "metadata": {},
   "outputs": [],
   "source": [
    "nb_errors = compute_nb_errors(my_cool_net, Variable(test_input.view(-1, 1, 28, 50)), Variable(test_target), 4)"
   ]
  },
  {
   "cell_type": "code",
   "execution_count": 61,
   "metadata": {},
   "outputs": [
    {
     "data": {
      "text/plain": [
       "0.38"
      ]
     },
     "execution_count": 61,
     "metadata": {},
     "output_type": "execute_result"
    }
   ],
   "source": [
    "nb_errors/test_input.size(0)"
   ]
  },
  {
   "cell_type": "markdown",
   "metadata": {},
   "source": [
    "#### Grid search on model parameters"
   ]
  },
  {
   "cell_type": "code",
   "execution_count": null,
   "metadata": {},
   "outputs": [],
   "source": [
    "step_sizes = [0.01, 0.005, 0.0025, 0.001, 0.0005]\n",
    "nb_iters = [25, 50, 100, 250, 500]\n",
    "\n",
    "res = []\n",
    "\n",
    "for lr in step_sizes:\n",
    "    results = []"
   ]
  }
 ],
 "metadata": {
  "kernelspec": {
   "display_name": "Python 3",
   "language": "python",
   "name": "python3"
  },
  "language_info": {
   "codemirror_mode": {
    "name": "ipython",
    "version": 3
   },
   "file_extension": ".py",
   "mimetype": "text/x-python",
   "name": "python",
   "nbconvert_exporter": "python",
   "pygments_lexer": "ipython3",
   "version": "3.5.2"
  }
 },
 "nbformat": 4,
 "nbformat_minor": 2
}
